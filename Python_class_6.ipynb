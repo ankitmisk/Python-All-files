{
 "cells": [
  {
   "cell_type": "code",
   "execution_count": 1,
   "id": "5bcaaaed",
   "metadata": {},
   "outputs": [],
   "source": [
    "# Logical Op\n",
    "# Bitwise op\n",
    "\n",
    "# string topic continue"
   ]
  },
  {
   "cell_type": "markdown",
   "id": "5be900ca",
   "metadata": {},
   "source": [
    "# Logical Op\n",
    "- 1>>- and\n",
    "- 2>> or\n",
    "- 3>> not"
   ]
  },
  {
   "cell_type": "code",
   "execution_count": 3,
   "id": "19fb164a",
   "metadata": {},
   "outputs": [
    {
     "data": {
      "text/plain": [
       "False"
      ]
     },
     "execution_count": 3,
     "metadata": {},
     "output_type": "execute_result"
    }
   ],
   "source": [
    "a = 'mohan'\n",
    "b = 'karan'\n",
    "c = 23\n",
    "d = 45\n",
    "e = a\n",
    "\n",
    "\n",
    "a<b  and c>d  and e==a and d>=c\n",
    "# f         f        t        t"
   ]
  },
  {
   "cell_type": "code",
   "execution_count": 4,
   "id": "3e31a142",
   "metadata": {},
   "outputs": [
    {
     "data": {
      "text/plain": [
       "True"
      ]
     },
     "execution_count": 4,
     "metadata": {},
     "output_type": "execute_result"
    }
   ],
   "source": [
    "a = 'mohan'\n",
    "b = 'karan'\n",
    "c = 23\n",
    "d = 45\n",
    "e = a\n",
    "\n",
    "\n",
    "a>b  and c<d  and e==a and d>=c\n",
    "# t         t        t        t"
   ]
  },
  {
   "cell_type": "code",
   "execution_count": 5,
   "id": "698ecc18",
   "metadata": {},
   "outputs": [],
   "source": [
    "# # or concept\n",
    "\n",
    "# if all false:- False\n",
    "# if any one is true:- True"
   ]
  },
  {
   "cell_type": "code",
   "execution_count": 7,
   "id": "6573ec1c",
   "metadata": {},
   "outputs": [
    {
     "data": {
      "text/plain": [
       "False"
      ]
     },
     "execution_count": 7,
     "metadata": {},
     "output_type": "execute_result"
    }
   ],
   "source": [
    "a = 'mohan'\n",
    "b = 'karan'\n",
    "c = 23\n",
    "d = 45\n",
    "e = a\n",
    "\n",
    "a<b  or c==d  or d<c  or e==a or c>d\n",
    "# f        f        f        t      f"
   ]
  },
  {
   "cell_type": "code",
   "execution_count": 8,
   "id": "a0c23cd5",
   "metadata": {},
   "outputs": [
    {
     "data": {
      "text/plain": [
       "True"
      ]
     },
     "execution_count": 8,
     "metadata": {},
     "output_type": "execute_result"
    }
   ],
   "source": [
    "a = 'mohan'\n",
    "b = 'karan'\n",
    "c = 23\n",
    "d = 45\n",
    "e = a\n",
    "\n",
    "a<b  or c==d  or d<c  or e==a or c>d\n",
    "# f        f        f        t      f\n"
   ]
  },
  {
   "cell_type": "code",
   "execution_count": 10,
   "id": "101e7f78",
   "metadata": {},
   "outputs": [
    {
     "name": "stdout",
     "output_type": "stream",
     "text": [
      "Enter your user id: aman_verma\n",
      "Enter yout password: aman@verma123\n",
      "Welcome!!\n"
     ]
    }
   ],
   "source": [
    "userid = 'aman_verma'\n",
    "\n",
    "pwd = 'aman@verma123'\n",
    "\n",
    "user = input('Enter your user id: ')\n",
    "password = input('Enter yout password: ')\n",
    "\n",
    "if user == userid and pwd == password:\n",
    "    print('Welcome!!')\n",
    "else:\n",
    "    print('Incorrect Password or userid')"
   ]
  },
  {
   "cell_type": "code",
   "execution_count": 11,
   "id": "7e38af20",
   "metadata": {},
   "outputs": [],
   "source": [
    "# not:- just reverse the results"
   ]
  },
  {
   "cell_type": "code",
   "execution_count": 15,
   "id": "2686a161",
   "metadata": {},
   "outputs": [
    {
     "data": {
      "text/plain": [
       "False"
      ]
     },
     "execution_count": 15,
     "metadata": {},
     "output_type": "execute_result"
    }
   ],
   "source": [
    "a = 23\n",
    "b = 45\n",
    "\n",
    "not(not(not(a<b)))"
   ]
  },
  {
   "cell_type": "code",
   "execution_count": null,
   "id": "c5e020b8",
   "metadata": {},
   "outputs": [],
   "source": []
  },
  {
   "cell_type": "code",
   "execution_count": null,
   "id": "b30ade6a",
   "metadata": {},
   "outputs": [],
   "source": []
  },
  {
   "cell_type": "code",
   "execution_count": 16,
   "id": "e85dd316",
   "metadata": {},
   "outputs": [],
   "source": [
    "#  Bitwise op"
   ]
  },
  {
   "cell_type": "code",
   "execution_count": 17,
   "id": "3682474f",
   "metadata": {},
   "outputs": [],
   "source": [
    "# 01010101001001001001"
   ]
  },
  {
   "cell_type": "code",
   "execution_count": 18,
   "id": "9fe065e7",
   "metadata": {},
   "outputs": [],
   "source": [
    "a = 5\n",
    "b = 7"
   ]
  },
  {
   "cell_type": "code",
   "execution_count": 20,
   "id": "4eddfe14",
   "metadata": {},
   "outputs": [
    {
     "data": {
      "text/plain": [
       "'0b111'"
      ]
     },
     "execution_count": 20,
     "metadata": {},
     "output_type": "execute_result"
    }
   ],
   "source": [
    "bin(7)"
   ]
  },
  {
   "cell_type": "code",
   "execution_count": 21,
   "id": "319c6411",
   "metadata": {},
   "outputs": [
    {
     "data": {
      "text/plain": [
       "111"
      ]
     },
     "execution_count": 21,
     "metadata": {},
     "output_type": "execute_result"
    }
   ],
   "source": [
    "101\n",
    "111\n",
    "\n",
    "# (2)(lcm)()"
   ]
  },
  {
   "cell_type": "code",
   "execution_count": 23,
   "id": "93964a8c",
   "metadata": {},
   "outputs": [],
   "source": [
    "# bitwise\n",
    "# and &"
   ]
  },
  {
   "cell_type": "code",
   "execution_count": null,
   "id": "ca2b187e",
   "metadata": {},
   "outputs": [],
   "source": [
    "a = 5\n",
    "b = 7\n",
    "\n",
    "#101\n",
    "#111\n",
    "#101"
   ]
  },
  {
   "cell_type": "code",
   "execution_count": 24,
   "id": "eab44d40",
   "metadata": {},
   "outputs": [
    {
     "data": {
      "text/plain": [
       "5"
      ]
     },
     "execution_count": 24,
     "metadata": {},
     "output_type": "execute_result"
    }
   ],
   "source": [
    "int('101',2)"
   ]
  },
  {
   "cell_type": "code",
   "execution_count": 25,
   "id": "2cf21b94",
   "metadata": {},
   "outputs": [
    {
     "data": {
      "text/plain": [
       "5"
      ]
     },
     "execution_count": 25,
     "metadata": {},
     "output_type": "execute_result"
    }
   ],
   "source": [
    "a & b"
   ]
  },
  {
   "cell_type": "code",
   "execution_count": 27,
   "id": "76ab81c1",
   "metadata": {},
   "outputs": [],
   "source": [
    "a = 12\n",
    "b = 18"
   ]
  },
  {
   "cell_type": "code",
   "execution_count": 29,
   "id": "980fc76d",
   "metadata": {},
   "outputs": [
    {
     "data": {
      "text/plain": [
       "'0b10010'"
      ]
     },
     "execution_count": 29,
     "metadata": {},
     "output_type": "execute_result"
    }
   ],
   "source": [
    "bin(b)"
   ]
  },
  {
   "cell_type": "code",
   "execution_count": null,
   "id": "885c0804",
   "metadata": {},
   "outputs": [],
   "source": [
    "#01100\n",
    "#10010\n",
    "#00000\n",
    "\n"
   ]
  },
  {
   "cell_type": "code",
   "execution_count": 30,
   "id": "e53693a7",
   "metadata": {},
   "outputs": [
    {
     "data": {
      "text/plain": [
       "0"
      ]
     },
     "execution_count": 30,
     "metadata": {},
     "output_type": "execute_result"
    }
   ],
   "source": [
    "int('00000',2)"
   ]
  },
  {
   "cell_type": "code",
   "execution_count": 32,
   "id": "3f1279de",
   "metadata": {},
   "outputs": [
    {
     "name": "stdout",
     "output_type": "stream",
     "text": [
      "0\n"
     ]
    }
   ],
   "source": [
    "a = 12\n",
    "b = 18\n",
    "print(a & b)"
   ]
  },
  {
   "cell_type": "code",
   "execution_count": 33,
   "id": "d1dce8ef",
   "metadata": {},
   "outputs": [],
   "source": [
    "# Bitwise |\n",
    "# |:- or"
   ]
  },
  {
   "cell_type": "code",
   "execution_count": 34,
   "id": "91ca6650",
   "metadata": {},
   "outputs": [],
   "source": [
    "#01100\n",
    "#10010\n",
    "#11110"
   ]
  },
  {
   "cell_type": "code",
   "execution_count": 35,
   "id": "7318ba1b",
   "metadata": {},
   "outputs": [
    {
     "data": {
      "text/plain": [
       "30"
      ]
     },
     "execution_count": 35,
     "metadata": {},
     "output_type": "execute_result"
    }
   ],
   "source": [
    "int('11110',2)"
   ]
  },
  {
   "cell_type": "code",
   "execution_count": 36,
   "id": "5fb6605f",
   "metadata": {},
   "outputs": [
    {
     "name": "stdout",
     "output_type": "stream",
     "text": [
      "30\n"
     ]
    }
   ],
   "source": [
    "a = 12\n",
    "b = 18\n",
    "\n",
    "print(a | b)"
   ]
  },
  {
   "cell_type": "code",
   "execution_count": 37,
   "id": "cb2b148c",
   "metadata": {},
   "outputs": [],
   "source": [
    "a = 10"
   ]
  },
  {
   "cell_type": "code",
   "execution_count": 38,
   "id": "266bb825",
   "metadata": {},
   "outputs": [
    {
     "data": {
      "text/plain": [
       "-11"
      ]
     },
     "execution_count": 38,
     "metadata": {},
     "output_type": "execute_result"
    }
   ],
   "source": [
    "~a"
   ]
  },
  {
   "cell_type": "code",
   "execution_count": 39,
   "id": "eb6037a4",
   "metadata": {},
   "outputs": [
    {
     "data": {
      "text/plain": [
       "-57"
      ]
     },
     "execution_count": 39,
     "metadata": {},
     "output_type": "execute_result"
    }
   ],
   "source": [
    "a = 56\n",
    "~a"
   ]
  },
  {
   "cell_type": "code",
   "execution_count": 40,
   "id": "95474a48",
   "metadata": {},
   "outputs": [],
   "source": [
    "# string topic continue"
   ]
  },
  {
   "cell_type": "code",
   "execution_count": 42,
   "id": "a7a4c3a2",
   "metadata": {},
   "outputs": [],
   "source": [
    "a = 'Mohanlal kanpur vale'"
   ]
  },
  {
   "cell_type": "code",
   "execution_count": 43,
   "id": "a0da283f",
   "metadata": {},
   "outputs": [],
   "source": [
    "#indexing\n",
    "\n",
    "a = 'python'\n",
    "#    012345"
   ]
  },
  {
   "cell_type": "code",
   "execution_count": 46,
   "id": "c0248263",
   "metadata": {},
   "outputs": [],
   "source": [
    "# we can call our elements/char from main strings"
   ]
  },
  {
   "cell_type": "code",
   "execution_count": 47,
   "id": "b26449f0",
   "metadata": {},
   "outputs": [
    {
     "data": {
      "text/plain": [
       "'t'"
      ]
     },
     "execution_count": 47,
     "metadata": {},
     "output_type": "execute_result"
    }
   ],
   "source": [
    "a[2]"
   ]
  },
  {
   "cell_type": "code",
   "execution_count": 48,
   "id": "f742fa07",
   "metadata": {},
   "outputs": [
    {
     "data": {
      "text/plain": [
       "'n'"
      ]
     },
     "execution_count": 48,
     "metadata": {},
     "output_type": "execute_result"
    }
   ],
   "source": [
    "a[5]"
   ]
  },
  {
   "cell_type": "code",
   "execution_count": 49,
   "id": "7266cf7d",
   "metadata": {},
   "outputs": [
    {
     "ename": "IndexError",
     "evalue": "string index out of range",
     "output_type": "error",
     "traceback": [
      "\u001b[1;31m---------------------------------------------------------------------------\u001b[0m",
      "\u001b[1;31mIndexError\u001b[0m                                Traceback (most recent call last)",
      "Cell \u001b[1;32mIn[49], line 1\u001b[0m\n\u001b[1;32m----> 1\u001b[0m a[\u001b[38;5;241m10\u001b[39m]\n",
      "\u001b[1;31mIndexError\u001b[0m: string index out of range"
     ]
    }
   ],
   "source": [
    "a[10]"
   ]
  },
  {
   "cell_type": "code",
   "execution_count": 50,
   "id": "7f8d1aae",
   "metadata": {},
   "outputs": [
    {
     "data": {
      "text/plain": [
       "'p'"
      ]
     },
     "execution_count": 50,
     "metadata": {},
     "output_type": "execute_result"
    }
   ],
   "source": [
    "a[0]"
   ]
  },
  {
   "cell_type": "code",
   "execution_count": 52,
   "id": "c9b66d19",
   "metadata": {},
   "outputs": [
    {
     "name": "stdout",
     "output_type": "stream",
     "text": [
      "o\n"
     ]
    }
   ],
   "source": [
    "# Positive indexing\n",
    "\n",
    "a = 'python'\n",
    "#    012345\n",
    "\n",
    "print(a[4])"
   ]
  },
  {
   "cell_type": "code",
   "execution_count": 53,
   "id": "4b9bb6d1",
   "metadata": {},
   "outputs": [],
   "source": [
    "# negative indexing\n",
    "a = 'python'\n",
    "#     -6-5-4-3-2-1"
   ]
  },
  {
   "cell_type": "code",
   "execution_count": 54,
   "id": "4f43eff2",
   "metadata": {},
   "outputs": [
    {
     "data": {
      "text/plain": [
       "'n'"
      ]
     },
     "execution_count": 54,
     "metadata": {},
     "output_type": "execute_result"
    }
   ],
   "source": [
    "a[-1]"
   ]
  },
  {
   "cell_type": "code",
   "execution_count": 55,
   "id": "04a55211",
   "metadata": {},
   "outputs": [
    {
     "data": {
      "text/plain": [
       "True"
      ]
     },
     "execution_count": 55,
     "metadata": {},
     "output_type": "execute_result"
    }
   ],
   "source": [
    "a[2] == a[-4]"
   ]
  },
  {
   "cell_type": "code",
   "execution_count": 56,
   "id": "e9e54556",
   "metadata": {},
   "outputs": [
    {
     "data": {
      "text/plain": [
       "True"
      ]
     },
     "execution_count": 56,
     "metadata": {},
     "output_type": "execute_result"
    }
   ],
   "source": [
    "a[0] == a[-6]"
   ]
  },
  {
   "cell_type": "code",
   "execution_count": 59,
   "id": "5825244f",
   "metadata": {},
   "outputs": [
    {
     "data": {
      "text/plain": [
       "'hello python'"
      ]
     },
     "execution_count": 59,
     "metadata": {},
     "output_type": "execute_result"
    }
   ],
   "source": [
    "a = 'python'\n",
    "b = 'hello '\n",
    "\n",
    "b+a"
   ]
  },
  {
   "cell_type": "code",
   "execution_count": 68,
   "id": "60c04913",
   "metadata": {},
   "outputs": [
    {
     "data": {
      "text/plain": [
       "'ytho'"
      ]
     },
     "execution_count": 68,
     "metadata": {},
     "output_type": "execute_result"
    }
   ],
   "source": [
    "a = 'python'\n",
    "a[1]+a[2]+a[3]+a[-2]"
   ]
  },
  {
   "cell_type": "code",
   "execution_count": 74,
   "id": "5c970d21",
   "metadata": {},
   "outputs": [
    {
     "data": {
      "text/plain": [
       "'index out'"
      ]
     },
     "execution_count": 74,
     "metadata": {},
     "output_type": "execute_result"
    }
   ],
   "source": [
    "b = 'string index out of range'\n",
    "\n",
    "b[7]+b[8]+b[9]+b[10]+b[11]+b[12]+b[13]+b[14]+b[15]"
   ]
  },
  {
   "cell_type": "code",
   "execution_count": 75,
   "id": "9019783a",
   "metadata": {},
   "outputs": [],
   "source": [
    "# slicing method"
   ]
  },
  {
   "cell_type": "code",
   "execution_count": 76,
   "id": "69f44b26",
   "metadata": {},
   "outputs": [
    {
     "data": {
      "text/plain": [
       "'index out'"
      ]
     },
     "execution_count": 76,
     "metadata": {},
     "output_type": "execute_result"
    }
   ],
   "source": [
    "b[7:16]"
   ]
  },
  {
   "cell_type": "code",
   "execution_count": 77,
   "id": "9cd634a1",
   "metadata": {},
   "outputs": [],
   "source": [
    "# [start:stop]"
   ]
  },
  {
   "cell_type": "code",
   "execution_count": 79,
   "id": "e50ed8d9",
   "metadata": {},
   "outputs": [
    {
     "data": {
      "text/plain": [
       "'of'"
      ]
     },
     "execution_count": 79,
     "metadata": {},
     "output_type": "execute_result"
    }
   ],
   "source": [
    "b = 'string index out of range'\n",
    "\n",
    "b[-8:-6]"
   ]
  },
  {
   "cell_type": "code",
   "execution_count": 80,
   "id": "28744573",
   "metadata": {},
   "outputs": [],
   "source": [
    "# [start:stop:step]"
   ]
  },
  {
   "cell_type": "code",
   "execution_count": 85,
   "id": "665bd1b0",
   "metadata": {},
   "outputs": [
    {
     "data": {
      "text/plain": [
       "'Mnes'"
      ]
     },
     "execution_count": 85,
     "metadata": {},
     "output_type": "execute_result"
    }
   ],
   "source": [
    "a = 'My name is hello world'\n",
    "\n",
    "a[0:10:3]"
   ]
  },
  {
   "cell_type": "code",
   "execution_count": 89,
   "id": "fef40d7c",
   "metadata": {},
   "outputs": [
    {
     "data": {
      "text/plain": [
       "'My name is hello world'"
      ]
     },
     "execution_count": 89,
     "metadata": {},
     "output_type": "execute_result"
    }
   ],
   "source": [
    "a[0:]"
   ]
  },
  {
   "cell_type": "code",
   "execution_count": 90,
   "id": "48d5afd5",
   "metadata": {},
   "outputs": [
    {
     "data": {
      "text/plain": [
       "'My name is hello world'"
      ]
     },
     "execution_count": 90,
     "metadata": {},
     "output_type": "execute_result"
    }
   ],
   "source": [
    "a[:]"
   ]
  },
  {
   "cell_type": "code",
   "execution_count": 91,
   "id": "01c297fa",
   "metadata": {},
   "outputs": [
    {
     "data": {
      "text/plain": [
       "'nohtyp'"
      ]
     },
     "execution_count": 91,
     "metadata": {},
     "output_type": "execute_result"
    }
   ],
   "source": [
    "a = 'python'\n",
    "\n",
    "# 'nohtyp'\n",
    "\n",
    "a[::-1]"
   ]
  },
  {
   "cell_type": "code",
   "execution_count": 92,
   "id": "bd958828",
   "metadata": {},
   "outputs": [
    {
     "data": {
      "text/plain": [
       "'nahom'"
      ]
     },
     "execution_count": 92,
     "metadata": {},
     "output_type": "execute_result"
    }
   ],
   "source": [
    "a = 'mohan'\n",
    "a[::-1]"
   ]
  },
  {
   "cell_type": "code",
   "execution_count": 94,
   "id": "862cb400",
   "metadata": {},
   "outputs": [
    {
     "data": {
      "text/plain": [
       "'naho'"
      ]
     },
     "execution_count": 94,
     "metadata": {},
     "output_type": "execute_result"
    }
   ],
   "source": [
    "a[:-5:-1]"
   ]
  },
  {
   "cell_type": "code",
   "execution_count": 95,
   "id": "110edab6",
   "metadata": {},
   "outputs": [],
   "source": [
    "a = 'mohan'"
   ]
  },
  {
   "cell_type": "code",
   "execution_count": 99,
   "id": "39bf5f2e",
   "metadata": {},
   "outputs": [
    {
     "data": {
      "text/plain": [
       "'h'"
      ]
     },
     "execution_count": 99,
     "metadata": {},
     "output_type": "execute_result"
    }
   ],
   "source": [
    "a[2]"
   ]
  },
  {
   "cell_type": "code",
   "execution_count": 106,
   "id": "2067eda7",
   "metadata": {},
   "outputs": [
    {
     "data": {
      "text/plain": [
       "True"
      ]
     },
     "execution_count": 106,
     "metadata": {},
     "output_type": "execute_result"
    }
   ],
   "source": [
    "# palindrome\n",
    "\n",
    "a  = 'nayan'\n",
    "\n",
    "a == a[::-1]"
   ]
  },
  {
   "cell_type": "code",
   "execution_count": null,
   "id": "d6c0f7b4",
   "metadata": {},
   "outputs": [],
   "source": []
  },
  {
   "cell_type": "code",
   "execution_count": 107,
   "id": "4a2eddee",
   "metadata": {},
   "outputs": [],
   "source": [
    "# String Methods"
   ]
  },
  {
   "cell_type": "code",
   "execution_count": 108,
   "id": "40b956c2",
   "metadata": {},
   "outputs": [
    {
     "data": {
      "text/plain": [
       "'NAYAN'"
      ]
     },
     "execution_count": 108,
     "metadata": {},
     "output_type": "execute_result"
    }
   ],
   "source": [
    "a = 'nayan'\n",
    "\n",
    "a.upper()"
   ]
  },
  {
   "cell_type": "code",
   "execution_count": 112,
   "id": "5a7e784d",
   "metadata": {},
   "outputs": [
    {
     "data": {
      "text/plain": [
       "'%%%%%%%nayan%%%%%%%%'"
      ]
     },
     "execution_count": 112,
     "metadata": {},
     "output_type": "execute_result"
    }
   ],
   "source": [
    "a.center(20,'%')"
   ]
  },
  {
   "cell_type": "code",
   "execution_count": null,
   "id": "1899a19c",
   "metadata": {},
   "outputs": [],
   "source": []
  }
 ],
 "metadata": {
  "kernelspec": {
   "display_name": "Python 3 (ipykernel)",
   "language": "python",
   "name": "python3"
  },
  "language_info": {
   "codemirror_mode": {
    "name": "ipython",
    "version": 3
   },
   "file_extension": ".py",
   "mimetype": "text/x-python",
   "name": "python",
   "nbconvert_exporter": "python",
   "pygments_lexer": "ipython3",
   "version": "3.11.3"
  }
 },
 "nbformat": 4,
 "nbformat_minor": 5
}
