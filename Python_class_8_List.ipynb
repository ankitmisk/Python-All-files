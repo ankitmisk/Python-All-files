{
  "nbformat": 4,
  "nbformat_minor": 0,
  "metadata": {
    "colab": {
      "private_outputs": true,
      "provenance": []
    },
    "kernelspec": {
      "name": "python3",
      "display_name": "Python 3"
    },
    "language_info": {
      "name": "python"
    }
  },
  "cells": [
    {
      "cell_type": "code",
      "execution_count": null,
      "metadata": {
        "id": "9kJkPrkfU_72"
      },
      "outputs": [],
      "source": [
        "a = [12,343,421,21,546,4343,2356]"
      ]
    },
    {
      "cell_type": "code",
      "source": [
        "print(a)"
      ],
      "metadata": {
        "id": "JiMB7ZLHVVAt"
      },
      "execution_count": null,
      "outputs": []
    },
    {
      "cell_type": "code",
      "source": [
        "# List features\n",
        "# 1>> List can contain all data types\n",
        "# 2>> Most important Data Types\n",
        "# 3>> List can be nested\n",
        "# 4>> list support indexing\n",
        "# 5>> List also support slicing\n",
        "# 6>> List is mutable(list elements can be change)"
      ],
      "metadata": {
        "id": "2fxGsdgEVeXe"
      },
      "execution_count": null,
      "outputs": []
    },
    {
      "cell_type": "code",
      "source": [
        "a = [1,True,'mohan',[1,2,3,3445],(1,2,3,4,55),{1,3,34,55},\n",
        "     {'Name':'Akshay'},23-9j,None]\n",
        "\n",
        "print(a)"
      ],
      "metadata": {
        "id": "s07t1lEwVm0B"
      },
      "execution_count": null,
      "outputs": []
    },
    {
      "cell_type": "code",
      "source": [
        "a = [1,1,32,4,[3,4,5,66,[4,5,56,67]]]\n",
        "\n",
        "print(a)"
      ],
      "metadata": {
        "id": "c4bFqQpUVyuw"
      },
      "execution_count": null,
      "outputs": []
    },
    {
      "cell_type": "code",
      "source": [
        "# indexing\n",
        "\n",
        "s = [21,34,321,343,6,432,4345,7]\n",
        "print(s)"
      ],
      "metadata": {
        "id": "Ci58ev0YWAk-"
      },
      "execution_count": null,
      "outputs": []
    },
    {
      "cell_type": "code",
      "source": [
        "print(s[4])"
      ],
      "metadata": {
        "id": "5SgrrIPNWV6W"
      },
      "execution_count": null,
      "outputs": []
    },
    {
      "cell_type": "code",
      "source": [
        "print(s[-4])"
      ],
      "metadata": {
        "id": "v6RslqFTWYSh"
      },
      "execution_count": null,
      "outputs": []
    },
    {
      "cell_type": "code",
      "source": [
        "# Slicing(calling more than one elements)"
      ],
      "metadata": {
        "id": "MWSbJpPBWaVC"
      },
      "execution_count": null,
      "outputs": []
    },
    {
      "cell_type": "code",
      "source": [
        "a = [12,344,3321,34,5643,42,3456,6786,865,321,234]\n",
        "# a[start:stop:step]\n",
        "\n",
        "\n",
        "a[3:6]"
      ],
      "metadata": {
        "id": "d9uL-o9pWf0A"
      },
      "execution_count": null,
      "outputs": []
    },
    {
      "cell_type": "code",
      "source": [
        "a[1:-2]"
      ],
      "metadata": {
        "id": "LBw5GD1iWucD"
      },
      "execution_count": null,
      "outputs": []
    },
    {
      "cell_type": "code",
      "source": [
        "a[::2]"
      ],
      "metadata": {
        "id": "mHJqFz3CW4VP"
      },
      "execution_count": null,
      "outputs": []
    },
    {
      "cell_type": "code",
      "source": [
        "b = [23,421,334,65,532,32,5445,76]\n",
        "\n",
        "b[1::5]"
      ],
      "metadata": {
        "id": "h8zMh8YYXMo-"
      },
      "execution_count": null,
      "outputs": []
    },
    {
      "cell_type": "code",
      "source": [
        "b[2::5]"
      ],
      "metadata": {
        "id": "J8uvcXcPXk6z"
      },
      "execution_count": null,
      "outputs": []
    },
    {
      "cell_type": "code",
      "source": [
        "s = [123,4554,432,2124,45,433,214,547,67,34,312,4546,543,32,565,7]"
      ],
      "metadata": {
        "id": "i5hYNYoEX5Dh"
      },
      "execution_count": null,
      "outputs": []
    },
    {
      "cell_type": "code",
      "source": [
        "s[2:-3:5]"
      ],
      "metadata": {
        "id": "xM8pdR-lYIrE"
      },
      "execution_count": null,
      "outputs": []
    },
    {
      "cell_type": "code",
      "source": [
        "d = [12,434,5323,324,3432,43,43,54,654,53,432,443,543,4,3456]\n",
        "\n",
        "\n",
        "d[1:4]"
      ],
      "metadata": {
        "id": "diU5qchXYaED"
      },
      "execution_count": null,
      "outputs": []
    },
    {
      "cell_type": "code",
      "source": [
        "d[5:8]"
      ],
      "metadata": {
        "id": "DlKl026zY9Zq"
      },
      "execution_count": null,
      "outputs": []
    },
    {
      "cell_type": "code",
      "source": [
        "a = [23,4,344312,323,545,643,4325]\n",
        "\n",
        "a[3] = 300"
      ],
      "metadata": {
        "id": "NfuQW_iTZA_R"
      },
      "execution_count": null,
      "outputs": []
    },
    {
      "cell_type": "code",
      "source": [
        "print(a)"
      ],
      "metadata": {
        "id": "_XCKGM_xZT2y"
      },
      "execution_count": null,
      "outputs": []
    },
    {
      "cell_type": "code",
      "source": [
        "a[-2] = None"
      ],
      "metadata": {
        "id": "5LQxBwu3ZXjU"
      },
      "execution_count": null,
      "outputs": []
    },
    {
      "cell_type": "code",
      "source": [
        "print(a)"
      ],
      "metadata": {
        "id": "Dwpjd4leZeIU"
      },
      "execution_count": null,
      "outputs": []
    },
    {
      "cell_type": "code",
      "source": [
        "# 'str' object does not support item assignment\n",
        "# immutatble\n",
        "a = 'python'\n",
        "\n",
        "a[3] = 'p'"
      ],
      "metadata": {
        "id": "ZdZBlqeaZhI7"
      },
      "execution_count": null,
      "outputs": []
    },
    {
      "cell_type": "code",
      "source": [
        "a = ['Mohan','karan','ravi','deepak','mohit','nayan','shayam']"
      ],
      "metadata": {
        "id": "YYAZJVVZZqov"
      },
      "execution_count": null,
      "outputs": []
    },
    {
      "cell_type": "code",
      "source": [
        "a[2:-2] = ['Ravi verma','Deepak Kumar','Mohit Sharma']"
      ],
      "metadata": {
        "id": "FZpl3oSmZ7RE"
      },
      "execution_count": null,
      "outputs": []
    },
    {
      "cell_type": "code",
      "source": [
        "print(a)"
      ],
      "metadata": {
        "id": "XKjd4pYEaDTT"
      },
      "execution_count": null,
      "outputs": []
    },
    {
      "cell_type": "code",
      "source": [
        "a[:2:2]\n",
        "\n",
        "\n",
        "a[:1:-1]"
      ],
      "metadata": {
        "id": "Qb4JPij_aQTY"
      },
      "execution_count": null,
      "outputs": []
    },
    {
      "cell_type": "code",
      "source": [
        "a[:2:-3:-1]"
      ],
      "metadata": {
        "id": "sq1-gCCVavoN"
      },
      "execution_count": null,
      "outputs": []
    },
    {
      "cell_type": "code",
      "source": [
        "a[::-1]"
      ],
      "metadata": {
        "id": "Q9TQCTgCa3LW"
      },
      "execution_count": null,
      "outputs": []
    },
    {
      "cell_type": "code",
      "source": [
        "a[::2]"
      ],
      "metadata": {
        "id": "nkV30dDZbR8S"
      },
      "execution_count": null,
      "outputs": []
    },
    {
      "cell_type": "code",
      "source": [
        "a = [1,2,312,33,43,56545,4323,325]"
      ],
      "metadata": {
        "id": "C9G0lUdRbT7q"
      },
      "execution_count": null,
      "outputs": []
    },
    {
      "cell_type": "code",
      "source": [
        "a[::3]"
      ],
      "metadata": {
        "id": "c0jsXrQIbcRE"
      },
      "execution_count": null,
      "outputs": []
    },
    {
      "cell_type": "code",
      "source": [
        "a[2:6:2]"
      ],
      "metadata": {
        "id": "zmG6cOZnbqL0"
      },
      "execution_count": null,
      "outputs": []
    },
    {
      "cell_type": "code",
      "source": [
        "a = [12,3432,532132,12,4356,454,324,34567,69,546,5323,443,66,7643]\n",
        "\n",
        "\n",
        "a[2:-4:2]"
      ],
      "metadata": {
        "id": "C71QGYg6b9sV"
      },
      "execution_count": null,
      "outputs": []
    },
    {
      "cell_type": "code",
      "source": [
        "a[-6:1:-2]"
      ],
      "metadata": {
        "id": "4tSgRKdhcUR4"
      },
      "execution_count": null,
      "outputs": []
    },
    {
      "cell_type": "code",
      "source": [
        "a[2:-4:2][::-1]"
      ],
      "metadata": {
        "id": "TFevfK_VcPQM"
      },
      "execution_count": null,
      "outputs": []
    },
    {
      "cell_type": "code",
      "source": [
        "a = [12,43,43213,25][::-1]\n",
        "\n",
        "print(a)"
      ],
      "metadata": {
        "id": "azsy2WQQctSx"
      },
      "execution_count": null,
      "outputs": []
    },
    {
      "cell_type": "code",
      "source": [
        "# Basic operations"
      ],
      "metadata": {
        "id": "iFoMjPMRc7kW"
      },
      "execution_count": null,
      "outputs": []
    },
    {
      "cell_type": "code",
      "source": [
        "a = [12,443,57]\n",
        "b = [2,4,676,8]\n",
        "\n",
        "print(a+b)"
      ],
      "metadata": {
        "id": "3GZBJezgdE_Y"
      },
      "execution_count": null,
      "outputs": []
    },
    {
      "cell_type": "code",
      "source": [
        "a = [12,443,57]\n",
        "b = [2,4,676,8]\n",
        "\n",
        "print(a-b)"
      ],
      "metadata": {
        "id": "a_Q0xmK0dHgw"
      },
      "execution_count": null,
      "outputs": []
    },
    {
      "cell_type": "code",
      "source": [
        "a = [12,443,57]\n",
        "b = [2,4,676,8]\n",
        "\n",
        "print(a*10)"
      ],
      "metadata": {
        "id": "vSS0m0gCdJ7m"
      },
      "execution_count": null,
      "outputs": []
    },
    {
      "cell_type": "code",
      "source": [
        "a = [1]*100\n",
        "\n",
        "print(a)"
      ],
      "metadata": {
        "id": "fjLh8m4odPr-"
      },
      "execution_count": null,
      "outputs": []
    },
    {
      "cell_type": "code",
      "source": [
        "# Empty list\n",
        "\n",
        "s = []\n",
        "\n",
        "print(s)"
      ],
      "metadata": {
        "id": "Q8js-BeEdU8f"
      },
      "execution_count": null,
      "outputs": []
    },
    {
      "cell_type": "code",
      "source": [
        "s = [12,4346,434,25]\n",
        "\n",
        "len(s)"
      ],
      "metadata": {
        "id": "AnO9Oi7ZddaT"
      },
      "execution_count": null,
      "outputs": []
    },
    {
      "cell_type": "code",
      "source": [
        "s = []\n",
        "\n",
        "print(s)\n",
        "\n",
        "print(len(s))"
      ],
      "metadata": {
        "id": "miX0BtItdiM3"
      },
      "execution_count": null,
      "outputs": []
    },
    {
      "cell_type": "code",
      "source": [
        "s = [12,43,46,[4,325,437,6]]\n",
        "\n",
        "s[3][1]"
      ],
      "metadata": {
        "id": "Zim669GMdlFx"
      },
      "execution_count": null,
      "outputs": []
    },
    {
      "cell_type": "code",
      "source": [
        "s = [12,43,46,[4,325,437,6]]\n",
        "\n",
        "s[3][1] = 123456787654"
      ],
      "metadata": {
        "id": "HCAA6oIpdyrc"
      },
      "execution_count": null,
      "outputs": []
    },
    {
      "cell_type": "code",
      "source": [
        "print(s)"
      ],
      "metadata": {
        "id": "mn3NWs2Nd7_Q"
      },
      "execution_count": null,
      "outputs": []
    },
    {
      "cell_type": "code",
      "source": [
        "d = [21,334,44,1234,[1,32,235,34432,443,6,[3,234,5476,876]]]\n",
        "\n",
        "# print(d)"
      ],
      "metadata": {
        "id": "xkhXN4eud89m"
      },
      "execution_count": null,
      "outputs": []
    },
    {
      "cell_type": "code",
      "source": [
        "d[4][6][2] = 0"
      ],
      "metadata": {
        "id": "BRj-k2bEeHjA"
      },
      "execution_count": null,
      "outputs": []
    },
    {
      "cell_type": "code",
      "source": [
        "print(d)"
      ],
      "metadata": {
        "id": "5RIJhadUeTW3"
      },
      "execution_count": null,
      "outputs": []
    },
    {
      "cell_type": "code",
      "source": [],
      "metadata": {
        "id": "RmhZN_eVeck4"
      },
      "execution_count": null,
      "outputs": []
    }
  ]
}