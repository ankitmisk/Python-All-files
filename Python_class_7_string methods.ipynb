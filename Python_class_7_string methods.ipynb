{
 "cells": [
  {
   "cell_type": "markdown",
   "id": "f56aa6f6",
   "metadata": {},
   "source": [
    "# String Methods"
   ]
  },
  {
   "cell_type": "code",
   "execution_count": 3,
   "id": "39d8996c",
   "metadata": {},
   "outputs": [],
   "source": [
    "# lower()\n",
    "# upper()\n",
    "# title()\n",
    "# capitalize()\n",
    "# split()\n",
    "# partition()\n",
    "# strip()\n",
    "# lstrip()\n",
    "# rstrip()\n",
    "# index()\n",
    "# find()\n",
    "# count()\n",
    "# format(fstring)\n",
    "# isupper()\n",
    "# islower()\n",
    "# etc"
   ]
  },
  {
   "cell_type": "code",
   "execution_count": 6,
   "id": "7772d237",
   "metadata": {},
   "outputs": [
    {
     "name": "stdout",
     "output_type": "stream",
     "text": [
      "MOHAN\n"
     ]
    }
   ],
   "source": [
    "a = 'Mohan'\n",
    "\n",
    "b = a.upper()\n",
    "\n",
    "print(b)"
   ]
  },
  {
   "cell_type": "code",
   "execution_count": 7,
   "id": "4bc4ab1b",
   "metadata": {},
   "outputs": [
    {
     "name": "stdout",
     "output_type": "stream",
     "text": [
      "mohan\n"
     ]
    }
   ],
   "source": [
    "a = 'Mohan'\n",
    "\n",
    "b = a.lower()\n",
    "\n",
    "print(b)"
   ]
  },
  {
   "cell_type": "code",
   "execution_count": 9,
   "id": "b4f34700",
   "metadata": {},
   "outputs": [
    {
     "name": "stdout",
     "output_type": "stream",
     "text": [
      "This Is Python Class\n"
     ]
    }
   ],
   "source": [
    "a = 'This is python class'\n",
    "\n",
    "b = a.title()\n",
    "\n",
    "print(b)"
   ]
  },
  {
   "cell_type": "code",
   "execution_count": 10,
   "id": "f3f2cb21",
   "metadata": {},
   "outputs": [
    {
     "name": "stdout",
     "output_type": "stream",
     "text": [
      "World is here\n"
     ]
    }
   ],
   "source": [
    "a = 'world is here'\n",
    "\n",
    "b = a.capitalize()\n",
    "\n",
    "print(b)"
   ]
  },
  {
   "cell_type": "code",
   "execution_count": 16,
   "id": "e1e3cb74",
   "metadata": {},
   "outputs": [],
   "source": [
    "# split()\n",
    "# splitlines\n",
    "# partition()\n",
    "# strip()\n",
    "# lstrip()\n",
    "# rstrip()\n",
    "# index()\n",
    "# find()\n",
    "# count()\n",
    "# format(fstring)\n",
    "# isupper()\n",
    "# islower()\n",
    "# replace"
   ]
  },
  {
   "cell_type": "code",
   "execution_count": 12,
   "id": "60c72508",
   "metadata": {},
   "outputs": [
    {
     "data": {
      "text/plain": [
       "['This', 'is', 'something', 'new,', 'we', 'are', 'going', 'to', 'start']"
      ]
     },
     "execution_count": 12,
     "metadata": {},
     "output_type": "execute_result"
    }
   ],
   "source": [
    "a = 'This is something new, we are going to start'\n",
    "\n",
    "# ['This','is','something']\n",
    "\n",
    "\n",
    "a.split(' ')"
   ]
  },
  {
   "cell_type": "code",
   "execution_count": 13,
   "id": "7ad270a0",
   "metadata": {},
   "outputs": [
    {
     "data": {
      "text/plain": [
       "['This', 'is', 'my', 'class']"
      ]
     },
     "execution_count": 13,
     "metadata": {},
     "output_type": "execute_result"
    }
   ],
   "source": [
    "a = 'This&is&my&class'\n",
    "a.split('&')"
   ]
  },
  {
   "cell_type": "code",
   "execution_count": 14,
   "id": "7d6648e8",
   "metadata": {},
   "outputs": [
    {
     "data": {
      "text/plain": [
       "['Th', ' ', ' th', '']"
      ]
     },
     "execution_count": 14,
     "metadata": {},
     "output_type": "execute_result"
    }
   ],
   "source": [
    "a = 'This is this'\n",
    "\n",
    "a.split('is')"
   ]
  },
  {
   "cell_type": "code",
   "execution_count": 17,
   "id": "44e5a544",
   "metadata": {},
   "outputs": [
    {
     "data": {
      "text/plain": [
       "['This', 'is', 'elon', 'musk']"
      ]
     },
     "execution_count": 17,
     "metadata": {},
     "output_type": "execute_result"
    }
   ],
   "source": [
    "a = 'This\\nis\\nelon\\nmusk'\n",
    "\n",
    "a.split('\\n')"
   ]
  },
  {
   "cell_type": "code",
   "execution_count": 18,
   "id": "635bd5e4",
   "metadata": {},
   "outputs": [
    {
     "data": {
      "text/plain": [
       "['This', 'is', 'elon', 'musk']"
      ]
     },
     "execution_count": 18,
     "metadata": {},
     "output_type": "execute_result"
    }
   ],
   "source": [
    "a.splitlines()"
   ]
  },
  {
   "cell_type": "code",
   "execution_count": 19,
   "id": "f5cbc598",
   "metadata": {},
   "outputs": [
    {
     "data": {
      "text/plain": [
       "['This is Elon Musk']"
      ]
     },
     "execution_count": 19,
     "metadata": {},
     "output_type": "execute_result"
    }
   ],
   "source": [
    "b = 'This is Elon Musk'\n",
    "\n",
    "b.splitlines()"
   ]
  },
  {
   "cell_type": "code",
   "execution_count": 21,
   "id": "0badf454",
   "metadata": {},
   "outputs": [
    {
     "data": {
      "text/plain": [
       "['This', 'is', 'Elon', 'Musk']"
      ]
     },
     "execution_count": 21,
     "metadata": {},
     "output_type": "execute_result"
    }
   ],
   "source": [
    "b = 'This\\nis\\nElon\\nMusk'\n",
    "\n",
    "b.splitlines()"
   ]
  },
  {
   "cell_type": "code",
   "execution_count": 22,
   "id": "8d29b9d8",
   "metadata": {},
   "outputs": [],
   "source": [
    "# partition()\n",
    "# strip()\n",
    "# lstrip()\n",
    "# rstrip()\n",
    "# index()\n",
    "# find()\n",
    "# count()\n",
    "# format(fstring)\n",
    "# isupper()\n",
    "# islower()\n",
    "# replace"
   ]
  },
  {
   "cell_type": "code",
   "execution_count": 23,
   "id": "f1eaa48e",
   "metadata": {},
   "outputs": [],
   "source": [
    "# split:- ans any len\n",
    "\n",
    "# partition:- 3"
   ]
  },
  {
   "cell_type": "code",
   "execution_count": 24,
   "id": "fe23e4be",
   "metadata": {},
   "outputs": [
    {
     "data": {
      "text/plain": [
       "('Hello', ' ', 'world python')"
      ]
     },
     "execution_count": 24,
     "metadata": {},
     "output_type": "execute_result"
    }
   ],
   "source": [
    "a = 'Hello world python'\n",
    "\n",
    "a.partition(' ')"
   ]
  },
  {
   "cell_type": "code",
   "execution_count": 25,
   "id": "634760b4",
   "metadata": {},
   "outputs": [
    {
     "data": {
      "text/plain": [
       "('Th', 'is', ' is elon musk')"
      ]
     },
     "execution_count": 25,
     "metadata": {},
     "output_type": "execute_result"
    }
   ],
   "source": [
    "d = 'This is elon musk'\n",
    "\n",
    "d.partition('is')"
   ]
  },
  {
   "cell_type": "code",
   "execution_count": 26,
   "id": "04a01ac5",
   "metadata": {},
   "outputs": [],
   "source": [
    "# strip()\n",
    "# lstrip()\n",
    "# rstrip()"
   ]
  },
  {
   "cell_type": "code",
   "execution_count": 27,
   "id": "80f57cfc",
   "metadata": {},
   "outputs": [
    {
     "data": {
      "text/plain": [
       "'Karan Sharma'"
      ]
     },
     "execution_count": 27,
     "metadata": {},
     "output_type": "execute_result"
    }
   ],
   "source": [
    "a = '    Karan Sharma'\n",
    "\n",
    "a.lstrip()"
   ]
  },
  {
   "cell_type": "code",
   "execution_count": 30,
   "id": "e029d84c",
   "metadata": {},
   "outputs": [
    {
     "data": {
      "text/plain": [
       "'Akshay kumar      '"
      ]
     },
     "execution_count": 30,
     "metadata": {},
     "output_type": "execute_result"
    }
   ],
   "source": [
    "b = 'Akshay kumar      '\n",
    "\n",
    "b"
   ]
  },
  {
   "cell_type": "code",
   "execution_count": 29,
   "id": "fb7373b6",
   "metadata": {},
   "outputs": [
    {
     "data": {
      "text/plain": [
       "'Akshay kumar'"
      ]
     },
     "execution_count": 29,
     "metadata": {},
     "output_type": "execute_result"
    }
   ],
   "source": [
    "b.rstrip()"
   ]
  },
  {
   "cell_type": "code",
   "execution_count": 31,
   "id": "3a3fe7c6",
   "metadata": {},
   "outputs": [
    {
     "data": {
      "text/plain": [
       "'Karan Khanna'"
      ]
     },
     "execution_count": 31,
     "metadata": {},
     "output_type": "execute_result"
    }
   ],
   "source": [
    "a = '    Karan Khanna    '\n",
    "\n",
    "a.rstrip().lstrip()"
   ]
  },
  {
   "cell_type": "code",
   "execution_count": 33,
   "id": "402c0a4a",
   "metadata": {},
   "outputs": [
    {
     "data": {
      "text/plain": [
       "'Karan Khanna'"
      ]
     },
     "execution_count": 33,
     "metadata": {},
     "output_type": "execute_result"
    }
   ],
   "source": [
    "a = '                                      Karan Khanna    '\n",
    "\n",
    "a.strip()"
   ]
  },
  {
   "cell_type": "code",
   "execution_count": 34,
   "id": "4f2d4a94",
   "metadata": {},
   "outputs": [],
   "source": [
    "# index()\n",
    "# find()\n",
    "# count()\n",
    "# format(fstring)\n",
    "# isupper()\n",
    "# islower()\n",
    "# replace"
   ]
  },
  {
   "cell_type": "code",
   "execution_count": 36,
   "id": "54a340d8",
   "metadata": {},
   "outputs": [],
   "source": [
    "a = 'Hello world is something here'"
   ]
  },
  {
   "cell_type": "code",
   "execution_count": 39,
   "id": "993de557",
   "metadata": {},
   "outputs": [
    {
     "data": {
      "text/plain": [
       "12"
      ]
     },
     "execution_count": 39,
     "metadata": {},
     "output_type": "execute_result"
    }
   ],
   "source": [
    "a.index('i')"
   ]
  },
  {
   "cell_type": "code",
   "execution_count": 38,
   "id": "bba72211",
   "metadata": {},
   "outputs": [
    {
     "data": {
      "text/plain": [
       "'i'"
      ]
     },
     "execution_count": 38,
     "metadata": {},
     "output_type": "execute_result"
    }
   ],
   "source": [
    "a[12]"
   ]
  },
  {
   "cell_type": "code",
   "execution_count": 40,
   "id": "f00fdfb9",
   "metadata": {},
   "outputs": [
    {
     "data": {
      "text/plain": [
       "21"
      ]
     },
     "execution_count": 40,
     "metadata": {},
     "output_type": "execute_result"
    }
   ],
   "source": [
    "a.index('i',13)"
   ]
  },
  {
   "cell_type": "code",
   "execution_count": 41,
   "id": "cd14cd20",
   "metadata": {},
   "outputs": [
    {
     "ename": "ValueError",
     "evalue": "substring not found",
     "output_type": "error",
     "traceback": [
      "\u001b[1;31m---------------------------------------------------------------------------\u001b[0m",
      "\u001b[1;31mValueError\u001b[0m                                Traceback (most recent call last)",
      "Cell \u001b[1;32mIn[41], line 1\u001b[0m\n\u001b[1;32m----> 1\u001b[0m a\u001b[38;5;241m.\u001b[39mindex(\u001b[38;5;124m'\u001b[39m\u001b[38;5;124mi\u001b[39m\u001b[38;5;124m'\u001b[39m,\u001b[38;5;241m22\u001b[39m)\n",
      "\u001b[1;31mValueError\u001b[0m: substring not found"
     ]
    }
   ],
   "source": [
    "a.index('i',22)"
   ]
  },
  {
   "cell_type": "code",
   "execution_count": 43,
   "id": "674cfc56",
   "metadata": {},
   "outputs": [
    {
     "ename": "ValueError",
     "evalue": "substring not found",
     "output_type": "error",
     "traceback": [
      "\u001b[1;31m---------------------------------------------------------------------------\u001b[0m",
      "\u001b[1;31mValueError\u001b[0m                                Traceback (most recent call last)",
      "Cell \u001b[1;32mIn[43], line 3\u001b[0m\n\u001b[0;32m      1\u001b[0m a \u001b[38;5;241m=\u001b[39m \u001b[38;5;124m'\u001b[39m\u001b[38;5;124mThis is elon musk\u001b[39m\u001b[38;5;124m'\u001b[39m\n\u001b[1;32m----> 3\u001b[0m a\u001b[38;5;241m.\u001b[39mindex(\u001b[38;5;124m'\u001b[39m\u001b[38;5;124mj\u001b[39m\u001b[38;5;124m'\u001b[39m)\n",
      "\u001b[1;31mValueError\u001b[0m: substring not found"
     ]
    }
   ],
   "source": [
    "a = 'This is elon musk'\n",
    "\n",
    "a.index('j')"
   ]
  },
  {
   "cell_type": "code",
   "execution_count": 48,
   "id": "64a5cfa9",
   "metadata": {},
   "outputs": [
    {
     "data": {
      "text/plain": [
       "5"
      ]
     },
     "execution_count": 48,
     "metadata": {},
     "output_type": "execute_result"
    }
   ],
   "source": [
    "# find method\n",
    "a = 'This is me'\n",
    "a.find('is',3)"
   ]
  },
  {
   "cell_type": "code",
   "execution_count": 49,
   "id": "685b8f4f",
   "metadata": {},
   "outputs": [],
   "source": [
    "# count()\n",
    "# format(fstring)\n",
    "# isupper()\n",
    "# islower()\n",
    "# replace"
   ]
  },
  {
   "cell_type": "code",
   "execution_count": 51,
   "id": "e3714a80",
   "metadata": {},
   "outputs": [],
   "source": [
    "a = 'my name is Python, and it is awesome'"
   ]
  },
  {
   "cell_type": "code",
   "execution_count": 52,
   "id": "644ff3b5",
   "metadata": {},
   "outputs": [
    {
     "data": {
      "text/plain": [
       "3"
      ]
     },
     "execution_count": 52,
     "metadata": {},
     "output_type": "execute_result"
    }
   ],
   "source": [
    "a.count('n')"
   ]
  },
  {
   "cell_type": "code",
   "execution_count": 53,
   "id": "eb4df383",
   "metadata": {},
   "outputs": [
    {
     "data": {
      "text/plain": [
       "3"
      ]
     },
     "execution_count": 53,
     "metadata": {},
     "output_type": "execute_result"
    }
   ],
   "source": [
    "a.count('i')"
   ]
  },
  {
   "cell_type": "code",
   "execution_count": 54,
   "id": "56bb31e3",
   "metadata": {},
   "outputs": [
    {
     "data": {
      "text/plain": [
       "0"
      ]
     },
     "execution_count": 54,
     "metadata": {},
     "output_type": "execute_result"
    }
   ],
   "source": [
    "a.count('z')"
   ]
  },
  {
   "cell_type": "code",
   "execution_count": 55,
   "id": "c00b0988",
   "metadata": {},
   "outputs": [],
   "source": [
    "# isupper()\n",
    "# # islower()"
   ]
  },
  {
   "cell_type": "code",
   "execution_count": 56,
   "id": "1d7d510f",
   "metadata": {},
   "outputs": [],
   "source": [
    "a = 'grapes'"
   ]
  },
  {
   "cell_type": "code",
   "execution_count": 57,
   "id": "17606b6a",
   "metadata": {},
   "outputs": [
    {
     "data": {
      "text/plain": [
       "False"
      ]
     },
     "execution_count": 57,
     "metadata": {},
     "output_type": "execute_result"
    }
   ],
   "source": [
    "a.isupper()"
   ]
  },
  {
   "cell_type": "code",
   "execution_count": 58,
   "id": "dbce1c43",
   "metadata": {},
   "outputs": [
    {
     "data": {
      "text/plain": [
       "True"
      ]
     },
     "execution_count": 58,
     "metadata": {},
     "output_type": "execute_result"
    }
   ],
   "source": [
    "a = 'mohan'\n",
    "a.islower()"
   ]
  },
  {
   "cell_type": "code",
   "execution_count": 60,
   "id": "ab77cba0",
   "metadata": {},
   "outputs": [
    {
     "data": {
      "text/plain": [
       "False"
      ]
     },
     "execution_count": 60,
     "metadata": {},
     "output_type": "execute_result"
    }
   ],
   "source": [
    "a = '  h '\n",
    "\n",
    "a.isspace()"
   ]
  },
  {
   "cell_type": "code",
   "execution_count": null,
   "id": "6d81f91a",
   "metadata": {},
   "outputs": [],
   "source": []
  },
  {
   "cell_type": "code",
   "execution_count": null,
   "id": "d4920a7a",
   "metadata": {},
   "outputs": [],
   "source": []
  },
  {
   "cell_type": "code",
   "execution_count": 61,
   "id": "5add6cf4",
   "metadata": {},
   "outputs": [],
   "source": [
    "a = 'My name is Elon Musk'"
   ]
  },
  {
   "cell_type": "code",
   "execution_count": 62,
   "id": "2da1545b",
   "metadata": {},
   "outputs": [
    {
     "data": {
      "text/plain": [
       "'My name is Mr Python'"
      ]
     },
     "execution_count": 62,
     "metadata": {},
     "output_type": "execute_result"
    }
   ],
   "source": [
    "a.replace('Elon Musk','Mr Python')"
   ]
  },
  {
   "cell_type": "code",
   "execution_count": 63,
   "id": "ac1601ef",
   "metadata": {},
   "outputs": [],
   "source": [
    "# format(fstring)"
   ]
  },
  {
   "cell_type": "code",
   "execution_count": 64,
   "id": "8223117b",
   "metadata": {},
   "outputs": [
    {
     "name": "stdout",
     "output_type": "stream",
     "text": [
      "I have honda car having model 2012 and price is 3500000\n"
     ]
    }
   ],
   "source": [
    "a = 'honda'\n",
    "b = 2012\n",
    "c = 3500000\n",
    "\n",
    "\n",
    "print('I have honda car having model 2012 and price is 3500000')"
   ]
  },
  {
   "cell_type": "code",
   "execution_count": 70,
   "id": "285b8c5a",
   "metadata": {},
   "outputs": [
    {
     "name": "stdout",
     "output_type": "stream",
     "text": [
      "I have maruti car having model 2012 and price is 3500000\n"
     ]
    }
   ],
   "source": [
    "a = 'maruti'\n",
    "b = 2012\n",
    "c = 3500000\n",
    "\n",
    "\n",
    "d = 'I have {0} car having model {1} and price is {2}'.format(a,b,c)\n",
    "print(d)"
   ]
  },
  {
   "cell_type": "code",
   "execution_count": 72,
   "id": "4cc91c89",
   "metadata": {},
   "outputs": [],
   "source": [
    "# fstring"
   ]
  },
  {
   "cell_type": "code",
   "execution_count": 75,
   "id": "8e273a81",
   "metadata": {},
   "outputs": [
    {
     "name": "stdout",
     "output_type": "stream",
     "text": [
      "I have bmw car having model 2018 and price is 5678789\n"
     ]
    }
   ],
   "source": [
    "a,b,c = 'bmw',2018,5678789\n",
    "\n",
    "g = f'I have {a} car having model {b} and price is {c}'\n",
    "print(g)"
   ]
  },
  {
   "cell_type": "code",
   "execution_count": 76,
   "id": "8a00b970",
   "metadata": {},
   "outputs": [
    {
     "name": "stdout",
     "output_type": "stream",
     "text": [
      "['__add__', '__class__', '__contains__', '__delattr__', '__dir__', '__doc__', '__eq__', '__format__', '__ge__', '__getattribute__', '__getitem__', '__getnewargs__', '__getstate__', '__gt__', '__hash__', '__init__', '__init_subclass__', '__iter__', '__le__', '__len__', '__lt__', '__mod__', '__mul__', '__ne__', '__new__', '__reduce__', '__reduce_ex__', '__repr__', '__rmod__', '__rmul__', '__setattr__', '__sizeof__', '__str__', '__subclasshook__', 'capitalize', 'casefold', 'center', 'count', 'encode', 'endswith', 'expandtabs', 'find', 'format', 'format_map', 'index', 'isalnum', 'isalpha', 'isascii', 'isdecimal', 'isdigit', 'isidentifier', 'islower', 'isnumeric', 'isprintable', 'isspace', 'istitle', 'isupper', 'join', 'ljust', 'lower', 'lstrip', 'maketrans', 'partition', 'removeprefix', 'removesuffix', 'replace', 'rfind', 'rindex', 'rjust', 'rpartition', 'rsplit', 'rstrip', 'split', 'splitlines', 'startswith', 'strip', 'swapcase', 'title', 'translate', 'upper', 'zfill']\n"
     ]
    }
   ],
   "source": [
    "print(dir(str))"
   ]
  },
  {
   "cell_type": "code",
   "execution_count": 79,
   "id": "dbf74f9e",
   "metadata": {},
   "outputs": [],
   "source": [
    "method= ['capitalize', 'casefold', 'center', 'count', 'encode', 'endswith', 'expandtabs', 'find', 'format', 'format_map', \n",
    "         'index', 'isalnum', 'isalpha', 'isascii', 'isdecimal', 'isdigit', 'isidentifier', 'islower',\n",
    "         'isnumeric', 'isprintable', 'isspace', 'istitle', 'isupper', 'join', 'ljust', 'lower', 'lstrip',\n",
    "         'maketrans', 'partition', 'removeprefix', 'removesuffix', 'replace', 'rfind', 'rindex', 'rjust', \n",
    "         'rpartition', 'rsplit', 'rstrip', 'split', 'splitlines', 'startswith', 'strip', 'swapcase', 'title', \n",
    "         'translate', 'upper', 'zfill']"
   ]
  },
  {
   "cell_type": "code",
   "execution_count": 82,
   "id": "7043767b",
   "metadata": {},
   "outputs": [
    {
     "data": {
      "text/plain": [
       "'****Hello Python****'"
      ]
     },
     "execution_count": 82,
     "metadata": {},
     "output_type": "execute_result"
    }
   ],
   "source": [
    "a = 'Hello Python'\n",
    "\n",
    "a.center(20,'*')"
   ]
  },
  {
   "cell_type": "code",
   "execution_count": 83,
   "id": "5747bc76",
   "metadata": {},
   "outputs": [],
   "source": [
    "a = 'Mohan'"
   ]
  },
  {
   "cell_type": "code",
   "execution_count": 85,
   "id": "7e442f8e",
   "metadata": {},
   "outputs": [
    {
     "data": {
      "text/plain": [
       "False"
      ]
     },
     "execution_count": 85,
     "metadata": {},
     "output_type": "execute_result"
    }
   ],
   "source": [
    "a.startswith('m')"
   ]
  },
  {
   "cell_type": "code",
   "execution_count": 86,
   "id": "3351918e",
   "metadata": {},
   "outputs": [
    {
     "data": {
      "text/plain": [
       "True"
      ]
     },
     "execution_count": 86,
     "metadata": {},
     "output_type": "execute_result"
    }
   ],
   "source": [
    "a.endswith('n')"
   ]
  },
  {
   "cell_type": "code",
   "execution_count": 87,
   "id": "e25a739e",
   "metadata": {},
   "outputs": [
    {
     "data": {
      "text/plain": [
       "False"
      ]
     },
     "execution_count": 87,
     "metadata": {},
     "output_type": "execute_result"
    }
   ],
   "source": [
    "a.endswith('f')"
   ]
  },
  {
   "cell_type": "code",
   "execution_count": 88,
   "id": "65d7e588",
   "metadata": {},
   "outputs": [],
   "source": [
    "a = 'Hello Python'"
   ]
  },
  {
   "cell_type": "code",
   "execution_count": 89,
   "id": "030b6383",
   "metadata": {},
   "outputs": [
    {
     "data": {
      "text/plain": [
       "'H e l l o   P y t h o n'"
      ]
     },
     "execution_count": 89,
     "metadata": {},
     "output_type": "execute_result"
    }
   ],
   "source": [
    "' '.join(a)"
   ]
  },
  {
   "cell_type": "code",
   "execution_count": 91,
   "id": "4ce25b19",
   "metadata": {},
   "outputs": [
    {
     "data": {
      "text/plain": [
       "'A B C'"
      ]
     },
     "execution_count": 91,
     "metadata": {},
     "output_type": "execute_result"
    }
   ],
   "source": [
    "' '.join('ABC')"
   ]
  },
  {
   "cell_type": "code",
   "execution_count": 92,
   "id": "462968fa",
   "metadata": {},
   "outputs": [
    {
     "data": {
      "text/plain": [
       "'* * *'"
      ]
     },
     "execution_count": 92,
     "metadata": {},
     "output_type": "execute_result"
    }
   ],
   "source": [
    "' '.join('***')"
   ]
  },
  {
   "cell_type": "code",
   "execution_count": 96,
   "id": "3ec2e839",
   "metadata": {},
   "outputs": [
    {
     "name": "stdout",
     "output_type": "stream",
     "text": [
      "Enter your name: karan malhotra\n",
      "Your name is KARAN MALHOTRA\n"
     ]
    }
   ],
   "source": [
    "# user name\n",
    "name = input('Enter your name: ')\n",
    "\n",
    "print('Your name is',name.upper())"
   ]
  },
  {
   "cell_type": "code",
   "execution_count": 97,
   "id": "c040f53d",
   "metadata": {},
   "outputs": [
    {
     "data": {
      "text/plain": [
       "128540"
      ]
     },
     "execution_count": 97,
     "metadata": {},
     "output_type": "execute_result"
    }
   ],
   "source": [
    "ord('😜')"
   ]
  },
  {
   "cell_type": "code",
   "execution_count": 98,
   "id": "58ab6876",
   "metadata": {},
   "outputs": [
    {
     "name": "stdout",
     "output_type": "stream",
     "text": [
      "Enter your name: mohan\n",
      "Your name is 😜MOHAN😜\n"
     ]
    }
   ],
   "source": [
    "# user name\n",
    "name = input('Enter your name: ')\n",
    "\n",
    "name = '😜'+name+'😜'\n",
    "\n",
    "print('Your name is',name.upper())\n"
   ]
  },
  {
   "cell_type": "code",
   "execution_count": 101,
   "id": "1258d159",
   "metadata": {},
   "outputs": [
    {
     "data": {
      "text/plain": [
       "'🚁'"
      ]
     },
     "execution_count": 101,
     "metadata": {},
     "output_type": "execute_result"
    }
   ],
   "source": [
    "chr(128641)"
   ]
  },
  {
   "cell_type": "code",
   "execution_count": 103,
   "id": "7ec646a1",
   "metadata": {},
   "outputs": [],
   "source": [
    "# 128541\n",
    "# 128641"
   ]
  },
  {
   "cell_type": "code",
   "execution_count": 104,
   "id": "888db1bb",
   "metadata": {},
   "outputs": [],
   "source": [
    "import random"
   ]
  },
  {
   "cell_type": "code",
   "execution_count": 122,
   "id": "a8cd37b8",
   "metadata": {},
   "outputs": [
    {
     "name": "stdout",
     "output_type": "stream",
     "text": [
      "Enter your name: mohan\n",
      "Your name is 🙞mohan🙯\n"
     ]
    }
   ],
   "source": [
    "l = chr(random.randint(128541,128641))\n",
    "r = chr(random.randint(128541,128641))\n",
    "\n",
    "# user name\n",
    "name = input('Enter your name: ')\n",
    "\n",
    "name = l+name+r\n",
    "\n",
    "print('Your name is',name)"
   ]
  },
  {
   "cell_type": "code",
   "execution_count": null,
   "id": "6835ed72",
   "metadata": {},
   "outputs": [],
   "source": []
  },
  {
   "cell_type": "code",
   "execution_count": null,
   "id": "af1bb0b6",
   "metadata": {},
   "outputs": [],
   "source": []
  }
 ],
 "metadata": {
  "kernelspec": {
   "display_name": "Python 3 (ipykernel)",
   "language": "python",
   "name": "python3"
  },
  "language_info": {
   "codemirror_mode": {
    "name": "ipython",
    "version": 3
   },
   "file_extension": ".py",
   "mimetype": "text/x-python",
   "name": "python",
   "nbconvert_exporter": "python",
   "pygments_lexer": "ipython3",
   "version": "3.11.3"
  }
 },
 "nbformat": 4,
 "nbformat_minor": 5
}
