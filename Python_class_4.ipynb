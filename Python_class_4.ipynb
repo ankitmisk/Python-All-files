{
 "cells": [
  {
   "cell_type": "markdown",
   "id": "5a59c2db",
   "metadata": {},
   "source": [
    "# Identifiers/variablles"
   ]
  },
  {
   "cell_type": "code",
   "execution_count": 1,
   "id": "b8fabf65",
   "metadata": {},
   "outputs": [],
   "source": [
    "# identifiers/variable =  value(data types)"
   ]
  },
  {
   "cell_type": "code",
   "execution_count": 44,
   "id": "5ac8ebe9",
   "metadata": {},
   "outputs": [],
   "source": [
    "# identifiers/variable rules\n",
    "# 1>> must not start with any digits(0-9)(23.5f)\n",
    "# 2>> must not start with any special character except _(underscore)\n",
    "# 3>> underscore length can be vary\n",
    "# 4>> we can use underscore ant any position\n",
    "# 5>> we can use digits from second position to last but not at first\n",
    "# 6>> must not contain any special character\n",
    "# 7>> lowercase variable and uppercase  both are different(python is case sensitive)\n",
    "# 8>> must not contain any space\n",
    "# 9>> Can not use Python keywords."
   ]
  },
  {
   "cell_type": "code",
   "execution_count": 3,
   "id": "815648c9",
   "metadata": {},
   "outputs": [
    {
     "ename": "SyntaxError",
     "evalue": "invalid decimal literal (2998609092.py, line 1)",
     "output_type": "error",
     "traceback": [
      "\u001b[1;36m  Cell \u001b[1;32mIn[3], line 1\u001b[1;36m\u001b[0m\n\u001b[1;33m    23a = [1,2,4325]\u001b[0m\n\u001b[1;37m     ^\u001b[0m\n\u001b[1;31mSyntaxError\u001b[0m\u001b[1;31m:\u001b[0m invalid decimal literal\n"
     ]
    }
   ],
   "source": [
    "23a = [1,2,4325]"
   ]
  },
  {
   "cell_type": "code",
   "execution_count": null,
   "id": "1b493696",
   "metadata": {},
   "outputs": [],
   "source": [
    "# SyntaxError: invalid decimal literal"
   ]
  },
  {
   "cell_type": "code",
   "execution_count": 5,
   "id": "273d20df",
   "metadata": {},
   "outputs": [
    {
     "ename": "SyntaxError",
     "evalue": "invalid syntax. Maybe you meant '==' or ':=' instead of '='? (3146591158.py, line 1)",
     "output_type": "error",
     "traceback": [
      "\u001b[1;36m  Cell \u001b[1;32mIn[5], line 1\u001b[1;36m\u001b[0m\n\u001b[1;33m    @name = 'Mohan'\u001b[0m\n\u001b[1;37m     ^\u001b[0m\n\u001b[1;31mSyntaxError\u001b[0m\u001b[1;31m:\u001b[0m invalid syntax. Maybe you meant '==' or ':=' instead of '='?\n"
     ]
    }
   ],
   "source": [
    "@name = 'Mohan'"
   ]
  },
  {
   "cell_type": "code",
   "execution_count": 6,
   "id": "cbf7a8d7",
   "metadata": {},
   "outputs": [],
   "source": [
    "# ~!@#$%^&*()-+{}[]\\|;:''\"\"<>,.?/"
   ]
  },
  {
   "cell_type": "code",
   "execution_count": 7,
   "id": "ccbeab62",
   "metadata": {},
   "outputs": [],
   "source": [
    "_a = 'karan'"
   ]
  },
  {
   "cell_type": "code",
   "execution_count": 8,
   "id": "1e553546",
   "metadata": {},
   "outputs": [
    {
     "name": "stdout",
     "output_type": "stream",
     "text": [
      "karan\n"
     ]
    }
   ],
   "source": [
    "print(_a)"
   ]
  },
  {
   "cell_type": "code",
   "execution_count": 10,
   "id": "f8bf7c5e",
   "metadata": {},
   "outputs": [],
   "source": [
    "_abc = 1\n",
    "__ab = 2\n",
    "___mb = 'karan'"
   ]
  },
  {
   "cell_type": "code",
   "execution_count": 12,
   "id": "d1efb8cc",
   "metadata": {},
   "outputs": [],
   "source": [
    "ab_ = 123"
   ]
  },
  {
   "cell_type": "code",
   "execution_count": 13,
   "id": "f2dfacac",
   "metadata": {},
   "outputs": [],
   "source": [
    "a_b = 34"
   ]
  },
  {
   "cell_type": "code",
   "execution_count": 14,
   "id": "b0253cd3",
   "metadata": {},
   "outputs": [],
   "source": [
    "_a_b_c = 'Ajay'"
   ]
  },
  {
   "cell_type": "code",
   "execution_count": 15,
   "id": "b36cc533",
   "metadata": {},
   "outputs": [
    {
     "ename": "SyntaxError",
     "evalue": "invalid decimal literal (3223756778.py, line 1)",
     "output_type": "error",
     "traceback": [
      "\u001b[1;36m  Cell \u001b[1;32mIn[15], line 1\u001b[1;36m\u001b[0m\n\u001b[1;33m    2_a = 'df'\u001b[0m\n\u001b[1;37m     ^\u001b[0m\n\u001b[1;31mSyntaxError\u001b[0m\u001b[1;31m:\u001b[0m invalid decimal literal\n"
     ]
    }
   ],
   "source": [
    "2_a = 'df'"
   ]
  },
  {
   "cell_type": "code",
   "execution_count": 17,
   "id": "abe6408e",
   "metadata": {},
   "outputs": [],
   "source": [
    "a2 = 'Ajay'"
   ]
  },
  {
   "cell_type": "code",
   "execution_count": 18,
   "id": "9ea554e9",
   "metadata": {},
   "outputs": [],
   "source": [
    "a_2 = 'Mohan'"
   ]
  },
  {
   "cell_type": "code",
   "execution_count": 19,
   "id": "c07bcf7e",
   "metadata": {},
   "outputs": [],
   "source": [
    "_987654321a = 'Akshay'"
   ]
  },
  {
   "cell_type": "code",
   "execution_count": 20,
   "id": "a3195f1c",
   "metadata": {},
   "outputs": [],
   "source": [
    "your_full_name = 'Akshay Kumar'"
   ]
  },
  {
   "cell_type": "code",
   "execution_count": 22,
   "id": "e2ac9067",
   "metadata": {},
   "outputs": [],
   "source": [
    "a = '@' "
   ]
  },
  {
   "cell_type": "code",
   "execution_count": 29,
   "id": "f580e2a5",
   "metadata": {},
   "outputs": [
    {
     "ename": "SyntaxError",
     "evalue": "cannot assign to expression here. Maybe you meant '==' instead of '='? (399882518.py, line 1)",
     "output_type": "error",
     "traceback": [
      "\u001b[1;36m  Cell \u001b[1;32mIn[29], line 1\u001b[1;36m\u001b[0m\n\u001b[1;33m    a*b = 23,24,34\u001b[0m\n\u001b[1;37m    ^\u001b[0m\n\u001b[1;31mSyntaxError\u001b[0m\u001b[1;31m:\u001b[0m cannot assign to expression here. Maybe you meant '==' instead of '='?\n"
     ]
    }
   ],
   "source": [
    "a*b = 23,24,34"
   ]
  },
  {
   "cell_type": "code",
   "execution_count": 32,
   "id": "8c2cccd6",
   "metadata": {},
   "outputs": [],
   "source": [
    "name = 'ajay'"
   ]
  },
  {
   "cell_type": "code",
   "execution_count": 33,
   "id": "bb251ad0",
   "metadata": {},
   "outputs": [],
   "source": [
    "Name = 'karan'"
   ]
  },
  {
   "cell_type": "code",
   "execution_count": 34,
   "id": "dc0d34e8",
   "metadata": {},
   "outputs": [],
   "source": [
    "NAME = 'Akshay'"
   ]
  },
  {
   "cell_type": "code",
   "execution_count": 35,
   "id": "4b05e7e4",
   "metadata": {},
   "outputs": [
    {
     "name": "stdout",
     "output_type": "stream",
     "text": [
      "ajay\n"
     ]
    }
   ],
   "source": [
    "print(name)"
   ]
  },
  {
   "cell_type": "code",
   "execution_count": 36,
   "id": "8fec2fe8",
   "metadata": {},
   "outputs": [
    {
     "name": "stdout",
     "output_type": "stream",
     "text": [
      "Akshay\n"
     ]
    }
   ],
   "source": [
    "print(NAME)"
   ]
  },
  {
   "cell_type": "code",
   "execution_count": 37,
   "id": "104313df",
   "metadata": {},
   "outputs": [
    {
     "name": "stdout",
     "output_type": "stream",
     "text": [
      "karan\n"
     ]
    }
   ],
   "source": [
    "print(Name)"
   ]
  },
  {
   "cell_type": "code",
   "execution_count": 40,
   "id": "760c487f",
   "metadata": {},
   "outputs": [
    {
     "ename": "NameError",
     "evalue": "name 'abgh' is not defined",
     "output_type": "error",
     "traceback": [
      "\u001b[1;31m---------------------------------------------------------------------------\u001b[0m",
      "\u001b[1;31mNameError\u001b[0m                                 Traceback (most recent call last)",
      "Cell \u001b[1;32mIn[40], line 1\u001b[0m\n\u001b[1;32m----> 1\u001b[0m \u001b[38;5;28mprint\u001b[39m(abgh)\n",
      "\u001b[1;31mNameError\u001b[0m: name 'abgh' is not defined"
     ]
    }
   ],
   "source": [
    "print(abgh)"
   ]
  },
  {
   "cell_type": "code",
   "execution_count": 39,
   "id": "480aa0e4",
   "metadata": {},
   "outputs": [],
   "source": [
    "# NameError:- jab koi variable decalre na hui ho or use use kiya ja raha ho"
   ]
  },
  {
   "cell_type": "code",
   "execution_count": 41,
   "id": "3a313629",
   "metadata": {},
   "outputs": [
    {
     "data": {
      "text/plain": [
       "2096597845424"
      ]
     },
     "execution_count": 41,
     "metadata": {},
     "output_type": "execute_result"
    }
   ],
   "source": [
    "id(name)"
   ]
  },
  {
   "cell_type": "code",
   "execution_count": 42,
   "id": "ed86d72e",
   "metadata": {},
   "outputs": [
    {
     "data": {
      "text/plain": [
       "2096597365296"
      ]
     },
     "execution_count": 42,
     "metadata": {},
     "output_type": "execute_result"
    }
   ],
   "source": [
    "id(Name)"
   ]
  },
  {
   "cell_type": "code",
   "execution_count": 43,
   "id": "b0c9a77f",
   "metadata": {},
   "outputs": [
    {
     "data": {
      "text/plain": [
       "2096600329520"
      ]
     },
     "execution_count": 43,
     "metadata": {},
     "output_type": "execute_result"
    }
   ],
   "source": [
    "id(NAME)"
   ]
  },
  {
   "cell_type": "code",
   "execution_count": 46,
   "id": "c29326d2",
   "metadata": {},
   "outputs": [
    {
     "ename": "SyntaxError",
     "evalue": "invalid syntax (571666206.py, line 1)",
     "output_type": "error",
     "traceback": [
      "\u001b[1;36m  Cell \u001b[1;32mIn[46], line 1\u001b[1;36m\u001b[0m\n\u001b[1;33m    your full name = 'Ajay Sharma'\u001b[0m\n\u001b[1;37m         ^\u001b[0m\n\u001b[1;31mSyntaxError\u001b[0m\u001b[1;31m:\u001b[0m invalid syntax\n"
     ]
    }
   ],
   "source": [
    "your full name = 'Ajay Sharma'"
   ]
  },
  {
   "cell_type": "code",
   "execution_count": 47,
   "id": "0529520c",
   "metadata": {},
   "outputs": [],
   "source": [
    "YourFullName = 'Ajay Sharma'"
   ]
  },
  {
   "cell_type": "code",
   "execution_count": 49,
   "id": "ac940370",
   "metadata": {},
   "outputs": [],
   "source": [
    "your_full_name = 'Ajay Sharma'"
   ]
  },
  {
   "cell_type": "code",
   "execution_count": 53,
   "id": "7cecf1c1",
   "metadata": {},
   "outputs": [],
   "source": [
    "# a,b,c = 1,2,3\n",
    "\n",
    "# SyntaxError: invalid syntax\n",
    "# not valid"
   ]
  },
  {
   "cell_type": "code",
   "execution_count": 54,
   "id": "13a7a6e1",
   "metadata": {},
   "outputs": [
    {
     "ename": "SyntaxError",
     "evalue": "invalid syntax (1485349977.py, line 5)",
     "output_type": "error",
     "traceback": [
      "\u001b[1;36m  Cell \u001b[1;32mIn[54], line 5\u001b[1;36m\u001b[0m\n\u001b[1;33m    a b = 23\u001b[0m\n\u001b[1;37m      ^\u001b[0m\n\u001b[1;31mSyntaxError\u001b[0m\u001b[1;31m:\u001b[0m invalid syntax\n"
     ]
    }
   ],
   "source": [
    "a1 = 123\n",
    "a34 = 556\n",
    "print(a1)\n",
    "print(a34)\n",
    "a b = 23\n",
    "print('Mohan')"
   ]
  },
  {
   "cell_type": "code",
   "execution_count": 55,
   "id": "89860af6",
   "metadata": {
    "scrolled": true
   },
   "outputs": [
    {
     "name": "stdout",
     "output_type": "stream",
     "text": [
      "karan\n"
     ]
    },
    {
     "ename": "TypeError",
     "evalue": "can't multiply sequence by non-int of type 'str'",
     "output_type": "error",
     "traceback": [
      "\u001b[1;31m---------------------------------------------------------------------------\u001b[0m",
      "\u001b[1;31mTypeError\u001b[0m                                 Traceback (most recent call last)",
      "Cell \u001b[1;32mIn[55], line 4\u001b[0m\n\u001b[0;32m      2\u001b[0m a34 \u001b[38;5;241m=\u001b[39m \u001b[38;5;124m'\u001b[39m\u001b[38;5;124majay\u001b[39m\u001b[38;5;124m'\u001b[39m\n\u001b[0;32m      3\u001b[0m \u001b[38;5;28mprint\u001b[39m(a1)\n\u001b[1;32m----> 4\u001b[0m \u001b[38;5;28mprint\u001b[39m(a1\u001b[38;5;241m*\u001b[39ma34)\n\u001b[0;32m      5\u001b[0m \u001b[38;5;28mprint\u001b[39m(\u001b[38;5;124m'\u001b[39m\u001b[38;5;124mMohan\u001b[39m\u001b[38;5;124m'\u001b[39m)\n",
      "\u001b[1;31mTypeError\u001b[0m: can't multiply sequence by non-int of type 'str'"
     ]
    }
   ],
   "source": [
    "a1 = 'karan'\n",
    "a34 = 'ajay'\n",
    "print(a1)\n",
    "print(a1*a34)\n",
    "print('Mohan')"
   ]
  },
  {
   "attachments": {
    "0_m_Wwe0DW0o38i_uS.jpg": {
     "image/jpeg": "[encoded data removed]"
    }
   },
   "cell_type": "markdown",
   "id": "c3a7a704",
   "metadata": {},
   "source": [
    "![0_m_Wwe0DW0o38i_uS.jpg](attachment:0_m_Wwe0DW0o38i_uS.jpg)"
   ]
  },
  {
   "cell_type": "code",
   "execution_count": 56,
   "id": "d47ad20a",
   "metadata": {},
   "outputs": [],
   "source": [
    "# apple\n",
    "\n",
    "# a-z\n",
    "# A-Z\n",
    "# ab\n",
    "# bc\n",
    "# xy\n",
    "# top\n",
    "# pop\n",
    "# cat\n",
    "# apple"
   ]
  },
  {
   "cell_type": "code",
   "execution_count": 57,
   "id": "e482341b",
   "metadata": {},
   "outputs": [
    {
     "name": "stdout",
     "output_type": "stream",
     "text": [
      "\n",
      "Here is a list of the Python keywords.  Enter any keyword to get more help.\n",
      "\n",
      "False               class               from                or\n",
      "None                continue            global              pass\n",
      "True                def                 if                  raise\n",
      "and                 del                 import              return\n",
      "as                  elif                in                  try\n",
      "assert              else                is                  while\n",
      "async               except              lambda              with\n",
      "await               finally             nonlocal            yield\n",
      "break               for                 not                 \n",
      "\n"
     ]
    }
   ],
   "source": [
    "help('keywords')"
   ]
  },
  {
   "cell_type": "code",
   "execution_count": 58,
   "id": "ea246890",
   "metadata": {},
   "outputs": [],
   "source": [
    "#reserved  keywords"
   ]
  },
  {
   "cell_type": "code",
   "execution_count": 59,
   "id": "a0c768ef",
   "metadata": {},
   "outputs": [
    {
     "ename": "SyntaxError",
     "evalue": "invalid syntax (2404972954.py, line 1)",
     "output_type": "error",
     "traceback": [
      "\u001b[1;36m  Cell \u001b[1;32mIn[59], line 1\u001b[1;36m\u001b[0m\n\u001b[1;33m    as = 45\u001b[0m\n\u001b[1;37m    ^\u001b[0m\n\u001b[1;31mSyntaxError\u001b[0m\u001b[1;31m:\u001b[0m invalid syntax\n"
     ]
    }
   ],
   "source": [
    " = 45"
   ]
  },
  {
   "cell_type": "code",
   "execution_count": 60,
   "id": "19cd095a",
   "metadata": {},
   "outputs": [
    {
     "ename": "SyntaxError",
     "evalue": "invalid syntax (2067790475.py, line 1)",
     "output_type": "error",
     "traceback": [
      "\u001b[1;36m  Cell \u001b[1;32mIn[60], line 1\u001b[1;36m\u001b[0m\n\u001b[1;33m    elif = 34\u001b[0m\n\u001b[1;37m    ^\u001b[0m\n\u001b[1;31mSyntaxError\u001b[0m\u001b[1;31m:\u001b[0m invalid syntax\n"
     ]
    }
   ],
   "source": [
    "elif = 34"
   ]
  },
  {
   "cell_type": "code",
   "execution_count": 61,
   "id": "51bbf53f",
   "metadata": {},
   "outputs": [
    {
     "ename": "SyntaxError",
     "evalue": "invalid syntax (1197729818.py, line 1)",
     "output_type": "error",
     "traceback": [
      "\u001b[1;36m  Cell \u001b[1;32mIn[61], line 1\u001b[1;36m\u001b[0m\n\u001b[1;33m    global= 'Java'\u001b[0m\n\u001b[1;37m          ^\u001b[0m\n\u001b[1;31mSyntaxError\u001b[0m\u001b[1;31m:\u001b[0m invalid syntax\n"
     ]
    }
   ],
   "source": [
    "global= 'Java'"
   ]
  },
  {
   "cell_type": "code",
   "execution_count": 76,
   "id": "4ffdc467",
   "metadata": {},
   "outputs": [],
   "source": [
    "wedth = 'Mayank'"
   ]
  },
  {
   "cell_type": "code",
   "execution_count": 77,
   "id": "12614679",
   "metadata": {},
   "outputs": [
    {
     "name": "stdout",
     "output_type": "stream",
     "text": [
      "Mayank\n"
     ]
    }
   ],
   "source": [
    "print(wedth)"
   ]
  },
  {
   "cell_type": "code",
   "execution_count": 78,
   "id": "83bff6f7",
   "metadata": {},
   "outputs": [],
   "source": [
    "# multiple variable in one line"
   ]
  },
  {
   "cell_type": "code",
   "execution_count": 79,
   "id": "8a2ca0b0",
   "metadata": {},
   "outputs": [],
   "source": [
    "a = 'karan'\n",
    "b = 'ajay'\n",
    "c = 'akshay'"
   ]
  },
  {
   "cell_type": "code",
   "execution_count": 81,
   "id": "7869aa31",
   "metadata": {},
   "outputs": [],
   "source": [
    "a,b,c = 'kkkaran','aaajay','aaakshay'"
   ]
  },
  {
   "cell_type": "code",
   "execution_count": 84,
   "id": "a04b17d5",
   "metadata": {},
   "outputs": [
    {
     "data": {
      "text/plain": [
       "'aaakshay'"
      ]
     },
     "execution_count": 84,
     "metadata": {},
     "output_type": "execute_result"
    }
   ],
   "source": [
    "c"
   ]
  },
  {
   "cell_type": "code",
   "execution_count": 85,
   "id": "6291afbf",
   "metadata": {},
   "outputs": [],
   "source": [
    "a = 'kkkaran','aaajay','aaakshay'"
   ]
  },
  {
   "cell_type": "code",
   "execution_count": 87,
   "id": "b4acf06a",
   "metadata": {},
   "outputs": [
    {
     "name": "stdout",
     "output_type": "stream",
     "text": [
      "('kkkaran', 'aaajay', 'aaakshay')\n"
     ]
    }
   ],
   "source": [
    "print(a)"
   ]
  },
  {
   "cell_type": "code",
   "execution_count": 88,
   "id": "e6b6584e",
   "metadata": {},
   "outputs": [],
   "source": [
    "a,b,c = 1,True,[12,432,5,35]"
   ]
  },
  {
   "cell_type": "code",
   "execution_count": null,
   "id": "25788377",
   "metadata": {},
   "outputs": [],
   "source": []
  },
  {
   "cell_type": "code",
   "execution_count": 92,
   "id": "204b9f22",
   "metadata": {},
   "outputs": [
    {
     "ename": "ValueError",
     "evalue": "too many values to unpack (expected 2)",
     "output_type": "error",
     "traceback": [
      "\u001b[1;31m---------------------------------------------------------------------------\u001b[0m",
      "\u001b[1;31mValueError\u001b[0m                                Traceback (most recent call last)",
      "Cell \u001b[1;32mIn[92], line 1\u001b[0m\n\u001b[1;32m----> 1\u001b[0m a,b \u001b[38;5;241m=\u001b[39m \u001b[38;5;241m1\u001b[39m,\u001b[38;5;28;01mTrue\u001b[39;00m,[\u001b[38;5;241m12\u001b[39m,\u001b[38;5;241m432\u001b[39m,\u001b[38;5;241m5\u001b[39m,\u001b[38;5;241m35\u001b[39m]\n",
      "\u001b[1;31mValueError\u001b[0m: too many values to unpack (expected 2)"
     ]
    }
   ],
   "source": [
    "a,b = 1,True,[12,432,5,35]"
   ]
  },
  {
   "cell_type": "code",
   "execution_count": 93,
   "id": "f5022b54",
   "metadata": {},
   "outputs": [],
   "source": [
    "# too many values to unpack (expected 2)"
   ]
  },
  {
   "cell_type": "code",
   "execution_count": 96,
   "id": "01fa52bf",
   "metadata": {},
   "outputs": [],
   "source": [
    "a,*b =  1,True,[12,432,5,35]"
   ]
  },
  {
   "cell_type": "code",
   "execution_count": 97,
   "id": "52afdc31",
   "metadata": {},
   "outputs": [
    {
     "data": {
      "text/plain": [
       "1"
      ]
     },
     "execution_count": 97,
     "metadata": {},
     "output_type": "execute_result"
    }
   ],
   "source": [
    "a"
   ]
  },
  {
   "cell_type": "code",
   "execution_count": 100,
   "id": "1f79173a",
   "metadata": {},
   "outputs": [
    {
     "name": "stdout",
     "output_type": "stream",
     "text": [
      "[True, [12, 432, 5, 35]]\n"
     ]
    }
   ],
   "source": [
    "print(b)"
   ]
  },
  {
   "cell_type": "code",
   "execution_count": 101,
   "id": "5b6373ab",
   "metadata": {},
   "outputs": [],
   "source": [
    "# unpacking"
   ]
  },
  {
   "cell_type": "code",
   "execution_count": null,
   "id": "9b780393",
   "metadata": {},
   "outputs": [],
   "source": []
  }
 ],
 "metadata": {
  "kernelspec": {
   "display_name": "Python 3 (ipykernel)",
   "language": "python",
   "name": "python3"
  },
  "language_info": {
   "codemirror_mode": {
    "name": "ipython",
    "version": 3
   },
   "file_extension": ".py",
   "mimetype": "text/x-python",
   "name": "python",
   "nbconvert_exporter": "python",
   "pygments_lexer": "ipython3",
   "version": "3.11.3"
  }
 },
 "nbformat": 4,
 "nbformat_minor": 5
}
