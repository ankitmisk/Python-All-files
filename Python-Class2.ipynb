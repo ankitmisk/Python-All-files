{
 "cells": [
  {
   "cell_type": "code",
   "execution_count": 1,
   "id": "a1d58c84",
   "metadata": {},
   "outputs": [],
   "source": [
    "import calendar"
   ]
  },
  {
   "cell_type": "code",
   "execution_count": 2,
   "id": "21906fb9",
   "metadata": {},
   "outputs": [
    {
     "name": "stdout",
     "output_type": "stream",
     "text": [
      "                                  2024\n",
      "\n",
      "      January                   February                   March\n",
      "Mo Tu We Th Fr Sa Su      Mo Tu We Th Fr Sa Su      Mo Tu We Th Fr Sa Su\n",
      " 1  2  3  4  5  6  7                1  2  3  4                   1  2  3\n",
      " 8  9 10 11 12 13 14       5  6  7  8  9 10 11       4  5  6  7  8  9 10\n",
      "15 16 17 18 19 20 21      12 13 14 15 16 17 18      11 12 13 14 15 16 17\n",
      "22 23 24 25 26 27 28      19 20 21 22 23 24 25      18 19 20 21 22 23 24\n",
      "29 30 31                  26 27 28 29               25 26 27 28 29 30 31\n",
      "\n",
      "       April                      May                       June\n",
      "Mo Tu We Th Fr Sa Su      Mo Tu We Th Fr Sa Su      Mo Tu We Th Fr Sa Su\n",
      " 1  2  3  4  5  6  7             1  2  3  4  5                      1  2\n",
      " 8  9 10 11 12 13 14       6  7  8  9 10 11 12       3  4  5  6  7  8  9\n",
      "15 16 17 18 19 20 21      13 14 15 16 17 18 19      10 11 12 13 14 15 16\n",
      "22 23 24 25 26 27 28      20 21 22 23 24 25 26      17 18 19 20 21 22 23\n",
      "29 30                     27 28 29 30 31            24 25 26 27 28 29 30\n",
      "\n",
      "        July                     August                  September\n",
      "Mo Tu We Th Fr Sa Su      Mo Tu We Th Fr Sa Su      Mo Tu We Th Fr Sa Su\n",
      " 1  2  3  4  5  6  7                1  2  3  4                         1\n",
      " 8  9 10 11 12 13 14       5  6  7  8  9 10 11       2  3  4  5  6  7  8\n",
      "15 16 17 18 19 20 21      12 13 14 15 16 17 18       9 10 11 12 13 14 15\n",
      "22 23 24 25 26 27 28      19 20 21 22 23 24 25      16 17 18 19 20 21 22\n",
      "29 30 31                  26 27 28 29 30 31         23 24 25 26 27 28 29\n",
      "                                                    30\n",
      "\n",
      "      October                   November                  December\n",
      "Mo Tu We Th Fr Sa Su      Mo Tu We Th Fr Sa Su      Mo Tu We Th Fr Sa Su\n",
      "    1  2  3  4  5  6                   1  2  3                         1\n",
      " 7  8  9 10 11 12 13       4  5  6  7  8  9 10       2  3  4  5  6  7  8\n",
      "14 15 16 17 18 19 20      11 12 13 14 15 16 17       9 10 11 12 13 14 15\n",
      "21 22 23 24 25 26 27      18 19 20 21 22 23 24      16 17 18 19 20 21 22\n",
      "28 29 30 31               25 26 27 28 29 30         23 24 25 26 27 28 29\n",
      "                                                    30 31\n",
      "\n"
     ]
    }
   ],
   "source": [
    "print(calendar.calendar(2024))"
   ]
  },
  {
   "cell_type": "code",
   "execution_count": 4,
   "id": "eb24fca5",
   "metadata": {},
   "outputs": [],
   "source": [
    "# pip install cowsay"
   ]
  },
  {
   "cell_type": "code",
   "execution_count": 5,
   "id": "b9fc026c",
   "metadata": {},
   "outputs": [],
   "source": [
    "import cowsay"
   ]
  },
  {
   "cell_type": "code",
   "execution_count": 6,
   "id": "c22a3f0d",
   "metadata": {},
   "outputs": [
    {
     "name": "stdout",
     "output_type": "stream",
     "text": [
      "  ____________\n",
      "| Hello Python |\n",
      "  ============\n",
      "            \\\n",
      "             \\\n",
      "               ^__^\n",
      "               (oo)\\_______\n",
      "               (__)\\       )\\/\\\n",
      "                   ||----w |\n",
      "                   ||     ||\n"
     ]
    }
   ],
   "source": [
    "cowsay.cow('Hello Python')"
   ]
  },
  {
   "cell_type": "code",
   "execution_count": 7,
   "id": "86d401c8",
   "metadata": {},
   "outputs": [
    {
     "name": "stdout",
     "output_type": "stream",
     "text": [
      "  _____\n",
      "| Hello |\n",
      "  =====\n",
      "            \\\n",
      "             \\\n",
      "              \\\n",
      "               \\\n",
      "                  .-=-==--==--.\n",
      "            ..-==\"  ,'o`)      `.\n",
      "          ,'         `\"'         \\\n",
      "         :  (                     `.__...._\n",
      "         |                  )    /         `-=-.\n",
      "         :       ,vv.-._   /    /               `---==-._\n",
      "          \\/\\/\\/VV ^ d88`;'    /                         `.\n",
      "              ``  ^/d88P!'    /             ,              `._\n",
      "                 ^/    !'   ,.      ,      /                  \"-,,__,,--'\"\"\"\"-.\n",
      "                ^/    !'  ,'  \\ . .(      (         _           )  ) ) ) ))_,-.\\\n",
      "               ^(__ ,!',\"'   ;:+.:%:a.     \\:.. . ,'          )  )  ) ) ,\"'    '\n",
      "               ',,,'','     /o:::\":%:%a.    \\:.:.:         .    )  ) _,'\n",
      "                \"\"\"'       ;':::'' `+%%%a._  \\%:%|         ;.). _,-\"\"\n",
      "                       ,-='_.-'      ``:%::)  )%:|        /:._,\"\n",
      "                      (/(/\"           ,\" ,'_,'%%%:       (_,'\n",
      "                                     (  (//(`.___;        \\\n",
      "                                      \\     \\    `         `\n",
      "                                       `.    `.   `.        :\n",
      "                                         \\. . .\\    : . . . :\n",
      "                                          \\. . .:    `.. . .:\n",
      "                                           `..:.:\\     \\:...\\\n",
      "                                            ;:.:.;      ::...:\n",
      "                                            ):%::       :::::;\n",
      "                                        __,::%:(        :::::\n",
      "                                     ,;:%%%%%%%:        ;:%::\n",
      "                                       ;,--\"\"-.`\\  ,=--':%:%:\\\n",
      "                                      /\"       \"| /-\".:%%%%%%%\\\n",
      "                                                      ;,-\"'`)%%)\n",
      "                                                     /\"      \"|\n"
     ]
    }
   ],
   "source": [
    "cowsay.trex('Hello')"
   ]
  },
  {
   "cell_type": "code",
   "execution_count": 8,
   "id": "410f7262",
   "metadata": {},
   "outputs": [],
   "source": [
    "import time"
   ]
  },
  {
   "cell_type": "code",
   "execution_count": 13,
   "id": "eeea9c57",
   "metadata": {},
   "outputs": [
    {
     "name": "stdout",
     "output_type": "stream",
     "text": [
      "Tue Mar  5 15:58:32 2024\n"
     ]
    }
   ],
   "source": [
    "print(time.asctime())"
   ]
  },
  {
   "cell_type": "code",
   "execution_count": null,
   "id": "487d0583",
   "metadata": {},
   "outputs": [],
   "source": []
  }
 ],
 "metadata": {
  "kernelspec": {
   "display_name": "Python 3 (ipykernel)",
   "language": "python",
   "name": "python3"
  },
  "language_info": {
   "codemirror_mode": {
    "name": "ipython",
    "version": 3
   },
   "file_extension": ".py",
   "mimetype": "text/x-python",
   "name": "python",
   "nbconvert_exporter": "python",
   "pygments_lexer": "ipython3",
   "version": "3.11.3"
  }
 },
 "nbformat": 4,
 "nbformat_minor": 5
}
