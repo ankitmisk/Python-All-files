{
 "cells": [
  {
   "cell_type": "code",
   "execution_count": 1,
   "id": "cbe99b8b",
   "metadata": {},
   "outputs": [],
   "source": [
    "a = {'Name':'Mohan','Age':12}"
   ]
  },
  {
   "cell_type": "code",
   "execution_count": 2,
   "id": "d578e82f",
   "metadata": {},
   "outputs": [
    {
     "name": "stdout",
     "output_type": "stream",
     "text": [
      "{'Name': 'Mohan', 'Age': 12}\n"
     ]
    }
   ],
   "source": [
    "print(a)"
   ]
  },
  {
   "cell_type": "code",
   "execution_count": 3,
   "id": "8b295088",
   "metadata": {},
   "outputs": [
    {
     "name": "stdout",
     "output_type": "stream",
     "text": [
      "['__class__', '__class_getitem__', '__contains__', '__delattr__', '__delitem__', '__dir__', '__doc__', '__eq__', '__format__', '__ge__', '__getattribute__', '__getitem__', '__getstate__', '__gt__', '__hash__', '__init__', '__init_subclass__', '__ior__', '__iter__', '__le__', '__len__', '__lt__', '__ne__', '__new__', '__or__', '__reduce__', '__reduce_ex__', '__repr__', '__reversed__', '__ror__', '__setattr__', '__setitem__', '__sizeof__', '__str__', '__subclasshook__', 'clear', 'copy', 'fromkeys', 'get', 'items', 'keys', 'pop', 'popitem', 'setdefault', 'update', 'values']\n"
     ]
    }
   ],
   "source": [
    "print(dir(a))"
   ]
  },
  {
   "cell_type": "code",
   "execution_count": 4,
   "id": "2e904d13",
   "metadata": {},
   "outputs": [],
   "source": [
    "dict_methods = ['clear', 'copy', 'fromkeys', 'get', 'items', 'keys', 'pop', 'popitem', 'setdefault', 'update', 'values']"
   ]
  },
  {
   "cell_type": "code",
   "execution_count": 5,
   "id": "497a7c0d",
   "metadata": {},
   "outputs": [
    {
     "name": "stdout",
     "output_type": "stream",
     "text": [
      "['clear', 'copy', 'fromkeys', 'get', 'items', 'keys', 'pop', 'popitem', 'setdefault', 'update', 'values']\n"
     ]
    }
   ],
   "source": [
    "print(dict_methods)"
   ]
  },
  {
   "cell_type": "code",
   "execution_count": 6,
   "id": "cef90318",
   "metadata": {},
   "outputs": [
    {
     "name": "stdout",
     "output_type": "stream",
     "text": [
      "11\n"
     ]
    }
   ],
   "source": [
    "print(len(dict_methods))"
   ]
  },
  {
   "cell_type": "code",
   "execution_count": 7,
   "id": "3f9ec0b4",
   "metadata": {},
   "outputs": [
    {
     "data": {
      "text/plain": [
       "{'Name': 'Mohan', 'Age': 12}"
      ]
     },
     "execution_count": 7,
     "metadata": {},
     "output_type": "execute_result"
    }
   ],
   "source": [
    "a "
   ]
  },
  {
   "cell_type": "code",
   "execution_count": 8,
   "id": "dff8c558",
   "metadata": {},
   "outputs": [],
   "source": [
    "a.clear()"
   ]
  },
  {
   "cell_type": "code",
   "execution_count": 9,
   "id": "8560087e",
   "metadata": {},
   "outputs": [
    {
     "name": "stdout",
     "output_type": "stream",
     "text": [
      "{}\n"
     ]
    }
   ],
   "source": [
    "print(a)"
   ]
  },
  {
   "cell_type": "code",
   "execution_count": 10,
   "id": "66b0a8a8",
   "metadata": {},
   "outputs": [],
   "source": [
    "a = {'Bank1':123456,'Bank2':234567}"
   ]
  },
  {
   "cell_type": "code",
   "execution_count": 11,
   "id": "856603f9",
   "metadata": {},
   "outputs": [
    {
     "name": "stdout",
     "output_type": "stream",
     "text": [
      "{'Bank1': 123456, 'Bank2': 234567}\n"
     ]
    }
   ],
   "source": [
    "print(a)"
   ]
  },
  {
   "cell_type": "code",
   "execution_count": 12,
   "id": "58097279",
   "metadata": {},
   "outputs": [],
   "source": [
    "b = a"
   ]
  },
  {
   "cell_type": "code",
   "execution_count": 13,
   "id": "69d80ff8",
   "metadata": {},
   "outputs": [
    {
     "name": "stdout",
     "output_type": "stream",
     "text": [
      "{'Bank1': 123456, 'Bank2': 234567}\n"
     ]
    }
   ],
   "source": [
    "print(b)"
   ]
  },
  {
   "cell_type": "code",
   "execution_count": 14,
   "id": "62d26b01",
   "metadata": {},
   "outputs": [],
   "source": [
    "b.clear()"
   ]
  },
  {
   "cell_type": "code",
   "execution_count": 15,
   "id": "f947c711",
   "metadata": {},
   "outputs": [
    {
     "data": {
      "text/plain": [
       "{}"
      ]
     },
     "execution_count": 15,
     "metadata": {},
     "output_type": "execute_result"
    }
   ],
   "source": [
    "b"
   ]
  },
  {
   "cell_type": "code",
   "execution_count": 16,
   "id": "87e018f8",
   "metadata": {},
   "outputs": [
    {
     "data": {
      "text/plain": [
       "{}"
      ]
     },
     "execution_count": 16,
     "metadata": {},
     "output_type": "execute_result"
    }
   ],
   "source": [
    "a"
   ]
  },
  {
   "cell_type": "code",
   "execution_count": 17,
   "id": "90e9af63",
   "metadata": {},
   "outputs": [],
   "source": [
    "a = {'Bank1':123456,'Bank2':234567}\n",
    "\n",
    "b = a.copy()"
   ]
  },
  {
   "cell_type": "code",
   "execution_count": 18,
   "id": "5c017b8e",
   "metadata": {},
   "outputs": [
    {
     "data": {
      "text/plain": [
       "{'Bank1': 123456, 'Bank2': 234567}"
      ]
     },
     "execution_count": 18,
     "metadata": {},
     "output_type": "execute_result"
    }
   ],
   "source": [
    "b"
   ]
  },
  {
   "cell_type": "code",
   "execution_count": 19,
   "id": "c48156fe",
   "metadata": {},
   "outputs": [
    {
     "data": {
      "text/plain": [
       "{'Bank1': 123456, 'Bank2': 234567}"
      ]
     },
     "execution_count": 19,
     "metadata": {},
     "output_type": "execute_result"
    }
   ],
   "source": [
    "a"
   ]
  },
  {
   "cell_type": "code",
   "execution_count": 20,
   "id": "245d2ae4",
   "metadata": {},
   "outputs": [],
   "source": [
    "b['Bank3'] = 3456"
   ]
  },
  {
   "cell_type": "code",
   "execution_count": 21,
   "id": "c68876de",
   "metadata": {},
   "outputs": [
    {
     "data": {
      "text/plain": [
       "{'Bank1': 123456, 'Bank2': 234567, 'Bank3': 3456}"
      ]
     },
     "execution_count": 21,
     "metadata": {},
     "output_type": "execute_result"
    }
   ],
   "source": [
    "b"
   ]
  },
  {
   "cell_type": "code",
   "execution_count": 22,
   "id": "cd3d22da",
   "metadata": {},
   "outputs": [
    {
     "data": {
      "text/plain": [
       "{'Bank1': 123456, 'Bank2': 234567}"
      ]
     },
     "execution_count": 22,
     "metadata": {},
     "output_type": "execute_result"
    }
   ],
   "source": [
    "a"
   ]
  },
  {
   "cell_type": "code",
   "execution_count": 23,
   "id": "d8779881",
   "metadata": {},
   "outputs": [
    {
     "data": {
      "text/plain": [
       "{'Bank1': 123456, 'Bank2': 234567, 'Bank3': 3456}"
      ]
     },
     "execution_count": 23,
     "metadata": {},
     "output_type": "execute_result"
    }
   ],
   "source": [
    "b"
   ]
  },
  {
   "cell_type": "code",
   "execution_count": 24,
   "id": "49745a2b",
   "metadata": {},
   "outputs": [
    {
     "data": {
      "text/plain": [
       "{'Bank1': None, 'Bank2': None, 'Bank3': None}"
      ]
     },
     "execution_count": 24,
     "metadata": {},
     "output_type": "execute_result"
    }
   ],
   "source": [
    "s = {}\n",
    "\n",
    "s.fromkeys(b)"
   ]
  },
  {
   "cell_type": "code",
   "execution_count": 25,
   "id": "c8c40a74",
   "metadata": {},
   "outputs": [
    {
     "name": "stdout",
     "output_type": "stream",
     "text": [
      "['clear', 'copy', 'fromkeys', 'get', 'items', 'keys', 'pop', 'popitem', 'setdefault', 'update', 'values']\n"
     ]
    }
   ],
   "source": [
    "print(dict_methods)"
   ]
  },
  {
   "cell_type": "code",
   "execution_count": 26,
   "id": "ebfcb08d",
   "metadata": {},
   "outputs": [
    {
     "data": {
      "text/plain": [
       "{'Bank1': 123456, 'Bank2': 234567}"
      ]
     },
     "execution_count": 26,
     "metadata": {},
     "output_type": "execute_result"
    }
   ],
   "source": [
    "a"
   ]
  },
  {
   "cell_type": "code",
   "execution_count": 27,
   "id": "7769d9be",
   "metadata": {},
   "outputs": [
    {
     "data": {
      "text/plain": [
       "234567"
      ]
     },
     "execution_count": 27,
     "metadata": {},
     "output_type": "execute_result"
    }
   ],
   "source": [
    "a.get('Bank2')"
   ]
  },
  {
   "cell_type": "code",
   "execution_count": 29,
   "id": "dfd4b59a",
   "metadata": {},
   "outputs": [],
   "source": [
    "a['Bank2'] = 2343454323456"
   ]
  },
  {
   "cell_type": "code",
   "execution_count": 30,
   "id": "5103a8f3",
   "metadata": {},
   "outputs": [
    {
     "data": {
      "text/plain": [
       "{'Bank1': 123456, 'Bank2': 2343454323456}"
      ]
     },
     "execution_count": 30,
     "metadata": {},
     "output_type": "execute_result"
    }
   ],
   "source": [
    "a"
   ]
  },
  {
   "cell_type": "code",
   "execution_count": 33,
   "id": "423ed059",
   "metadata": {},
   "outputs": [
    {
     "data": {
      "text/plain": [
       "2343454323456"
      ]
     },
     "execution_count": 33,
     "metadata": {},
     "output_type": "execute_result"
    }
   ],
   "source": [
    "a.get('Bank2')"
   ]
  },
  {
   "cell_type": "code",
   "execution_count": 36,
   "id": "513c233b",
   "metadata": {},
   "outputs": [
    {
     "ename": "KeyError",
     "evalue": "'Bankk2'",
     "output_type": "error",
     "traceback": [
      "\u001b[1;31m---------------------------------------------------------------------------\u001b[0m",
      "\u001b[1;31mKeyError\u001b[0m                                  Traceback (most recent call last)",
      "Cell \u001b[1;32mIn[36], line 1\u001b[0m\n\u001b[1;32m----> 1\u001b[0m a[\u001b[38;5;124m'\u001b[39m\u001b[38;5;124mBankk2\u001b[39m\u001b[38;5;124m'\u001b[39m]\n",
      "\u001b[1;31mKeyError\u001b[0m: 'Bankk2'"
     ]
    }
   ],
   "source": [
    "a['Bankk2']"
   ]
  },
  {
   "cell_type": "code",
   "execution_count": 38,
   "id": "c4e9c549",
   "metadata": {},
   "outputs": [
    {
     "name": "stdout",
     "output_type": "stream",
     "text": [
      "None\n"
     ]
    }
   ],
   "source": [
    "print(a.get('Bankk2'))"
   ]
  },
  {
   "cell_type": "code",
   "execution_count": 39,
   "id": "24558752",
   "metadata": {},
   "outputs": [
    {
     "ename": "KeyError",
     "evalue": "'Bankk2'",
     "output_type": "error",
     "traceback": [
      "\u001b[1;31m---------------------------------------------------------------------------\u001b[0m",
      "\u001b[1;31mKeyError\u001b[0m                                  Traceback (most recent call last)",
      "Cell \u001b[1;32mIn[39], line 1\u001b[0m\n\u001b[1;32m----> 1\u001b[0m a[\u001b[38;5;124m'\u001b[39m\u001b[38;5;124mBankk2\u001b[39m\u001b[38;5;124m'\u001b[39m]\n",
      "\u001b[1;31mKeyError\u001b[0m: 'Bankk2'"
     ]
    }
   ],
   "source": [
    "a['Bankk2']"
   ]
  },
  {
   "cell_type": "code",
   "execution_count": 40,
   "id": "0b1a4e94",
   "metadata": {},
   "outputs": [
    {
     "name": "stdout",
     "output_type": "stream",
     "text": [
      "None\n"
     ]
    }
   ],
   "source": [
    "print(a.get('Bankk2'))"
   ]
  },
  {
   "cell_type": "code",
   "execution_count": 41,
   "id": "942d4eb0",
   "metadata": {},
   "outputs": [],
   "source": [
    "a = {'Name':'Ajay',\n",
    "    'Age':23,\n",
    "    'Address':'Noida',\n",
    "    'Phone':9875}"
   ]
  },
  {
   "cell_type": "code",
   "execution_count": 42,
   "id": "2aaff2e6",
   "metadata": {},
   "outputs": [
    {
     "name": "stdout",
     "output_type": "stream",
     "text": [
      "{'Name': 'Ajay', 'Age': 23, 'Address': 'Noida', 'Phone': 9875}\n"
     ]
    }
   ],
   "source": [
    "print(a)"
   ]
  },
  {
   "cell_type": "code",
   "execution_count": 43,
   "id": "3269eccf",
   "metadata": {},
   "outputs": [
    {
     "name": "stdout",
     "output_type": "stream",
     "text": [
      "['clear', 'copy', 'fromkeys', 'get', 'items', 'keys', 'pop', 'popitem', 'setdefault', 'update', 'values']\n"
     ]
    }
   ],
   "source": [
    "print(dict_methods)"
   ]
  },
  {
   "cell_type": "code",
   "execution_count": 44,
   "id": "f5be97b7",
   "metadata": {},
   "outputs": [
    {
     "data": {
      "text/plain": [
       "dict_keys(['Name', 'Age', 'Address', 'Phone'])"
      ]
     },
     "execution_count": 44,
     "metadata": {},
     "output_type": "execute_result"
    }
   ],
   "source": [
    "a.keys()"
   ]
  },
  {
   "cell_type": "code",
   "execution_count": 45,
   "id": "b1f38a11",
   "metadata": {},
   "outputs": [
    {
     "data": {
      "text/plain": [
       "['Name', 'Age', 'Address', 'Phone']"
      ]
     },
     "execution_count": 45,
     "metadata": {},
     "output_type": "execute_result"
    }
   ],
   "source": [
    "list(a)"
   ]
  },
  {
   "cell_type": "code",
   "execution_count": 46,
   "id": "d1f43877",
   "metadata": {},
   "outputs": [
    {
     "data": {
      "text/plain": [
       "('Name', 'Age', 'Address', 'Phone')"
      ]
     },
     "execution_count": 46,
     "metadata": {},
     "output_type": "execute_result"
    }
   ],
   "source": [
    "tuple(a)"
   ]
  },
  {
   "cell_type": "code",
   "execution_count": 48,
   "id": "31c03f7f",
   "metadata": {},
   "outputs": [
    {
     "data": {
      "text/plain": [
       "{'Address', 'Age', 'Name', 'Phone'}"
      ]
     },
     "execution_count": 48,
     "metadata": {},
     "output_type": "execute_result"
    }
   ],
   "source": [
    "set(a)"
   ]
  },
  {
   "cell_type": "code",
   "execution_count": 49,
   "id": "f6170a65",
   "metadata": {},
   "outputs": [
    {
     "data": {
      "text/plain": [
       "{'Name': 'Ajay', 'Age': 23, 'Address': 'Noida', 'Phone': 9875}"
      ]
     },
     "execution_count": 49,
     "metadata": {},
     "output_type": "execute_result"
    }
   ],
   "source": [
    "a"
   ]
  },
  {
   "cell_type": "code",
   "execution_count": 52,
   "id": "de104f2b",
   "metadata": {},
   "outputs": [
    {
     "data": {
      "text/plain": [
       "dict_values(['Ajay', 23, 'Noida', 9875])"
      ]
     },
     "execution_count": 52,
     "metadata": {},
     "output_type": "execute_result"
    }
   ],
   "source": [
    "a.values()"
   ]
  },
  {
   "cell_type": "code",
   "execution_count": 55,
   "id": "38ee4095",
   "metadata": {},
   "outputs": [
    {
     "data": {
      "text/plain": [
       "tuple"
      ]
     },
     "execution_count": 55,
     "metadata": {},
     "output_type": "execute_result"
    }
   ],
   "source": [
    "type((['Ajay', 23, 'Noida', 9875],))"
   ]
  },
  {
   "cell_type": "code",
   "execution_count": 56,
   "id": "6b985fb5",
   "metadata": {},
   "outputs": [
    {
     "data": {
      "text/plain": [
       "dict_items([('Name', 'Ajay'), ('Age', 23), ('Address', 'Noida'), ('Phone', 9875)])"
      ]
     },
     "execution_count": 56,
     "metadata": {},
     "output_type": "execute_result"
    }
   ],
   "source": [
    "a.items()"
   ]
  },
  {
   "cell_type": "code",
   "execution_count": 57,
   "id": "b5980e4b",
   "metadata": {},
   "outputs": [
    {
     "data": {
      "text/plain": [
       "{1: 'Ajay', 2: 23, 3: 'Noida'}"
      ]
     },
     "execution_count": 57,
     "metadata": {},
     "output_type": "execute_result"
    }
   ],
   "source": [
    "a = {1:'Ajay',2:23,3:'Noida'}\n",
    "a"
   ]
  },
  {
   "cell_type": "code",
   "execution_count": 58,
   "id": "3253df20",
   "metadata": {},
   "outputs": [
    {
     "name": "stdout",
     "output_type": "stream",
     "text": [
      "dict_items([(1, 'Ajay'), (2, 23), (3, 'Noida')])\n"
     ]
    }
   ],
   "source": [
    "print(a.items())"
   ]
  },
  {
   "cell_type": "code",
   "execution_count": 59,
   "id": "82291676",
   "metadata": {},
   "outputs": [],
   "source": [
    "import pandas as pd"
   ]
  },
  {
   "cell_type": "code",
   "execution_count": 60,
   "id": "8d8577a1",
   "metadata": {},
   "outputs": [
    {
     "data": {
      "text/plain": [
       "{'Name': ['Ajay', 'Rohit', 'Mohit'],\n",
       " 'Age': [12, 23, 34],\n",
       " 'Address': ['Noida', 'Noida', 'Noida']}"
      ]
     },
     "execution_count": 60,
     "metadata": {},
     "output_type": "execute_result"
    }
   ],
   "source": [
    "a = {'Name':['Ajay','Rohit','Mohit'],\n",
    "    'Age':[12,23,34],\n",
    "    'Address':['Noida']*3}\n",
    "\n",
    "a"
   ]
  },
  {
   "cell_type": "code",
   "execution_count": 61,
   "id": "38999a37",
   "metadata": {},
   "outputs": [
    {
     "data": {
      "text/html": [
       "<div>\n",
       "<style scoped>\n",
       "    .dataframe tbody tr th:only-of-type {\n",
       "        vertical-align: middle;\n",
       "    }\n",
       "\n",
       "    .dataframe tbody tr th {\n",
       "        vertical-align: top;\n",
       "    }\n",
       "\n",
       "    .dataframe thead th {\n",
       "        text-align: right;\n",
       "    }\n",
       "</style>\n",
       "<table border=\"1\" class=\"dataframe\">\n",
       "  <thead>\n",
       "    <tr style=\"text-align: right;\">\n",
       "      <th></th>\n",
       "      <th>Name</th>\n",
       "      <th>Age</th>\n",
       "      <th>Address</th>\n",
       "    </tr>\n",
       "  </thead>\n",
       "  <tbody>\n",
       "    <tr>\n",
       "      <th>0</th>\n",
       "      <td>Ajay</td>\n",
       "      <td>12</td>\n",
       "      <td>Noida</td>\n",
       "    </tr>\n",
       "    <tr>\n",
       "      <th>1</th>\n",
       "      <td>Rohit</td>\n",
       "      <td>23</td>\n",
       "      <td>Noida</td>\n",
       "    </tr>\n",
       "    <tr>\n",
       "      <th>2</th>\n",
       "      <td>Mohit</td>\n",
       "      <td>34</td>\n",
       "      <td>Noida</td>\n",
       "    </tr>\n",
       "  </tbody>\n",
       "</table>\n",
       "</div>"
      ],
      "text/plain": [
       "    Name  Age Address\n",
       "0   Ajay   12   Noida\n",
       "1  Rohit   23   Noida\n",
       "2  Mohit   34   Noida"
      ]
     },
     "execution_count": 61,
     "metadata": {},
     "output_type": "execute_result"
    }
   ],
   "source": [
    "pd.DataFrame(a)"
   ]
  },
  {
   "cell_type": "code",
   "execution_count": 62,
   "id": "7dc29ba3",
   "metadata": {},
   "outputs": [
    {
     "data": {
      "text/plain": [
       "dict_items([('Name', ['Ajay', 'Rohit', 'Mohit']), ('Age', [12, 23, 34]), ('Address', ['Noida', 'Noida', 'Noida'])])"
      ]
     },
     "execution_count": 62,
     "metadata": {},
     "output_type": "execute_result"
    }
   ],
   "source": [
    "a.items()"
   ]
  },
  {
   "cell_type": "code",
   "execution_count": 63,
   "id": "b1f73977",
   "metadata": {},
   "outputs": [
    {
     "name": "stdout",
     "output_type": "stream",
     "text": [
      "['clear', 'copy', 'fromkeys', 'get', 'items', 'keys', 'pop', 'popitem', 'setdefault', 'update', 'values']\n"
     ]
    }
   ],
   "source": [
    "print(dict_methods)"
   ]
  },
  {
   "cell_type": "code",
   "execution_count": 64,
   "id": "54446c03",
   "metadata": {},
   "outputs": [],
   "source": [
    "# 'pop', 'popitem', 'setdefault', 'update',"
   ]
  },
  {
   "cell_type": "code",
   "execution_count": 65,
   "id": "ac697ce2",
   "metadata": {},
   "outputs": [],
   "source": [
    "a = {'Name':'Ajay',\n",
    "    'Age':23,\n",
    "    'Address':'Noida',\n",
    "    'Phone':9875}"
   ]
  },
  {
   "cell_type": "code",
   "execution_count": 66,
   "id": "faf766e0",
   "metadata": {},
   "outputs": [
    {
     "data": {
      "text/plain": [
       "{'Name': 'Ajay', 'Age': 23, 'Address': 'Noida', 'Phone': 9875}"
      ]
     },
     "execution_count": 66,
     "metadata": {},
     "output_type": "execute_result"
    }
   ],
   "source": [
    "a"
   ]
  },
  {
   "cell_type": "code",
   "execution_count": 67,
   "id": "fa82c5fb",
   "metadata": {},
   "outputs": [
    {
     "data": {
      "text/plain": [
       "23"
      ]
     },
     "execution_count": 67,
     "metadata": {},
     "output_type": "execute_result"
    }
   ],
   "source": [
    "a.pop('Age')"
   ]
  },
  {
   "cell_type": "code",
   "execution_count": 68,
   "id": "aac5c8b9",
   "metadata": {},
   "outputs": [
    {
     "data": {
      "text/plain": [
       "{'Name': 'Ajay', 'Address': 'Noida', 'Phone': 9875}"
      ]
     },
     "execution_count": 68,
     "metadata": {},
     "output_type": "execute_result"
    }
   ],
   "source": [
    "a"
   ]
  },
  {
   "cell_type": "code",
   "execution_count": 69,
   "id": "e99e79d6",
   "metadata": {},
   "outputs": [
    {
     "ename": "KeyError",
     "evalue": "'AGE'",
     "output_type": "error",
     "traceback": [
      "\u001b[1;31m---------------------------------------------------------------------------\u001b[0m",
      "\u001b[1;31mKeyError\u001b[0m                                  Traceback (most recent call last)",
      "Cell \u001b[1;32mIn[69], line 1\u001b[0m\n\u001b[1;32m----> 1\u001b[0m a\u001b[38;5;241m.\u001b[39mpop(\u001b[38;5;124m'\u001b[39m\u001b[38;5;124mAGE\u001b[39m\u001b[38;5;124m'\u001b[39m)\n",
      "\u001b[1;31mKeyError\u001b[0m: 'AGE'"
     ]
    }
   ],
   "source": [
    "a.pop('AGE')"
   ]
  },
  {
   "cell_type": "code",
   "execution_count": 70,
   "id": "adcaed26",
   "metadata": {},
   "outputs": [
    {
     "data": {
      "text/plain": [
       "{'Name': 'Ajay', 'Address': 'Noida', 'Phone': 9875}"
      ]
     },
     "execution_count": 70,
     "metadata": {},
     "output_type": "execute_result"
    }
   ],
   "source": [
    "a"
   ]
  },
  {
   "cell_type": "code",
   "execution_count": 71,
   "id": "92a14eef",
   "metadata": {},
   "outputs": [
    {
     "data": {
      "text/plain": [
       "('Phone', 9875)"
      ]
     },
     "execution_count": 71,
     "metadata": {},
     "output_type": "execute_result"
    }
   ],
   "source": [
    "a.popitem()"
   ]
  },
  {
   "cell_type": "code",
   "execution_count": 72,
   "id": "4a23cdb0",
   "metadata": {},
   "outputs": [
    {
     "data": {
      "text/plain": [
       "{'Name': 'Ajay', 'Address': 'Noida'}"
      ]
     },
     "execution_count": 72,
     "metadata": {},
     "output_type": "execute_result"
    }
   ],
   "source": [
    "a"
   ]
  },
  {
   "cell_type": "code",
   "execution_count": 73,
   "id": "7e3725cf",
   "metadata": {},
   "outputs": [
    {
     "data": {
      "text/plain": [
       "('Address', 'Noida')"
      ]
     },
     "execution_count": 73,
     "metadata": {},
     "output_type": "execute_result"
    }
   ],
   "source": [
    "a.popitem()"
   ]
  },
  {
   "cell_type": "code",
   "execution_count": 74,
   "id": "af9f807c",
   "metadata": {},
   "outputs": [
    {
     "data": {
      "text/plain": [
       "{'Name': 'Ajay'}"
      ]
     },
     "execution_count": 74,
     "metadata": {},
     "output_type": "execute_result"
    }
   ],
   "source": [
    "a"
   ]
  },
  {
   "cell_type": "code",
   "execution_count": 75,
   "id": "b874f810",
   "metadata": {},
   "outputs": [],
   "source": [
    "#  'setdefault', 'update',"
   ]
  },
  {
   "cell_type": "code",
   "execution_count": 76,
   "id": "efaa9111",
   "metadata": {},
   "outputs": [],
   "source": [
    "a = {'Name':'Ajay',\n",
    "    'Age':23,\n",
    "    'Address':'Noida',\n",
    "    'Phone':9875}"
   ]
  },
  {
   "cell_type": "code",
   "execution_count": 77,
   "id": "909f9c12",
   "metadata": {},
   "outputs": [
    {
     "data": {
      "text/plain": [
       "{'Name': 'Ajay', 'Age': 23, 'Address': 'Noida', 'Phone': 9875}"
      ]
     },
     "execution_count": 77,
     "metadata": {},
     "output_type": "execute_result"
    }
   ],
   "source": [
    "a"
   ]
  },
  {
   "cell_type": "code",
   "execution_count": 78,
   "id": "d9bfe942",
   "metadata": {},
   "outputs": [],
   "source": [
    "a['Bank'] = None"
   ]
  },
  {
   "cell_type": "code",
   "execution_count": 79,
   "id": "a2f5638e",
   "metadata": {},
   "outputs": [
    {
     "data": {
      "text/plain": [
       "{'Name': 'Ajay', 'Age': 23, 'Address': 'Noida', 'Phone': 9875, 'Bank': None}"
      ]
     },
     "execution_count": 79,
     "metadata": {},
     "output_type": "execute_result"
    }
   ],
   "source": [
    "a"
   ]
  },
  {
   "cell_type": "code",
   "execution_count": 80,
   "id": "9b1c0ea7",
   "metadata": {},
   "outputs": [],
   "source": [
    "a.setdefault('class')"
   ]
  },
  {
   "cell_type": "code",
   "execution_count": 81,
   "id": "c530a5ff",
   "metadata": {},
   "outputs": [
    {
     "data": {
      "text/plain": [
       "{'Name': 'Ajay',\n",
       " 'Age': 23,\n",
       " 'Address': 'Noida',\n",
       " 'Phone': 9875,\n",
       " 'Bank': None,\n",
       " 'class': None}"
      ]
     },
     "execution_count": 81,
     "metadata": {},
     "output_type": "execute_result"
    }
   ],
   "source": [
    "a"
   ]
  },
  {
   "cell_type": "code",
   "execution_count": 82,
   "id": "8c3c8f50",
   "metadata": {},
   "outputs": [
    {
     "data": {
      "text/plain": [
       "98987"
      ]
     },
     "execution_count": 82,
     "metadata": {},
     "output_type": "execute_result"
    }
   ],
   "source": [
    "a.setdefault('Kia',98987)"
   ]
  },
  {
   "cell_type": "code",
   "execution_count": 83,
   "id": "8c45c72b",
   "metadata": {},
   "outputs": [
    {
     "data": {
      "text/plain": [
       "{'Name': 'Ajay',\n",
       " 'Age': 23,\n",
       " 'Address': 'Noida',\n",
       " 'Phone': 9875,\n",
       " 'Bank': None,\n",
       " 'class': None,\n",
       " 'Kia': 98987}"
      ]
     },
     "execution_count": 83,
     "metadata": {},
     "output_type": "execute_result"
    }
   ],
   "source": [
    "a"
   ]
  },
  {
   "cell_type": "code",
   "execution_count": 84,
   "id": "78e692a1",
   "metadata": {},
   "outputs": [],
   "source": [
    "a['Phone'] = 978987876"
   ]
  },
  {
   "cell_type": "code",
   "execution_count": 85,
   "id": "4d2990f3",
   "metadata": {},
   "outputs": [
    {
     "data": {
      "text/plain": [
       "{'Name': 'Ajay',\n",
       " 'Age': 23,\n",
       " 'Address': 'Noida',\n",
       " 'Phone': 978987876,\n",
       " 'Bank': None,\n",
       " 'class': None,\n",
       " 'Kia': 98987}"
      ]
     },
     "execution_count": 85,
     "metadata": {},
     "output_type": "execute_result"
    }
   ],
   "source": [
    "a"
   ]
  },
  {
   "cell_type": "code",
   "execution_count": 89,
   "id": "76f58c93",
   "metadata": {},
   "outputs": [
    {
     "name": "stdout",
     "output_type": "stream",
     "text": [
      "None\n"
     ]
    }
   ],
   "source": [
    "print(a.setdefault('class',98))"
   ]
  },
  {
   "cell_type": "code",
   "execution_count": 90,
   "id": "dae99a43",
   "metadata": {},
   "outputs": [
    {
     "data": {
      "text/plain": [
       "{'Name': 'Ajay',\n",
       " 'Age': 23,\n",
       " 'Address': 'Noida',\n",
       " 'Phone': 978987876,\n",
       " 'Bank': None,\n",
       " 'class': None,\n",
       " 'Kia': 98987}"
      ]
     },
     "execution_count": 90,
     "metadata": {},
     "output_type": "execute_result"
    }
   ],
   "source": [
    "a"
   ]
  },
  {
   "cell_type": "code",
   "execution_count": 91,
   "id": "a9a0bcac",
   "metadata": {},
   "outputs": [
    {
     "data": {
      "text/plain": [
       "'Noida'"
      ]
     },
     "execution_count": 91,
     "metadata": {},
     "output_type": "execute_result"
    }
   ],
   "source": [
    "a.setdefault('Address','Delhi')"
   ]
  },
  {
   "cell_type": "code",
   "execution_count": 92,
   "id": "5db5cc4c",
   "metadata": {},
   "outputs": [
    {
     "data": {
      "text/plain": [
       "{'Name': 'Ajay',\n",
       " 'Age': 23,\n",
       " 'Address': 'Noida',\n",
       " 'Phone': 978987876,\n",
       " 'Bank': None,\n",
       " 'class': None,\n",
       " 'Kia': 98987}"
      ]
     },
     "execution_count": 92,
     "metadata": {},
     "output_type": "execute_result"
    }
   ],
   "source": [
    "a"
   ]
  },
  {
   "cell_type": "code",
   "execution_count": 93,
   "id": "3c5ac0b7",
   "metadata": {},
   "outputs": [
    {
     "ename": "TypeError",
     "evalue": "unhashable type: 'dict'",
     "output_type": "error",
     "traceback": [
      "\u001b[1;31m---------------------------------------------------------------------------\u001b[0m",
      "\u001b[1;31mTypeError\u001b[0m                                 Traceback (most recent call last)",
      "Cell \u001b[1;32mIn[93], line 1\u001b[0m\n\u001b[1;32m----> 1\u001b[0m a\u001b[38;5;241m.\u001b[39msetdefault({\u001b[38;5;124m'\u001b[39m\u001b[38;5;124mMaruti\u001b[39m\u001b[38;5;124m'\u001b[39m:\u001b[38;5;241m12\u001b[39m,\u001b[38;5;124m'\u001b[39m\u001b[38;5;124mHonda\u001b[39m\u001b[38;5;124m'\u001b[39m:\u001b[38;5;241m23\u001b[39m})\n",
      "\u001b[1;31mTypeError\u001b[0m: unhashable type: 'dict'"
     ]
    }
   ],
   "source": [
    "a.setdefault({'Maruti':12,'Honda':23})"
   ]
  },
  {
   "cell_type": "code",
   "execution_count": 94,
   "id": "a5ebdc30",
   "metadata": {},
   "outputs": [],
   "source": [
    "# 'update',"
   ]
  },
  {
   "cell_type": "code",
   "execution_count": 97,
   "id": "90e70168",
   "metadata": {},
   "outputs": [
    {
     "ename": "KeyError",
     "evalue": "('Name', 'Age')",
     "output_type": "error",
     "traceback": [
      "\u001b[1;31m---------------------------------------------------------------------------\u001b[0m",
      "\u001b[1;31mKeyError\u001b[0m                                  Traceback (most recent call last)",
      "Cell \u001b[1;32mIn[97], line 1\u001b[0m\n\u001b[1;32m----> 1\u001b[0m a[\u001b[38;5;124m'\u001b[39m\u001b[38;5;124mName\u001b[39m\u001b[38;5;124m'\u001b[39m,\u001b[38;5;124m'\u001b[39m\u001b[38;5;124mAge\u001b[39m\u001b[38;5;124m'\u001b[39m]\n",
      "\u001b[1;31mKeyError\u001b[0m: ('Name', 'Age')"
     ]
    }
   ],
   "source": [
    "a['Name','Age']"
   ]
  },
  {
   "cell_type": "code",
   "execution_count": 98,
   "id": "0c33c5a5",
   "metadata": {},
   "outputs": [
    {
     "data": {
      "text/plain": [
       "{'Name': 'Ajay',\n",
       " 'Age': 23,\n",
       " 'Address': 'Noida',\n",
       " 'Phone': 978987876,\n",
       " 'Bank': None,\n",
       " 'class': None,\n",
       " 'Kia': 98987}"
      ]
     },
     "execution_count": 98,
     "metadata": {},
     "output_type": "execute_result"
    }
   ],
   "source": [
    "a"
   ]
  },
  {
   "cell_type": "code",
   "execution_count": 99,
   "id": "fe48fa2f",
   "metadata": {},
   "outputs": [],
   "source": [
    "a.update({'Age':12,'Phone':12345432345678})"
   ]
  },
  {
   "cell_type": "code",
   "execution_count": 100,
   "id": "c3c6342b",
   "metadata": {},
   "outputs": [
    {
     "data": {
      "text/plain": [
       "{'Name': 'Ajay',\n",
       " 'Age': 12,\n",
       " 'Address': 'Noida',\n",
       " 'Phone': 12345432345678,\n",
       " 'Bank': None,\n",
       " 'class': None,\n",
       " 'Kia': 98987}"
      ]
     },
     "execution_count": 100,
     "metadata": {},
     "output_type": "execute_result"
    }
   ],
   "source": [
    "a"
   ]
  },
  {
   "cell_type": "code",
   "execution_count": 101,
   "id": "700d2a4d",
   "metadata": {},
   "outputs": [],
   "source": [
    "a.update({'Age':2334,'phone':87876})"
   ]
  },
  {
   "cell_type": "code",
   "execution_count": 102,
   "id": "cb179243",
   "metadata": {},
   "outputs": [
    {
     "data": {
      "text/plain": [
       "{'Name': 'Ajay',\n",
       " 'Age': 2334,\n",
       " 'Address': 'Noida',\n",
       " 'Phone': 12345432345678,\n",
       " 'Bank': None,\n",
       " 'class': None,\n",
       " 'Kia': 98987,\n",
       " 'phone': 87876}"
      ]
     },
     "execution_count": 102,
     "metadata": {},
     "output_type": "execute_result"
    }
   ],
   "source": [
    "a"
   ]
  },
  {
   "cell_type": "code",
   "execution_count": 103,
   "id": "e2c1ba59",
   "metadata": {},
   "outputs": [],
   "source": [
    "a = {}"
   ]
  },
  {
   "cell_type": "code",
   "execution_count": 104,
   "id": "2bfcfe86",
   "metadata": {},
   "outputs": [
    {
     "name": "stdout",
     "output_type": "stream",
     "text": [
      "{}\n"
     ]
    }
   ],
   "source": [
    "print(a)"
   ]
  },
  {
   "cell_type": "code",
   "execution_count": 105,
   "id": "a62a30bb",
   "metadata": {},
   "outputs": [],
   "source": [
    "a.update({'Maruti':12,\n",
    "         'Honda':87,\n",
    "         'Kia':9876})"
   ]
  },
  {
   "cell_type": "code",
   "execution_count": 106,
   "id": "f3e323a7",
   "metadata": {},
   "outputs": [
    {
     "data": {
      "text/plain": [
       "{'Maruti': 12, 'Honda': 87, 'Kia': 9876}"
      ]
     },
     "execution_count": 106,
     "metadata": {},
     "output_type": "execute_result"
    }
   ],
   "source": [
    "a"
   ]
  },
  {
   "cell_type": "code",
   "execution_count": 107,
   "id": "b3170a42",
   "metadata": {},
   "outputs": [],
   "source": [
    "a.update({'Honda':44,'Kia':55})"
   ]
  },
  {
   "cell_type": "code",
   "execution_count": 108,
   "id": "e2bb8467",
   "metadata": {},
   "outputs": [
    {
     "data": {
      "text/plain": [
       "{'Maruti': 12, 'Honda': 44, 'Kia': 55}"
      ]
     },
     "execution_count": 108,
     "metadata": {},
     "output_type": "execute_result"
    }
   ],
   "source": [
    "a"
   ]
  },
  {
   "cell_type": "code",
   "execution_count": 109,
   "id": "d230ff84",
   "metadata": {},
   "outputs": [
    {
     "data": {
      "text/plain": [
       "{'Maruti': 12, 'Honda': 44, 'Kia': 55}"
      ]
     },
     "execution_count": 109,
     "metadata": {},
     "output_type": "execute_result"
    }
   ],
   "source": [
    "a"
   ]
  },
  {
   "cell_type": "code",
   "execution_count": 110,
   "id": "f0ed7aef",
   "metadata": {
    "scrolled": true
   },
   "outputs": [
    {
     "data": {
      "text/plain": [
       "dict_items([('Maruti', 12), ('Honda', 44), ('Kia', 55)])"
      ]
     },
     "execution_count": 110,
     "metadata": {},
     "output_type": "execute_result"
    }
   ],
   "source": [
    "a.items()"
   ]
  },
  {
   "cell_type": "code",
   "execution_count": 111,
   "id": "693d6f94",
   "metadata": {},
   "outputs": [
    {
     "data": {
      "text/plain": [
       "{'Maruti': 12, 'Honda': 44, 'Kia': 55}"
      ]
     },
     "execution_count": 111,
     "metadata": {},
     "output_type": "execute_result"
    }
   ],
   "source": [
    "a"
   ]
  },
  {
   "cell_type": "code",
   "execution_count": 112,
   "id": "92f0443a",
   "metadata": {},
   "outputs": [],
   "source": [
    "a.update([('Maruti',900),   ('Tata',100),     ('Honda',567)])"
   ]
  },
  {
   "cell_type": "code",
   "execution_count": 113,
   "id": "2eb2ad26",
   "metadata": {
    "scrolled": true
   },
   "outputs": [
    {
     "data": {
      "text/plain": [
       "{'Maruti': 900, 'Honda': 567, 'Kia': 55, 'Tata': 100}"
      ]
     },
     "execution_count": 113,
     "metadata": {},
     "output_type": "execute_result"
    }
   ],
   "source": [
    "a"
   ]
  },
  {
   "cell_type": "code",
   "execution_count": 114,
   "id": "ba4018d9",
   "metadata": {},
   "outputs": [
    {
     "data": {
      "text/plain": [
       "{'Maruti': 900, 'Honda': 567, 'Kia': 55, 'Tata': 100}"
      ]
     },
     "execution_count": 114,
     "metadata": {},
     "output_type": "execute_result"
    }
   ],
   "source": [
    "a"
   ]
  },
  {
   "cell_type": "code",
   "execution_count": 115,
   "id": "dfa6a0f0",
   "metadata": {},
   "outputs": [],
   "source": [
    "a.update((('Maruti',9),   ('Tata',1),     ('Honda',5)))"
   ]
  },
  {
   "cell_type": "code",
   "execution_count": 116,
   "id": "bd315048",
   "metadata": {},
   "outputs": [
    {
     "data": {
      "text/plain": [
       "{'Maruti': 9, 'Honda': 5, 'Kia': 55, 'Tata': 1}"
      ]
     },
     "execution_count": 116,
     "metadata": {},
     "output_type": "execute_result"
    }
   ],
   "source": [
    "a"
   ]
  },
  {
   "cell_type": "code",
   "execution_count": 117,
   "id": "e585156c",
   "metadata": {},
   "outputs": [],
   "source": [
    "a.update([['Maruti',900000000],   ['Tata',10000],     ['Honda',50000]])"
   ]
  },
  {
   "cell_type": "code",
   "execution_count": 118,
   "id": "ac284add",
   "metadata": {},
   "outputs": [
    {
     "data": {
      "text/plain": [
       "{'Maruti': 900000000, 'Honda': 50000, 'Kia': 55, 'Tata': 10000}"
      ]
     },
     "execution_count": 118,
     "metadata": {},
     "output_type": "execute_result"
    }
   ],
   "source": [
    "a"
   ]
  },
  {
   "cell_type": "code",
   "execution_count": 119,
   "id": "225c82dc",
   "metadata": {},
   "outputs": [],
   "source": [
    "a.update([{'Maruti':12,'kia':34}])"
   ]
  },
  {
   "cell_type": "code",
   "execution_count": 120,
   "id": "2a6e8638",
   "metadata": {},
   "outputs": [
    {
     "data": {
      "text/plain": [
       "{'Maruti': 'kia', 'Honda': 50000, 'Kia': 55, 'Tata': 10000}"
      ]
     },
     "execution_count": 120,
     "metadata": {},
     "output_type": "execute_result"
    }
   ],
   "source": [
    "a"
   ]
  },
  {
   "cell_type": "code",
   "execution_count": 121,
   "id": "aae811a4",
   "metadata": {},
   "outputs": [],
   "source": [
    "a.update({'Maruti':23})"
   ]
  },
  {
   "cell_type": "code",
   "execution_count": 122,
   "id": "962d0ec4",
   "metadata": {},
   "outputs": [
    {
     "data": {
      "text/plain": [
       "{'Maruti': 23, 'Honda': 50000, 'Kia': 55, 'Tata': 10000}"
      ]
     },
     "execution_count": 122,
     "metadata": {},
     "output_type": "execute_result"
    }
   ],
   "source": [
    "a"
   ]
  },
  {
   "cell_type": "code",
   "execution_count": 123,
   "id": "d84fde86",
   "metadata": {},
   "outputs": [],
   "source": [
    "a = {'Name':'Mohan'}\n",
    "b = {'Age':23}\n",
    "c = {'class':5}"
   ]
  },
  {
   "cell_type": "code",
   "execution_count": 124,
   "id": "9c9878a5",
   "metadata": {},
   "outputs": [
    {
     "ename": "TypeError",
     "evalue": "unsupported operand type(s) for +: 'dict' and 'dict'",
     "output_type": "error",
     "traceback": [
      "\u001b[1;31m---------------------------------------------------------------------------\u001b[0m",
      "\u001b[1;31mTypeError\u001b[0m                                 Traceback (most recent call last)",
      "Cell \u001b[1;32mIn[124], line 1\u001b[0m\n\u001b[1;32m----> 1\u001b[0m \u001b[38;5;28mprint\u001b[39m(a\u001b[38;5;241m+\u001b[39mb\u001b[38;5;241m+\u001b[39mc)\n",
      "\u001b[1;31mTypeError\u001b[0m: unsupported operand type(s) for +: 'dict' and 'dict'"
     ]
    }
   ],
   "source": [
    "print(a+b+c)"
   ]
  },
  {
   "cell_type": "code",
   "execution_count": 125,
   "id": "68d14d47",
   "metadata": {},
   "outputs": [
    {
     "data": {
      "text/plain": [
       "{'Name': 'Mohan', 'Age': 23, 'class': 5}"
      ]
     },
     "execution_count": 125,
     "metadata": {},
     "output_type": "execute_result"
    }
   ],
   "source": [
    "var_dict = {**a,**b,**c}\n",
    "\n",
    "var_dict"
   ]
  },
  {
   "cell_type": "code",
   "execution_count": 126,
   "id": "549e6486",
   "metadata": {},
   "outputs": [],
   "source": [
    "sandeep = {**a,**b,**c}"
   ]
  },
  {
   "cell_type": "code",
   "execution_count": 127,
   "id": "6a0fb7fc",
   "metadata": {},
   "outputs": [
    {
     "data": {
      "text/plain": [
       "{'Name': 'Mohan', 'Age': 23, 'class': 5}"
      ]
     },
     "execution_count": 127,
     "metadata": {},
     "output_type": "execute_result"
    }
   ],
   "source": [
    "sandeep"
   ]
  },
  {
   "cell_type": "code",
   "execution_count": 128,
   "id": "a6a76582",
   "metadata": {},
   "outputs": [],
   "source": [
    "sandeep = {*a,*b,*c}"
   ]
  },
  {
   "cell_type": "code",
   "execution_count": 129,
   "id": "69c17826",
   "metadata": {},
   "outputs": [
    {
     "data": {
      "text/plain": [
       "{'Age', 'Name', 'class'}"
      ]
     },
     "execution_count": 129,
     "metadata": {},
     "output_type": "execute_result"
    }
   ],
   "source": [
    "sandeep"
   ]
  },
  {
   "cell_type": "code",
   "execution_count": 130,
   "id": "11c1d829",
   "metadata": {},
   "outputs": [
    {
     "name": "stdout",
     "output_type": "stream",
     "text": [
      "<class 'set'>\n"
     ]
    }
   ],
   "source": [
    "print(type(sandeep))"
   ]
  },
  {
   "cell_type": "code",
   "execution_count": 131,
   "id": "9f9d6f1d",
   "metadata": {},
   "outputs": [
    {
     "ename": "SyntaxError",
     "evalue": "invalid syntax (533095343.py, line 1)",
     "output_type": "error",
     "traceback": [
      "\u001b[1;36m  Cell \u001b[1;32mIn[131], line 1\u001b[1;36m\u001b[0m\n\u001b[1;33m    raj = [**a,**b,**c]\u001b[0m\n\u001b[1;37m           ^\u001b[0m\n\u001b[1;31mSyntaxError\u001b[0m\u001b[1;31m:\u001b[0m invalid syntax\n"
     ]
    }
   ],
   "source": [
    "raj = [**a,**b,**c]"
   ]
  },
  {
   "cell_type": "code",
   "execution_count": 132,
   "id": "6a14b8e7",
   "metadata": {},
   "outputs": [],
   "source": [
    "raj = [*a,*b,*c]"
   ]
  },
  {
   "cell_type": "code",
   "execution_count": 133,
   "id": "eda4ca7f",
   "metadata": {},
   "outputs": [
    {
     "data": {
      "text/plain": [
       "['Name', 'Age', 'class']"
      ]
     },
     "execution_count": 133,
     "metadata": {},
     "output_type": "execute_result"
    }
   ],
   "source": [
    "raj"
   ]
  },
  {
   "cell_type": "code",
   "execution_count": 136,
   "id": "ab0babc7",
   "metadata": {},
   "outputs": [
    {
     "data": {
      "text/plain": [
       "{'Name': 'Mohan', 'Age': 23, 'class': 5}"
      ]
     },
     "execution_count": 136,
     "metadata": {},
     "output_type": "execute_result"
    }
   ],
   "source": [
    "var_dict"
   ]
  },
  {
   "cell_type": "code",
   "execution_count": 137,
   "id": "54187a09",
   "metadata": {},
   "outputs": [
    {
     "data": {
      "text/plain": [
       "dict_keys(['Name', 'Age', 'class'])"
      ]
     },
     "execution_count": 137,
     "metadata": {},
     "output_type": "execute_result"
    }
   ],
   "source": [
    "var_dict.keys()"
   ]
  },
  {
   "cell_type": "code",
   "execution_count": 138,
   "id": "48b769a7",
   "metadata": {},
   "outputs": [
    {
     "data": {
      "text/plain": [
       "['Name', 'Age', 'class']"
      ]
     },
     "execution_count": 138,
     "metadata": {},
     "output_type": "execute_result"
    }
   ],
   "source": [
    "list(var_dict)"
   ]
  },
  {
   "cell_type": "code",
   "execution_count": 139,
   "id": "748f8b38",
   "metadata": {},
   "outputs": [
    {
     "data": {
      "text/plain": [
       "['Name', 'Age', 'class']"
      ]
     },
     "execution_count": 139,
     "metadata": {},
     "output_type": "execute_result"
    }
   ],
   "source": [
    "[*var_dict]"
   ]
  },
  {
   "cell_type": "code",
   "execution_count": 140,
   "id": "ac9df413",
   "metadata": {},
   "outputs": [],
   "source": [
    "a['Namee'] = 'Mohan'"
   ]
  },
  {
   "cell_type": "code",
   "execution_count": 141,
   "id": "4d2be9f0",
   "metadata": {},
   "outputs": [
    {
     "data": {
      "text/plain": [
       "{'Name': 'Mohan', 'Namee': 'Mohan'}"
      ]
     },
     "execution_count": 141,
     "metadata": {},
     "output_type": "execute_result"
    }
   ],
   "source": [
    "a"
   ]
  },
  {
   "cell_type": "code",
   "execution_count": 142,
   "id": "49981389",
   "metadata": {},
   "outputs": [],
   "source": [
    "import random"
   ]
  },
  {
   "cell_type": "code",
   "execution_count": 169,
   "id": "be8592cc",
   "metadata": {},
   "outputs": [
    {
     "name": "stdout",
     "output_type": "stream",
     "text": [
      "Guess a number: (1 to 4)3\n",
      "Your choice:  3\n",
      "comp choice:  3\n",
      "you won!!\n"
     ]
    }
   ],
   "source": [
    "user = int(input('Guess a number: (1 to 4)'))\n",
    "\n",
    "comp_choice = random.randint(1,4)\n",
    "\n",
    "print('Your choice: ',user)\n",
    "print('comp choice: ',comp_choice)\n",
    "\n",
    "if user == comp_choice:\n",
    "    print('you won!!')\n",
    "else:\n",
    "    print('You Lose!!')"
   ]
  },
  {
   "cell_type": "code",
   "execution_count": null,
   "id": "6bbd1ad6",
   "metadata": {},
   "outputs": [],
   "source": []
  }
 ],
 "metadata": {
  "kernelspec": {
   "display_name": "Python 3 (ipykernel)",
   "language": "python",
   "name": "python3"
  },
  "language_info": {
   "codemirror_mode": {
    "name": "ipython",
    "version": 3
   },
   "file_extension": ".py",
   "mimetype": "text/x-python",
   "name": "python",
   "nbconvert_exporter": "python",
   "pygments_lexer": "ipython3",
   "version": "3.11.3"
  }
 },
 "nbformat": 4,
 "nbformat_minor": 5
}
