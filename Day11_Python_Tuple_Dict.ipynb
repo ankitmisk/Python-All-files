{
 "cells": [
  {
   "cell_type": "code",
   "execution_count": 1,
   "id": "5194609a",
   "metadata": {},
   "outputs": [
    {
     "name": "stdout",
     "output_type": "stream",
     "text": [
      "(12, 12, 432, 543, 6)\n"
     ]
    }
   ],
   "source": [
    "a = (12,12,432,543,6)\n",
    "\n",
    "print(a)"
   ]
  },
  {
   "cell_type": "code",
   "execution_count": 2,
   "id": "0ce6ee4f",
   "metadata": {},
   "outputs": [
    {
     "data": {
      "text/plain": [
       "tuple"
      ]
     },
     "execution_count": 2,
     "metadata": {},
     "output_type": "execute_result"
    }
   ],
   "source": [
    "type(a)"
   ]
  },
  {
   "cell_type": "code",
   "execution_count": 3,
   "id": "dcf6fa25",
   "metadata": {},
   "outputs": [
    {
     "name": "stdout",
     "output_type": "stream",
     "text": [
      "(12, 432, 42, 5346, 546, 57, 43, 5)\n"
     ]
    }
   ],
   "source": [
    "a = 12,432,42,5346,546,57,43,5\n",
    "\n",
    "print(a)"
   ]
  },
  {
   "cell_type": "code",
   "execution_count": 4,
   "id": "fc1f6ef5",
   "metadata": {},
   "outputs": [
    {
     "name": "stdout",
     "output_type": "stream",
     "text": [
      "(12, 43, 5, 'Mohan', 34.6, True, {'Name': 'Ajay'}, {1, 124, 325}, None, [12, 432, 546], (1, 324, 43654, 6))\n"
     ]
    }
   ],
   "source": [
    "#1>> Tuple can contain multiple data types\n",
    "\n",
    "a = (12,43,5,'Mohan',34.6,True,{'Name':'Ajay'},{1,124,325},\n",
    "    None,[12,432,546],(1,324,43654,6))\n",
    "\n",
    "print(a)"
   ]
  },
  {
   "cell_type": "code",
   "execution_count": 5,
   "id": "0e112ff5",
   "metadata": {},
   "outputs": [
    {
     "name": "stdout",
     "output_type": "stream",
     "text": [
      "(11, 243, 5, (1, 24, 35, (2, 23, 4534, 5, (1, 4, 3256))))\n"
     ]
    }
   ],
   "source": [
    "#2>> Tuple can be nested:- tuple inside tuple\n",
    "\n",
    "\n",
    "a = (11,243,5,(1,24,35,(2,23,4534,5,(1,4,3256))))\n",
    "\n",
    "print(a)"
   ]
  },
  {
   "cell_type": "code",
   "execution_count": 6,
   "id": "40a7e72b",
   "metadata": {},
   "outputs": [
    {
     "name": "stdout",
     "output_type": "stream",
     "text": [
      "43\n"
     ]
    }
   ],
   "source": [
    "# 3>> tuple also supports indexing and slicing\n",
    "\n",
    "a = (12,43,4,67)\n",
    "\n",
    "print(a[1])"
   ]
  },
  {
   "cell_type": "code",
   "execution_count": 8,
   "id": "204c468b",
   "metadata": {},
   "outputs": [
    {
     "data": {
      "text/plain": [
       "(342, 434, 64, 53)"
      ]
     },
     "execution_count": 8,
     "metadata": {},
     "output_type": "execute_result"
    }
   ],
   "source": [
    "s = (1,24,3454,342,434,64,53,546)\n",
    "\n",
    "\n",
    "s[3:-1]"
   ]
  },
  {
   "cell_type": "code",
   "execution_count": 9,
   "id": "0a756713",
   "metadata": {},
   "outputs": [
    {
     "data": {
      "text/plain": [
       "7"
      ]
     },
     "execution_count": 9,
     "metadata": {},
     "output_type": "execute_result"
    }
   ],
   "source": [
    "# tuple does not support item assignment\n",
    "\n",
    "a = (2,343,65,7)\n",
    "\n",
    "a[3]"
   ]
  },
  {
   "cell_type": "code",
   "execution_count": 10,
   "id": "adfefe9e",
   "metadata": {},
   "outputs": [
    {
     "ename": "TypeError",
     "evalue": "'tuple' object does not support item assignment",
     "output_type": "error",
     "traceback": [
      "\u001b[1;31m---------------------------------------------------------------------------\u001b[0m",
      "\u001b[1;31mTypeError\u001b[0m                                 Traceback (most recent call last)",
      "Cell \u001b[1;32mIn[10], line 1\u001b[0m\n\u001b[1;32m----> 1\u001b[0m a[\u001b[38;5;241m2\u001b[39m] \u001b[38;5;241m=\u001b[39m \u001b[38;5;241m2345678\u001b[39m\n",
      "\u001b[1;31mTypeError\u001b[0m: 'tuple' object does not support item assignment"
     ]
    }
   ],
   "source": [
    "a[2] = 2345678"
   ]
  },
  {
   "cell_type": "code",
   "execution_count": 11,
   "id": "6d7bde8a",
   "metadata": {},
   "outputs": [],
   "source": [
    "# TypeError: 'tuple' object does not support item assignment"
   ]
  },
  {
   "cell_type": "code",
   "execution_count": 13,
   "id": "cfbac1a2",
   "metadata": {},
   "outputs": [
    {
     "name": "stdout",
     "output_type": "stream",
     "text": [
      "()\n"
     ]
    },
    {
     "data": {
      "text/plain": [
       "tuple"
      ]
     },
     "execution_count": 13,
     "metadata": {},
     "output_type": "execute_result"
    }
   ],
   "source": [
    "# empty tuple\n",
    "\n",
    "a = ()\n",
    "\n",
    "print(a)\n",
    "type(a)"
   ]
  },
  {
   "cell_type": "code",
   "execution_count": 14,
   "id": "277acdb1",
   "metadata": {},
   "outputs": [
    {
     "name": "stdout",
     "output_type": "stream",
     "text": [
      "7\n"
     ]
    }
   ],
   "source": [
    "# single element tuple\n",
    "\n",
    "a = (7)\n",
    "\n",
    "print(a)"
   ]
  },
  {
   "cell_type": "code",
   "execution_count": 15,
   "id": "7dc61465",
   "metadata": {},
   "outputs": [
    {
     "name": "stdout",
     "output_type": "stream",
     "text": [
      "<class 'int'>\n"
     ]
    }
   ],
   "source": [
    "print(type(a))"
   ]
  },
  {
   "cell_type": "code",
   "execution_count": 16,
   "id": "1532c3e1",
   "metadata": {},
   "outputs": [
    {
     "name": "stdout",
     "output_type": "stream",
     "text": [
      "(7,)\n"
     ]
    }
   ],
   "source": [
    "# single element tuple\n",
    "\n",
    "a = (7,)\n",
    "\n",
    "print(a)"
   ]
  },
  {
   "cell_type": "code",
   "execution_count": 17,
   "id": "3e066db1",
   "metadata": {},
   "outputs": [
    {
     "name": "stdout",
     "output_type": "stream",
     "text": [
      "<class 'tuple'>\n"
     ]
    }
   ],
   "source": [
    "print(type(a))"
   ]
  },
  {
   "cell_type": "code",
   "execution_count": 18,
   "id": "d3d8a716",
   "metadata": {},
   "outputs": [
    {
     "name": "stdout",
     "output_type": "stream",
     "text": [
      "(1, 24, 36, 7, 2, 35, 4576, 8)\n"
     ]
    }
   ],
   "source": [
    "# Basic operations\n",
    "\n",
    "a = (1,24,36,7)\n",
    "b = (2,35,4576,8)\n",
    "\n",
    "\n",
    "print(a+b)"
   ]
  },
  {
   "cell_type": "code",
   "execution_count": 19,
   "id": "064df1e0",
   "metadata": {},
   "outputs": [
    {
     "ename": "TypeError",
     "evalue": "can't multiply sequence by non-int of type 'tuple'",
     "output_type": "error",
     "traceback": [
      "\u001b[1;31m---------------------------------------------------------------------------\u001b[0m",
      "\u001b[1;31mTypeError\u001b[0m                                 Traceback (most recent call last)",
      "Cell \u001b[1;32mIn[19], line 7\u001b[0m\n\u001b[0;32m      3\u001b[0m a \u001b[38;5;241m=\u001b[39m (\u001b[38;5;241m1\u001b[39m,\u001b[38;5;241m24\u001b[39m,\u001b[38;5;241m36\u001b[39m,\u001b[38;5;241m7\u001b[39m)\n\u001b[0;32m      4\u001b[0m b \u001b[38;5;241m=\u001b[39m (\u001b[38;5;241m2\u001b[39m,\u001b[38;5;241m35\u001b[39m,\u001b[38;5;241m4576\u001b[39m,\u001b[38;5;241m8\u001b[39m)\n\u001b[1;32m----> 7\u001b[0m \u001b[38;5;28mprint\u001b[39m(a\u001b[38;5;241m*\u001b[39mb)\n",
      "\u001b[1;31mTypeError\u001b[0m: can't multiply sequence by non-int of type 'tuple'"
     ]
    }
   ],
   "source": [
    "# Basic operations\n",
    "\n",
    "a = (1,24,36,7)\n",
    "b = (2,35,4576,8)\n",
    "\n",
    "\n",
    "print(a*b)"
   ]
  },
  {
   "cell_type": "code",
   "execution_count": 20,
   "id": "8664d2e6",
   "metadata": {},
   "outputs": [
    {
     "name": "stdout",
     "output_type": "stream",
     "text": [
      "(1, 24, 36, 7, 1, 24, 36, 7)\n"
     ]
    }
   ],
   "source": [
    "# Basic operations\n",
    "\n",
    "a = (1,24,36,7)\n",
    "b = (2,35,4576,8)\n",
    "\n",
    "\n",
    "print(a*2)"
   ]
  },
  {
   "cell_type": "code",
   "execution_count": 21,
   "id": "533ddbf4",
   "metadata": {},
   "outputs": [
    {
     "name": "stdout",
     "output_type": "stream",
     "text": [
      "[1, 24, 356, 547]\n"
     ]
    }
   ],
   "source": [
    "# tuple can be type casted to list and vice versa\n",
    "\n",
    "a = (1,24,356,547)\n",
    "\n",
    "a = list(a)\n",
    "\n",
    "print(a)"
   ]
  },
  {
   "cell_type": "code",
   "execution_count": 22,
   "id": "a31a4d0e",
   "metadata": {},
   "outputs": [
    {
     "name": "stdout",
     "output_type": "stream",
     "text": [
      "(1, 24, 356, 547)\n"
     ]
    }
   ],
   "source": [
    "a = [1,24,356,547]\n",
    "\n",
    "a = tuple(a)\n",
    "\n",
    "print(a)"
   ]
  },
  {
   "cell_type": "code",
   "execution_count": 23,
   "id": "b4eb663e",
   "metadata": {},
   "outputs": [
    {
     "data": {
      "text/plain": [
       "3"
      ]
     },
     "execution_count": 23,
     "metadata": {},
     "output_type": "execute_result"
    }
   ],
   "source": [
    "# tuple methods\n",
    "\n",
    "# ['count','index']\n",
    "\n",
    "a = (12,31,3,123,12,312,21,3,31231,3,31,312,31,23,12)\n",
    "\n",
    "a.count(12)"
   ]
  },
  {
   "cell_type": "code",
   "execution_count": 24,
   "id": "1b38566f",
   "metadata": {},
   "outputs": [
    {
     "data": {
      "text/plain": [
       "0"
      ]
     },
     "execution_count": 24,
     "metadata": {},
     "output_type": "execute_result"
    }
   ],
   "source": [
    "a.count(123456789)"
   ]
  },
  {
   "cell_type": "code",
   "execution_count": 25,
   "id": "a6fa1d9b",
   "metadata": {},
   "outputs": [
    {
     "data": {
      "text/plain": [
       "1"
      ]
     },
     "execution_count": 25,
     "metadata": {},
     "output_type": "execute_result"
    }
   ],
   "source": [
    "a.index(31)"
   ]
  },
  {
   "cell_type": "code",
   "execution_count": 27,
   "id": "a1d61110",
   "metadata": {},
   "outputs": [
    {
     "data": {
      "text/plain": [
       "10"
      ]
     },
     "execution_count": 27,
     "metadata": {},
     "output_type": "execute_result"
    }
   ],
   "source": [
    "a.index(31,2)"
   ]
  },
  {
   "cell_type": "code",
   "execution_count": 28,
   "id": "19ad5ae7",
   "metadata": {},
   "outputs": [
    {
     "data": {
      "text/plain": [
       "(34, 12, 31, 2, 4234, (1, 24, 325, (2, 23, 54436, (3, 23534, 6))))"
      ]
     },
     "execution_count": 28,
     "metadata": {},
     "output_type": "execute_result"
    }
   ],
   "source": [
    "# slice elements\n",
    "\n",
    "\n",
    "a = (34,12,31,2,4234,(1,24,325,(2,23,54436,(3,23534,6))))\n",
    "\n",
    "\n",
    "\n",
    "a"
   ]
  },
  {
   "cell_type": "code",
   "execution_count": 33,
   "id": "4c333322",
   "metadata": {},
   "outputs": [
    {
     "data": {
      "text/plain": [
       "54436"
      ]
     },
     "execution_count": 33,
     "metadata": {},
     "output_type": "execute_result"
    }
   ],
   "source": [
    "a[5][3][2]"
   ]
  },
  {
   "cell_type": "code",
   "execution_count": null,
   "id": "2fa3c560",
   "metadata": {},
   "outputs": [],
   "source": []
  },
  {
   "cell_type": "markdown",
   "id": "08ab3e85",
   "metadata": {},
   "source": [
    "# Dictionary"
   ]
  },
  {
   "cell_type": "code",
   "execution_count": 34,
   "id": "c3a3e37a",
   "metadata": {},
   "outputs": [],
   "source": [
    "# # Mapping data type\n",
    "\n",
    "\n",
    "# {'Key':'Element'}\n",
    "# {'Key':'Value'}\n",
    "\n",
    "# {'Key':'object'}"
   ]
  },
  {
   "cell_type": "code",
   "execution_count": 35,
   "id": "21936aaa",
   "metadata": {},
   "outputs": [],
   "source": [
    "a = {'Name':'Mohan',\n",
    "    'Age':23,\n",
    "    'class':12,\n",
    "    'Address':'Noida'}"
   ]
  },
  {
   "cell_type": "code",
   "execution_count": 36,
   "id": "9745b280",
   "metadata": {},
   "outputs": [
    {
     "data": {
      "text/plain": [
       "{'Name': 'Mohan', 'Age': 23, 'class': 12, 'Address': 'Noida'}"
      ]
     },
     "execution_count": 36,
     "metadata": {},
     "output_type": "execute_result"
    }
   ],
   "source": [
    "a"
   ]
  },
  {
   "cell_type": "code",
   "execution_count": 37,
   "id": "1bf3c2c4",
   "metadata": {},
   "outputs": [],
   "source": [
    "import pandas as pd"
   ]
  },
  {
   "cell_type": "code",
   "execution_count": 39,
   "id": "f2e54c7c",
   "metadata": {},
   "outputs": [
    {
     "data": {
      "text/html": [
       "<div>\n",
       "<style scoped>\n",
       "    .dataframe tbody tr th:only-of-type {\n",
       "        vertical-align: middle;\n",
       "    }\n",
       "\n",
       "    .dataframe tbody tr th {\n",
       "        vertical-align: top;\n",
       "    }\n",
       "\n",
       "    .dataframe thead th {\n",
       "        text-align: right;\n",
       "    }\n",
       "</style>\n",
       "<table border=\"1\" class=\"dataframe\">\n",
       "  <thead>\n",
       "    <tr style=\"text-align: right;\">\n",
       "      <th></th>\n",
       "      <th>Name</th>\n",
       "      <th>Age</th>\n",
       "      <th>class</th>\n",
       "      <th>Address</th>\n",
       "    </tr>\n",
       "  </thead>\n",
       "  <tbody>\n",
       "    <tr>\n",
       "      <th>1</th>\n",
       "      <td>Mohan</td>\n",
       "      <td>23</td>\n",
       "      <td>12</td>\n",
       "      <td>Noida</td>\n",
       "    </tr>\n",
       "  </tbody>\n",
       "</table>\n",
       "</div>"
      ],
      "text/plain": [
       "    Name  Age  class Address\n",
       "1  Mohan   23     12   Noida"
      ]
     },
     "execution_count": 39,
     "metadata": {},
     "output_type": "execute_result"
    }
   ],
   "source": [
    "pd.DataFrame(a,index=[1])"
   ]
  },
  {
   "cell_type": "code",
   "execution_count": 40,
   "id": "8c7cb49f",
   "metadata": {},
   "outputs": [
    {
     "data": {
      "text/html": [
       "<div>\n",
       "<style scoped>\n",
       "    .dataframe tbody tr th:only-of-type {\n",
       "        vertical-align: middle;\n",
       "    }\n",
       "\n",
       "    .dataframe tbody tr th {\n",
       "        vertical-align: top;\n",
       "    }\n",
       "\n",
       "    .dataframe thead th {\n",
       "        text-align: right;\n",
       "    }\n",
       "</style>\n",
       "<table border=\"1\" class=\"dataframe\">\n",
       "  <thead>\n",
       "    <tr style=\"text-align: right;\">\n",
       "      <th></th>\n",
       "      <th>Name</th>\n",
       "      <th>Age</th>\n",
       "      <th>Salary</th>\n",
       "      <th>Address</th>\n",
       "    </tr>\n",
       "  </thead>\n",
       "  <tbody>\n",
       "    <tr>\n",
       "      <th>0</th>\n",
       "      <td>Ajay</td>\n",
       "      <td>23</td>\n",
       "      <td>31</td>\n",
       "      <td>Noida</td>\n",
       "    </tr>\n",
       "    <tr>\n",
       "      <th>1</th>\n",
       "      <td>Vipin</td>\n",
       "      <td>25</td>\n",
       "      <td>40</td>\n",
       "      <td>Delhi</td>\n",
       "    </tr>\n",
       "    <tr>\n",
       "      <th>2</th>\n",
       "      <td>Sandeep</td>\n",
       "      <td>20</td>\n",
       "      <td>21</td>\n",
       "      <td>Bihar</td>\n",
       "    </tr>\n",
       "  </tbody>\n",
       "</table>\n",
       "</div>"
      ],
      "text/plain": [
       "      Name  Age  Salary Address\n",
       "0     Ajay   23      31   Noida\n",
       "1    Vipin   25      40   Delhi\n",
       "2  Sandeep   20      21   Bihar"
      ]
     },
     "execution_count": 40,
     "metadata": {},
     "output_type": "execute_result"
    }
   ],
   "source": [
    "# Multiple values\n",
    "a = {'Name':['Ajay','Vipin','Sandeep'],\n",
    "    'Age':[23,25,20],\n",
    "    'Salary':[31,40,21],\n",
    "    'Address':['Noida','Delhi','Bihar']}\n",
    "\n",
    "pd.DataFrame(a)"
   ]
  },
  {
   "cell_type": "code",
   "execution_count": 41,
   "id": "9af04452",
   "metadata": {},
   "outputs": [],
   "source": [
    "# # Key position data types\n",
    "# key:- tuple,int,str,frozenset,float,complex,bool\n",
    "# value:- All"
   ]
  },
  {
   "cell_type": "code",
   "execution_count": 45,
   "id": "6399c15a",
   "metadata": {},
   "outputs": [
    {
     "name": "stdout",
     "output_type": "stream",
     "text": [
      "{(12, 323, 5): [12, 432, 5346]}\n",
      "<class 'dict'>\n"
     ]
    }
   ],
   "source": [
    "# tuple\n",
    "\n",
    "a = {(12,323,5):[12,432,5346]}\n",
    "\n",
    "print(a)\n",
    "print(type(a))"
   ]
  },
  {
   "cell_type": "code",
   "execution_count": 44,
   "id": "912ab050",
   "metadata": {},
   "outputs": [
    {
     "name": "stdout",
     "output_type": "stream",
     "text": [
      "{1: True}\n",
      "<class 'dict'>\n"
     ]
    }
   ],
   "source": [
    "a  = {1:True}\n",
    "\n",
    "print(a)\n",
    "print(type(a))"
   ]
  },
  {
   "cell_type": "code",
   "execution_count": 46,
   "id": "04dc655a",
   "metadata": {},
   "outputs": [
    {
     "name": "stdout",
     "output_type": "stream",
     "text": [
      "{1.5: True}\n",
      "<class 'dict'>\n"
     ]
    }
   ],
   "source": [
    "a  = {1.5:True}\n",
    "\n",
    "print(a)\n",
    "print(type(a))"
   ]
  },
  {
   "cell_type": "code",
   "execution_count": 47,
   "id": "15b131f5",
   "metadata": {},
   "outputs": [
    {
     "name": "stdout",
     "output_type": "stream",
     "text": [
      "{(1-8j): True}\n",
      "<class 'dict'>\n"
     ]
    }
   ],
   "source": [
    "a  = {1-8j:True}\n",
    "\n",
    "print(a)\n",
    "print(type(a))"
   ]
  },
  {
   "cell_type": "code",
   "execution_count": 48,
   "id": "b43389ff",
   "metadata": {},
   "outputs": [
    {
     "name": "stdout",
     "output_type": "stream",
     "text": [
      "{'Age': True}\n",
      "<class 'dict'>\n"
     ]
    }
   ],
   "source": [
    "a  = {'Age':True}\n",
    "\n",
    "print(a)\n",
    "print(type(a))"
   ]
  },
  {
   "cell_type": "code",
   "execution_count": 49,
   "id": "38fef9d4",
   "metadata": {},
   "outputs": [
    {
     "name": "stdout",
     "output_type": "stream",
     "text": [
      "{frozenset({1, 243, 5}): True}\n",
      "<class 'dict'>\n"
     ]
    }
   ],
   "source": [
    "a  = {frozenset((1,243,5)):True}\n",
    "\n",
    "print(a)\n",
    "print(type(a))"
   ]
  },
  {
   "cell_type": "code",
   "execution_count": 50,
   "id": "0d8ba661",
   "metadata": {},
   "outputs": [
    {
     "name": "stdout",
     "output_type": "stream",
     "text": [
      "{True: True}\n",
      "<class 'dict'>\n"
     ]
    }
   ],
   "source": [
    "a  = {True:True}\n",
    "\n",
    "print(a)\n",
    "print(type(a))"
   ]
  },
  {
   "cell_type": "code",
   "execution_count": 52,
   "id": "56d81ea1",
   "metadata": {},
   "outputs": [
    {
     "name": "stdout",
     "output_type": "stream",
     "text": [
      "{1: True, 2: (1, 242, 356), 3: [1, 243, 6], 4: {24, 1, 26}, 5: 45.6, 6: 600, 7: {'Name': 'Age'}, 8: None, 9: frozenset({1, 4325, 23}), 10: (45-8j)}\n",
      "<class 'dict'>\n"
     ]
    }
   ],
   "source": [
    "a  = {1:True,\n",
    "     2:(1,242,356),\n",
    "     3:[1,243,6],\n",
    "     4:{1,24,26},\n",
    "     5:45.6,\n",
    "     6:600,\n",
    "     7:{'Name':'Age'},\n",
    "     8:None,\n",
    "     9:frozenset((1,23,4325)),\n",
    "     10:45-8j}\n",
    "\n",
    "print(a)\n",
    "print(type(a))"
   ]
  },
  {
   "cell_type": "code",
   "execution_count": 53,
   "id": "937dab51",
   "metadata": {},
   "outputs": [
    {
     "name": "stdout",
     "output_type": "stream",
     "text": [
      "{}\n",
      "<class 'dict'>\n"
     ]
    }
   ],
   "source": [
    "# Empty dict\n",
    "\n",
    "a = {}\n",
    "\n",
    "print(a)\n",
    "print(type(a))"
   ]
  },
  {
   "cell_type": "code",
   "execution_count": 54,
   "id": "2d58aa2a",
   "metadata": {},
   "outputs": [],
   "source": [
    "# dictionary what are not allowed at key position\n",
    "\n",
    "# key not allowed: dict,list,set"
   ]
  },
  {
   "cell_type": "code",
   "execution_count": 55,
   "id": "471e9013",
   "metadata": {},
   "outputs": [
    {
     "ename": "TypeError",
     "evalue": "unhashable type: 'set'",
     "output_type": "error",
     "traceback": [
      "\u001b[1;31m---------------------------------------------------------------------------\u001b[0m",
      "\u001b[1;31mTypeError\u001b[0m                                 Traceback (most recent call last)",
      "Cell \u001b[1;32mIn[55], line 1\u001b[0m\n\u001b[1;32m----> 1\u001b[0m a \u001b[38;5;241m=\u001b[39m {{\u001b[38;5;241m1\u001b[39m,\u001b[38;5;241m232\u001b[39m,\u001b[38;5;241m53\u001b[39m}:\u001b[38;5;28;01mTrue\u001b[39;00m}\n",
      "\u001b[1;31mTypeError\u001b[0m: unhashable type: 'set'"
     ]
    }
   ],
   "source": [
    "a = {{1,232,53}:True}"
   ]
  },
  {
   "cell_type": "code",
   "execution_count": 56,
   "id": "9d45909c",
   "metadata": {},
   "outputs": [
    {
     "ename": "TypeError",
     "evalue": "unhashable type: 'list'",
     "output_type": "error",
     "traceback": [
      "\u001b[1;31m---------------------------------------------------------------------------\u001b[0m",
      "\u001b[1;31mTypeError\u001b[0m                                 Traceback (most recent call last)",
      "Cell \u001b[1;32mIn[56], line 1\u001b[0m\n\u001b[1;32m----> 1\u001b[0m a \u001b[38;5;241m=\u001b[39m {[\u001b[38;5;241m1\u001b[39m,\u001b[38;5;241m232\u001b[39m,\u001b[38;5;241m53\u001b[39m]:\u001b[38;5;28;01mTrue\u001b[39;00m}\n",
      "\u001b[1;31mTypeError\u001b[0m: unhashable type: 'list'"
     ]
    }
   ],
   "source": [
    "a = {[1,232,53]:True}"
   ]
  },
  {
   "cell_type": "code",
   "execution_count": 57,
   "id": "17d3a650",
   "metadata": {},
   "outputs": [
    {
     "ename": "TypeError",
     "evalue": "unhashable type: 'dict'",
     "output_type": "error",
     "traceback": [
      "\u001b[1;31m---------------------------------------------------------------------------\u001b[0m",
      "\u001b[1;31mTypeError\u001b[0m                                 Traceback (most recent call last)",
      "Cell \u001b[1;32mIn[57], line 1\u001b[0m\n\u001b[1;32m----> 1\u001b[0m a \u001b[38;5;241m=\u001b[39m {{\u001b[38;5;124m'\u001b[39m\u001b[38;5;124mName\u001b[39m\u001b[38;5;124m'\u001b[39m:\u001b[38;5;124m'\u001b[39m\u001b[38;5;124mMohan\u001b[39m\u001b[38;5;124m'\u001b[39m}:\u001b[38;5;28;01mTrue\u001b[39;00m}\n",
      "\u001b[1;31mTypeError\u001b[0m: unhashable type: 'dict'"
     ]
    }
   ],
   "source": [
    "a = {{'Name':'Mohan'}:True}"
   ]
  },
  {
   "cell_type": "code",
   "execution_count": 59,
   "id": "30e71881",
   "metadata": {},
   "outputs": [],
   "source": [
    "# >> dict does not store values/elemnts index wise\n",
    "# we can not index or slice dict based on 0,1,2"
   ]
  },
  {
   "cell_type": "code",
   "execution_count": 60,
   "id": "70bd34c8",
   "metadata": {},
   "outputs": [],
   "source": [
    "# here we can index dict with the help of key"
   ]
  },
  {
   "cell_type": "code",
   "execution_count": 61,
   "id": "322d665b",
   "metadata": {},
   "outputs": [],
   "source": [
    "a = {'Name':'Ajay',\n",
    "    'Age':34}"
   ]
  },
  {
   "cell_type": "code",
   "execution_count": 62,
   "id": "b280419b",
   "metadata": {},
   "outputs": [
    {
     "data": {
      "text/plain": [
       "{'Name': 'Ajay', 'Age': 34}"
      ]
     },
     "execution_count": 62,
     "metadata": {},
     "output_type": "execute_result"
    }
   ],
   "source": [
    "a"
   ]
  },
  {
   "cell_type": "code",
   "execution_count": 63,
   "id": "bec88204",
   "metadata": {},
   "outputs": [
    {
     "ename": "KeyError",
     "evalue": "0",
     "output_type": "error",
     "traceback": [
      "\u001b[1;31m---------------------------------------------------------------------------\u001b[0m",
      "\u001b[1;31mKeyError\u001b[0m                                  Traceback (most recent call last)",
      "Cell \u001b[1;32mIn[63], line 1\u001b[0m\n\u001b[1;32m----> 1\u001b[0m a[\u001b[38;5;241m0\u001b[39m]\n",
      "\u001b[1;31mKeyError\u001b[0m: 0"
     ]
    }
   ],
   "source": [
    "a[0]"
   ]
  },
  {
   "cell_type": "code",
   "execution_count": 64,
   "id": "c945e875",
   "metadata": {},
   "outputs": [
    {
     "data": {
      "text/plain": [
       "{'Name': 'Ajay', 'Age': 34}"
      ]
     },
     "execution_count": 64,
     "metadata": {},
     "output_type": "execute_result"
    }
   ],
   "source": [
    "a"
   ]
  },
  {
   "cell_type": "code",
   "execution_count": 65,
   "id": "d5188336",
   "metadata": {},
   "outputs": [
    {
     "data": {
      "text/plain": [
       "'Ajay'"
      ]
     },
     "execution_count": 65,
     "metadata": {},
     "output_type": "execute_result"
    }
   ],
   "source": [
    "a['Name']"
   ]
  },
  {
   "cell_type": "code",
   "execution_count": 66,
   "id": "a5c2bb65",
   "metadata": {},
   "outputs": [
    {
     "data": {
      "text/plain": [
       "34"
      ]
     },
     "execution_count": 66,
     "metadata": {},
     "output_type": "execute_result"
    }
   ],
   "source": [
    "a['Age']"
   ]
  },
  {
   "cell_type": "code",
   "execution_count": 67,
   "id": "6a93862e",
   "metadata": {},
   "outputs": [
    {
     "name": "stdout",
     "output_type": "stream",
     "text": [
      "{1: [12, 432, 56], 5: (12, 432, 46)}\n"
     ]
    }
   ],
   "source": [
    "a = {1:[12,432,56],\n",
    "    5:(12,432,46)}\n",
    "\n",
    "print(a)"
   ]
  },
  {
   "cell_type": "code",
   "execution_count": 68,
   "id": "4fe0095d",
   "metadata": {},
   "outputs": [
    {
     "data": {
      "text/plain": [
       "[12, 432, 56]"
      ]
     },
     "execution_count": 68,
     "metadata": {},
     "output_type": "execute_result"
    }
   ],
   "source": [
    "a[1]"
   ]
  },
  {
   "cell_type": "code",
   "execution_count": 70,
   "id": "65254904",
   "metadata": {},
   "outputs": [
    {
     "data": {
      "text/plain": [
       "(12, 432, 46)"
      ]
     },
     "execution_count": 70,
     "metadata": {},
     "output_type": "execute_result"
    }
   ],
   "source": [
    "a[5]"
   ]
  },
  {
   "cell_type": "code",
   "execution_count": 72,
   "id": "4703a95d",
   "metadata": {},
   "outputs": [],
   "source": [
    "# with the help of key we can change value of dict\n",
    "# that's why dictionary can also a muttable object"
   ]
  },
  {
   "cell_type": "code",
   "execution_count": 73,
   "id": "57958b4a",
   "metadata": {},
   "outputs": [
    {
     "data": {
      "text/plain": [
       "{'Name': 'Ajay', 'Age': 34}"
      ]
     },
     "execution_count": 73,
     "metadata": {},
     "output_type": "execute_result"
    }
   ],
   "source": [
    "a = {'Name':'Ajay','Age':34}\n",
    "\n",
    "a"
   ]
  },
  {
   "cell_type": "code",
   "execution_count": 75,
   "id": "b63fa02e",
   "metadata": {},
   "outputs": [],
   "source": [
    "a['Name'] = 'Ajay Devgan'"
   ]
  },
  {
   "cell_type": "code",
   "execution_count": 76,
   "id": "3a51f6f8",
   "metadata": {},
   "outputs": [
    {
     "data": {
      "text/plain": [
       "{'Name': 'Ajay Devgan', 'Age': 34}"
      ]
     },
     "execution_count": 76,
     "metadata": {},
     "output_type": "execute_result"
    }
   ],
   "source": [
    "a"
   ]
  },
  {
   "cell_type": "code",
   "execution_count": 78,
   "id": "a554a569",
   "metadata": {},
   "outputs": [],
   "source": [
    "a['Age'] = 23"
   ]
  },
  {
   "cell_type": "code",
   "execution_count": 79,
   "id": "6a148a2d",
   "metadata": {},
   "outputs": [
    {
     "data": {
      "text/plain": [
       "{'Name': 'Ajay Devgan', 'Age': 23}"
      ]
     },
     "execution_count": 79,
     "metadata": {},
     "output_type": "execute_result"
    }
   ],
   "source": [
    "a"
   ]
  },
  {
   "cell_type": "code",
   "execution_count": 80,
   "id": "aebd56cb",
   "metadata": {},
   "outputs": [
    {
     "ename": "KeyError",
     "evalue": "'Add'",
     "output_type": "error",
     "traceback": [
      "\u001b[1;31m---------------------------------------------------------------------------\u001b[0m",
      "\u001b[1;31mKeyError\u001b[0m                                  Traceback (most recent call last)",
      "Cell \u001b[1;32mIn[80], line 1\u001b[0m\n\u001b[1;32m----> 1\u001b[0m a[\u001b[38;5;124m'\u001b[39m\u001b[38;5;124mAdd\u001b[39m\u001b[38;5;124m'\u001b[39m]\n",
      "\u001b[1;31mKeyError\u001b[0m: 'Add'"
     ]
    }
   ],
   "source": [
    "a['Add']"
   ]
  },
  {
   "cell_type": "code",
   "execution_count": 81,
   "id": "78b87949",
   "metadata": {},
   "outputs": [],
   "source": [
    "a['Add'] = 'Noida'"
   ]
  },
  {
   "cell_type": "code",
   "execution_count": 82,
   "id": "ab57ef04",
   "metadata": {},
   "outputs": [
    {
     "data": {
      "text/plain": [
       "{'Name': 'Ajay Devgan', 'Age': 23, 'Add': 'Noida'}"
      ]
     },
     "execution_count": 82,
     "metadata": {},
     "output_type": "execute_result"
    }
   ],
   "source": [
    "a"
   ]
  },
  {
   "cell_type": "code",
   "execution_count": 83,
   "id": "04b64796",
   "metadata": {},
   "outputs": [],
   "source": [
    "a['Sec'] = 'B'"
   ]
  },
  {
   "cell_type": "code",
   "execution_count": 84,
   "id": "bda9db3f",
   "metadata": {},
   "outputs": [
    {
     "data": {
      "text/plain": [
       "{'Name': 'Ajay Devgan', 'Age': 23, 'Add': 'Noida', 'Sec': 'B'}"
      ]
     },
     "execution_count": 84,
     "metadata": {},
     "output_type": "execute_result"
    }
   ],
   "source": [
    "a"
   ]
  },
  {
   "cell_type": "code",
   "execution_count": 86,
   "id": "53535969",
   "metadata": {},
   "outputs": [],
   "source": [
    "a['Sec'] = 'C'"
   ]
  },
  {
   "cell_type": "code",
   "execution_count": 87,
   "id": "3597ede8",
   "metadata": {},
   "outputs": [
    {
     "data": {
      "text/plain": [
       "{'Name': 'Ajay Devgan', 'Age': 23, 'Add': 'Noida', 'Sec': 'C'}"
      ]
     },
     "execution_count": 87,
     "metadata": {},
     "output_type": "execute_result"
    }
   ],
   "source": [
    "a"
   ]
  },
  {
   "cell_type": "code",
   "execution_count": 89,
   "id": "723b96a0",
   "metadata": {},
   "outputs": [],
   "source": [
    "a['sec'] = 'S'"
   ]
  },
  {
   "cell_type": "code",
   "execution_count": 90,
   "id": "5f81d57a",
   "metadata": {},
   "outputs": [
    {
     "data": {
      "text/plain": [
       "{'Name': 'Ajay Devgan', 'Age': 23, 'Add': 'Noida', 'Sec': 'C', 'sec': 'S'}"
      ]
     },
     "execution_count": 90,
     "metadata": {},
     "output_type": "execute_result"
    }
   ],
   "source": [
    "a"
   ]
  },
  {
   "cell_type": "code",
   "execution_count": 95,
   "id": "6cdd6019",
   "metadata": {},
   "outputs": [],
   "source": [
    "# \n",
    "a = {'Name':'Mohan',\n",
    "    'Age':34,\n",
    "    'class':12,\n",
    "    'Name':'Akshay',\n",
    "    'Age':35,\n",
    "    'Age':340}"
   ]
  },
  {
   "cell_type": "code",
   "execution_count": 96,
   "id": "6df3ddbd",
   "metadata": {},
   "outputs": [
    {
     "data": {
      "text/plain": [
       "{'Name': 'Akshay', 'Age': 340, 'class': 12}"
      ]
     },
     "execution_count": 96,
     "metadata": {},
     "output_type": "execute_result"
    }
   ],
   "source": [
    "a"
   ]
  },
  {
   "cell_type": "code",
   "execution_count": 97,
   "id": "160d959e",
   "metadata": {},
   "outputs": [
    {
     "data": {
      "text/plain": [
       "{'Name': ['Mohan', 'Ajay', 'karan'], 'salary': [12, 43, 4312]}"
      ]
     },
     "execution_count": 97,
     "metadata": {},
     "output_type": "execute_result"
    }
   ],
   "source": [
    "a = {'Name':['Mohan','Ajay','karan'],\n",
    "    'salary':[12,43,4312]}\n",
    "\n",
    "a"
   ]
  },
  {
   "cell_type": "code",
   "execution_count": 99,
   "id": "4fbf20a4",
   "metadata": {},
   "outputs": [
    {
     "data": {
      "text/plain": [
       "'Ajay'"
      ]
     },
     "execution_count": 99,
     "metadata": {},
     "output_type": "execute_result"
    }
   ],
   "source": [
    "a['Name'][1]"
   ]
  },
  {
   "cell_type": "code",
   "execution_count": 100,
   "id": "b1612e30",
   "metadata": {},
   "outputs": [],
   "source": [
    "a['Name'][1] = 'Ajay Devgan'"
   ]
  },
  {
   "cell_type": "code",
   "execution_count": 101,
   "id": "445a8ee7",
   "metadata": {},
   "outputs": [
    {
     "data": {
      "text/plain": [
       "{'Name': ['Mohan', 'Ajay Devgan', 'karan'], 'salary': [12, 43, 4312]}"
      ]
     },
     "execution_count": 101,
     "metadata": {},
     "output_type": "execute_result"
    }
   ],
   "source": [
    "a"
   ]
  },
  {
   "cell_type": "code",
   "execution_count": 104,
   "id": "5ee41d04",
   "metadata": {},
   "outputs": [],
   "source": [
    "a['salary'][1] = 4200"
   ]
  },
  {
   "cell_type": "code",
   "execution_count": 105,
   "id": "104d0ad6",
   "metadata": {},
   "outputs": [
    {
     "data": {
      "text/plain": [
       "{'Name': ['Mohan', 'Ajay Devgan', 'karan'], 'salary': [12, 4200, 4312]}"
      ]
     },
     "execution_count": 105,
     "metadata": {},
     "output_type": "execute_result"
    }
   ],
   "source": [
    "a"
   ]
  },
  {
   "cell_type": "code",
   "execution_count": 106,
   "id": "46642aa8",
   "metadata": {},
   "outputs": [],
   "source": [
    "s = {'Course Name':['Python','Java','C','C++'],\n",
    "    'Student Name':['Ajay','Anil','Ravi','Karan'],\n",
    "    'Fees':[2345,3456,4566,6543],\n",
    "    'Status':['yes','yes','no','yes']}"
   ]
  },
  {
   "cell_type": "code",
   "execution_count": 107,
   "id": "b0d89f50",
   "metadata": {},
   "outputs": [
    {
     "data": {
      "text/plain": [
       "{'Course Name': ['Python', 'Java', 'C', 'C++'],\n",
       " 'Student Name': ['Ajay', 'Anil', 'Ravi', 'Karan'],\n",
       " 'Fees': [2345, 3456, 4566, 6543],\n",
       " 'Status': ['yes', 'yes', 'no', 'yes']}"
      ]
     },
     "execution_count": 107,
     "metadata": {},
     "output_type": "execute_result"
    }
   ],
   "source": [
    "s"
   ]
  },
  {
   "cell_type": "code",
   "execution_count": 110,
   "id": "ba5c4853",
   "metadata": {},
   "outputs": [
    {
     "data": {
      "text/plain": [
       "'Ravi'"
      ]
     },
     "execution_count": 110,
     "metadata": {},
     "output_type": "execute_result"
    }
   ],
   "source": [
    "s['Student Name'].pop(2)"
   ]
  },
  {
   "cell_type": "code",
   "execution_count": 111,
   "id": "8d011820",
   "metadata": {},
   "outputs": [
    {
     "data": {
      "text/plain": [
       "'C'"
      ]
     },
     "execution_count": 111,
     "metadata": {},
     "output_type": "execute_result"
    }
   ],
   "source": [
    "s['Course Name'].pop(2)"
   ]
  },
  {
   "cell_type": "code",
   "execution_count": 112,
   "id": "6f0aa04b",
   "metadata": {},
   "outputs": [
    {
     "data": {
      "text/plain": [
       "4566"
      ]
     },
     "execution_count": 112,
     "metadata": {},
     "output_type": "execute_result"
    }
   ],
   "source": [
    "s['Fees'].pop(2)"
   ]
  },
  {
   "cell_type": "code",
   "execution_count": 113,
   "id": "f5a98a7b",
   "metadata": {},
   "outputs": [
    {
     "data": {
      "text/plain": [
       "'no'"
      ]
     },
     "execution_count": 113,
     "metadata": {},
     "output_type": "execute_result"
    }
   ],
   "source": [
    "s['Status'].pop(2)"
   ]
  },
  {
   "cell_type": "code",
   "execution_count": 114,
   "id": "205897c4",
   "metadata": {},
   "outputs": [
    {
     "data": {
      "text/plain": [
       "{'Course Name': ['Python', 'Java', 'C++'],\n",
       " 'Student Name': ['Ajay', 'Anil', 'Karan'],\n",
       " 'Fees': [2345, 3456, 6543],\n",
       " 'Status': ['yes', 'yes', 'yes']}"
      ]
     },
     "execution_count": 114,
     "metadata": {},
     "output_type": "execute_result"
    }
   ],
   "source": [
    "s"
   ]
  },
  {
   "cell_type": "code",
   "execution_count": 117,
   "id": "52c84a77",
   "metadata": {},
   "outputs": [],
   "source": [
    "s['Status'][2] = 'No'"
   ]
  },
  {
   "cell_type": "code",
   "execution_count": 118,
   "id": "61c1e71b",
   "metadata": {},
   "outputs": [
    {
     "data": {
      "text/plain": [
       "{'Course Name': ['Python', 'Java', 'C++'],\n",
       " 'Student Name': ['Ajay', 'Anil', 'Karan'],\n",
       " 'Fees': [2345, 3456, 6543],\n",
       " 'Status': ['yes', 'yes', 'No']}"
      ]
     },
     "execution_count": 118,
     "metadata": {},
     "output_type": "execute_result"
    }
   ],
   "source": [
    "s"
   ]
  },
  {
   "cell_type": "code",
   "execution_count": 119,
   "id": "837fc6d4",
   "metadata": {},
   "outputs": [
    {
     "name": "stdout",
     "output_type": "stream",
     "text": [
      "['__class__', '__class_getitem__', '__contains__', '__delattr__', '__delitem__', '__dir__', '__doc__', '__eq__', '__format__', '__ge__', '__getattribute__', '__getitem__', '__getstate__', '__gt__', '__hash__', '__init__', '__init_subclass__', '__ior__', '__iter__', '__le__', '__len__', '__lt__', '__ne__', '__new__', '__or__', '__reduce__', '__reduce_ex__', '__repr__', '__reversed__', '__ror__', '__setattr__', '__setitem__', '__sizeof__', '__str__', '__subclasshook__', 'clear', 'copy', 'fromkeys', 'get', 'items', 'keys', 'pop', 'popitem', 'setdefault', 'update', 'values']\n"
     ]
    }
   ],
   "source": [
    "print(dir(dict))"
   ]
  },
  {
   "cell_type": "code",
   "execution_count": 120,
   "id": "7497887b",
   "metadata": {},
   "outputs": [],
   "source": [
    "m = ['clear', 'copy', 'fromkeys', 'get', 'items', 'keys', 'pop', 'popitem', 'setdefault', 'update', 'values']"
   ]
  },
  {
   "cell_type": "code",
   "execution_count": 121,
   "id": "59e55a78",
   "metadata": {},
   "outputs": [
    {
     "data": {
      "text/plain": [
       "11"
      ]
     },
     "execution_count": 121,
     "metadata": {},
     "output_type": "execute_result"
    }
   ],
   "source": [
    "len(m)"
   ]
  },
  {
   "cell_type": "code",
   "execution_count": null,
   "id": "e451b8fe",
   "metadata": {},
   "outputs": [],
   "source": []
  }
 ],
 "metadata": {
  "kernelspec": {
   "display_name": "Python 3 (ipykernel)",
   "language": "python",
   "name": "python3"
  },
  "language_info": {
   "codemirror_mode": {
    "name": "ipython",
    "version": 3
   },
   "file_extension": ".py",
   "mimetype": "text/x-python",
   "name": "python",
   "nbconvert_exporter": "python",
   "pygments_lexer": "ipython3",
   "version": "3.11.3"
  }
 },
 "nbformat": 4,
 "nbformat_minor": 5
}
