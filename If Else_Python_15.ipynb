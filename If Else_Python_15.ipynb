{
 "cells": [
  {
   "cell_type": "code",
   "execution_count": 1,
   "id": "4622699d",
   "metadata": {},
   "outputs": [],
   "source": [
    "# # basics data types\n",
    "# methods"
   ]
  },
  {
   "cell_type": "code",
   "execution_count": 2,
   "id": "c41c286d",
   "metadata": {},
   "outputs": [],
   "source": [
    "# conditional programming"
   ]
  },
  {
   "cell_type": "code",
   "execution_count": 7,
   "id": "0209f513",
   "metadata": {},
   "outputs": [
    {
     "name": "stdout",
     "output_type": "stream",
     "text": [
      "Enter your age: 9\n",
      "Can not Vote!!\n"
     ]
    }
   ],
   "source": [
    "age = int(input('Enter your age: '))\n",
    "\n",
    "if age >=18:\n",
    "    print('Can Vote!!')\n",
    "else:\n",
    "    print('Can not Vote!!')"
   ]
  },
  {
   "cell_type": "code",
   "execution_count": 8,
   "id": "5f798ae7",
   "metadata": {},
   "outputs": [],
   "source": [
    "# syntax\n",
    "# if condition/conditions:\n",
    "#     if code block\n",
    "# else:\n",
    "#     else code block "
   ]
  },
  {
   "cell_type": "code",
   "execution_count": 9,
   "id": "11f2ae31",
   "metadata": {},
   "outputs": [],
   "source": [
    "# condition/conditions"
   ]
  },
  {
   "cell_type": "code",
   "execution_count": 10,
   "id": "693f460b",
   "metadata": {},
   "outputs": [
    {
     "data": {
      "text/plain": [
       "False"
      ]
     },
     "execution_count": 10,
     "metadata": {},
     "output_type": "execute_result"
    }
   ],
   "source": [
    "2 in [12,343,42,435467]"
   ]
  },
  {
   "cell_type": "code",
   "execution_count": 11,
   "id": "68fcecfb",
   "metadata": {},
   "outputs": [
    {
     "data": {
      "text/plain": [
       "True"
      ]
     },
     "execution_count": 11,
     "metadata": {},
     "output_type": "execute_result"
    }
   ],
   "source": [
    "'ajay' == 'ajay'"
   ]
  },
  {
   "cell_type": "code",
   "execution_count": 12,
   "id": "8d5206d0",
   "metadata": {},
   "outputs": [
    {
     "data": {
      "text/plain": [
       "True"
      ]
     },
     "execution_count": 12,
     "metadata": {},
     "output_type": "execute_result"
    }
   ],
   "source": [
    "23<34"
   ]
  },
  {
   "cell_type": "code",
   "execution_count": 13,
   "id": "4d67c62d",
   "metadata": {},
   "outputs": [
    {
     "data": {
      "text/plain": [
       "True"
      ]
     },
     "execution_count": 13,
     "metadata": {},
     "output_type": "execute_result"
    }
   ],
   "source": [
    "a = 23\n",
    "b  = 23\n",
    "\n",
    "a is b\n"
   ]
  },
  {
   "cell_type": "code",
   "execution_count": 17,
   "id": "694b9c45",
   "metadata": {},
   "outputs": [
    {
     "name": "stdout",
     "output_type": "stream",
     "text": [
      "b is small\n"
     ]
    }
   ],
   "source": [
    "a = 120\n",
    "b = 23\n",
    "\n",
    "\n",
    "if a<b:\n",
    "    print('a is small') \n",
    "else:\n",
    "    print('b is small')"
   ]
  },
  {
   "cell_type": "code",
   "execution_count": 19,
   "id": "c207d46b",
   "metadata": {},
   "outputs": [
    {
     "name": "stdout",
     "output_type": "stream",
     "text": [
      "Odd Number\n"
     ]
    }
   ],
   "source": [
    "# even or odd\n",
    "\n",
    "a = 123\n",
    "\n",
    "if a%2 == 0:\n",
    "    print('Even Number')\n",
    "else:\n",
    "    print('Odd Number')"
   ]
  },
  {
   "cell_type": "code",
   "execution_count": 23,
   "id": "cff2b1c7",
   "metadata": {},
   "outputs": [
    {
     "name": "stdout",
     "output_type": "stream",
     "text": [
      "2340 is divisible by 234\n"
     ]
    }
   ],
   "source": [
    "# check divisibility\n",
    "\n",
    "a = 2340\n",
    "b = 234\n",
    "\n",
    "\n",
    "if a%b == 0:\n",
    "    print(f'{a} is divisible by {b}')\n",
    "else:\n",
    "    print(f'{a} is not divisible by {b}')"
   ]
  },
  {
   "cell_type": "code",
   "execution_count": 24,
   "id": "784e3bd3",
   "metadata": {},
   "outputs": [],
   "source": [
    "# if elif else"
   ]
  },
  {
   "cell_type": "code",
   "execution_count": 27,
   "id": "bd5dca49",
   "metadata": {},
   "outputs": [
    {
     "name": "stdout",
     "output_type": "stream",
     "text": [
      "c is smallest\n"
     ]
    }
   ],
   "source": [
    "a = 23\n",
    "b = 30\n",
    "c = 5\n",
    "\n",
    "if (a<b) and (a<c):\n",
    "    print('a is smallest')\n",
    "\n",
    "elif (b<a) and (b<c):\n",
    "    print('b is smallest')\n",
    "    \n",
    "else:\n",
    "     print('c is smallest')"
   ]
  },
  {
   "cell_type": "code",
   "execution_count": 33,
   "id": "83b9fea6",
   "metadata": {},
   "outputs": [
    {
     "name": "stdout",
     "output_type": "stream",
     "text": [
      "Enter your name: jatin Rajput\n",
      "This is jatin Rajput Report card\n",
      "Enter maths marks: 99\n",
      "Enter science marks: 9\n",
      "Enter hindi marks: 9\n",
      "Enter english marks: 9\n",
      "Enter sst marks: 9\n",
      "Your are Fail!!,27.0 %\n",
      "Yor CGPA is:  2.84\n"
     ]
    }
   ],
   "source": [
    "# grading system\n",
    "\n",
    "name = input('Enter your name: ')\n",
    "\n",
    "print(f'''This is {name} Report card''')\n",
    "maths = float(input('Enter maths marks: '))\n",
    "sci = float(input('Enter science marks: '))\n",
    "hindi = float(input('Enter hindi marks: '))\n",
    "english = float(input('Enter english marks: '))\n",
    "sst = float(input('Enter sst marks: '))\n",
    "\n",
    "\n",
    "marks_obtained = maths+sci+hindi+english+sst\n",
    "\n",
    "total = 500\n",
    "\n",
    "percentage = round((marks_obtained/total)*100,2)\n",
    "\n",
    "if percentage>=90:\n",
    "    print(f'You have scored A+ and {percentage} %')\n",
    "    \n",
    "elif 80<=percentage<90:\n",
    "    print(f'You have scored A and {percentage} %')\n",
    "    \n",
    "elif 70<=percentage<80:\n",
    "    print(f'You have scored B+ and {percentage} %')\n",
    "    \n",
    "elif 60<=percentage<70:\n",
    "    print(f'You have scored B and {percentage} %')\n",
    "    \n",
    "    \n",
    "elif 50<=percentage<60:\n",
    "    print(f'You have scored C and {percentage} %')\n",
    "    \n",
    "elif 40<=percentage<50:\n",
    "    print(f'You have scored D and {percentage} %')\n",
    "    \n",
    "elif 33<=percentage<40:\n",
    "    print(f'You have scored E and {percentage} %')\n",
    "    \n",
    "else:\n",
    "    print(f'Your are Fail!!,{percentage} %')\n",
    "\n",
    "print('Yor CGPA is: ',round(percentage/9.5,2))"
   ]
  },
  {
   "cell_type": "code",
   "execution_count": null,
   "id": "d769dbbc",
   "metadata": {},
   "outputs": [],
   "source": []
  }
 ],
 "metadata": {
  "kernelspec": {
   "display_name": "Python 3 (ipykernel)",
   "language": "python",
   "name": "python3"
  },
  "language_info": {
   "codemirror_mode": {
    "name": "ipython",
    "version": 3
   },
   "file_extension": ".py",
   "mimetype": "text/x-python",
   "name": "python",
   "nbconvert_exporter": "python",
   "pygments_lexer": "ipython3",
   "version": "3.11.3"
  }
 },
 "nbformat": 4,
 "nbformat_minor": 5
}
