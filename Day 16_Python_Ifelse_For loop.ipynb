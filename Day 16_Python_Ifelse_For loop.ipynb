{
 "cells": [
  {
   "cell_type": "code",
   "execution_count": 1,
   "id": "6da2263d",
   "metadata": {},
   "outputs": [],
   "source": [
    "# Login Form"
   ]
  },
  {
   "cell_type": "code",
   "execution_count": 12,
   "id": "8390ed1a",
   "metadata": {},
   "outputs": [
    {
     "name": "stdout",
     "output_type": "stream",
     "text": [
      "Welcome to Bailley!!\n",
      "Enter your name: komal mishra\n",
      "Create your user id: komal@mishra\n",
      "Create your password: komal@123\n",
      "Hey!! komal mishra, You have successfully created your Account!!\n",
      "Want to login hit Enter! \n",
      "Enter your id: komal@mishra\n",
      "Enter your password: jbvgfzdsxc\n",
      "Incorrect Userid or Password!!\n",
      "Want to forget userid or password!!(yes/no): yes\n",
      "Enter your Phone Number!! 9898787654\n",
      "OTP has been sent to your registered mobile number!!\n",
      "Your OTP is:  9934\n",
      "Enter your OTP: 9934\n",
      "Welcome to Bailley!!\n",
      "Enter your name: Komal Mishra\n",
      "Create your user id: komal@mishra\n",
      "Create your password: komal@123\n",
      "Hey!! Komal Mishra, You have successfully created your Account!!\n",
      "Want to login hit Enter! \n",
      "Enter your id: komal@mishra\n",
      "Enter your password: komal@123\n",
      "Welcome!! Komal Mishra\n",
      "You Have successfully Logged in!!\n"
     ]
    }
   ],
   "source": [
    "import random\n",
    "\n",
    "print('Welcome to Bailley!!')\n",
    "\n",
    "name = input('Enter your name: ')\n",
    "\n",
    "userid = input('Create your user id: ')\n",
    "\n",
    "password = input('Create your password: ')\n",
    "\n",
    "print(f'Hey!! {name}, You have successfully created your Account!!')\n",
    "\n",
    "ans = input('Want to login hit Enter! ').lower()\n",
    "\n",
    "if ans in ['','yes']:\n",
    "    \n",
    "    idd = input('Enter your id: ')\n",
    "    pwd = input('Enter your password: ')\n",
    "    \n",
    "    if (idd == userid) and (pwd == password):\n",
    "        print(f'Welcome!! {name}\\nYou Have successfully Logged in!!')\n",
    "        \n",
    "    else:\n",
    "        print('Incorrect Userid or Password!!')\n",
    "        \n",
    "        forget_ans = input('Want to forget userid or password!!(yes/no): ').lower()\n",
    "        \n",
    "        if forget_ans == 'yes':\n",
    "            \n",
    "            phone = input('Enter your Phone Number!! ')\n",
    "            \n",
    "            print('OTP has been sent to your registered mobile number!!')\n",
    "            OTP = random.randint(1111,9999)\n",
    "            \n",
    "            print('Your OTP is: ',OTP)\n",
    "            \n",
    "            otp_ans = int(input('Enter your OTP: '))\n",
    "            \n",
    "            if otp_ans == OTP:\n",
    "                execfile('login.py')\n",
    "            else:\n",
    "                print('Incorrect OTP') \n",
    "            \n",
    "        else:\n",
    "            print('Try again!!')\n",
    "            \n",
    "    \n",
    "else:\n",
    "    print('Thanks for creating your account!!')"
   ]
  },
  {
   "cell_type": "code",
   "execution_count": 17,
   "id": "ad019dc9",
   "metadata": {},
   "outputs": [],
   "source": [
    "if 2==2:\n",
    "    pass\n",
    "else:\n",
    "    print('No')"
   ]
  },
  {
   "cell_type": "code",
   "execution_count": 20,
   "id": "87c4d12d",
   "metadata": {},
   "outputs": [],
   "source": [
    "pass"
   ]
  },
  {
   "cell_type": "code",
   "execution_count": null,
   "id": "65469202",
   "metadata": {},
   "outputs": [],
   "source": []
  },
  {
   "cell_type": "markdown",
   "id": "80f3186d",
   "metadata": {},
   "source": [
    "# For Loop"
   ]
  },
  {
   "cell_type": "code",
   "execution_count": 22,
   "id": "db2fe18d",
   "metadata": {},
   "outputs": [],
   "source": [
    "# #loop:-\n",
    "# for loop\n",
    "# while loop\n",
    "# infinite loop"
   ]
  },
  {
   "cell_type": "code",
   "execution_count": 23,
   "id": "c3bf2acc",
   "metadata": {},
   "outputs": [],
   "source": [
    "# if else conditional programming\n",
    "\n",
    "\n",
    "# loops:- flow control"
   ]
  },
  {
   "cell_type": "code",
   "execution_count": 24,
   "id": "a96be975",
   "metadata": {},
   "outputs": [
    {
     "name": "stdout",
     "output_type": "stream",
     "text": [
      "Hello Python\n",
      "Hello Python\n",
      "Hello Python\n",
      "Hello Python\n",
      "Hello Python\n"
     ]
    }
   ],
   "source": [
    "for i in range(5):\n",
    "    print('Hello Python')"
   ]
  },
  {
   "cell_type": "code",
   "execution_count": 25,
   "id": "e22bca69",
   "metadata": {},
   "outputs": [],
   "source": [
    "# # syntax for loop\n",
    "\n",
    "\n",
    "# for temp_var/iterator in datatype(list,set,dict,str,frozenset,tuple,range()):\n",
    "#     code block"
   ]
  },
  {
   "cell_type": "code",
   "execution_count": 28,
   "id": "a056b713",
   "metadata": {
    "scrolled": true
   },
   "outputs": [
    {
     "name": "stdout",
     "output_type": "stream",
     "text": [
      "Mohan\n",
      "karan\n",
      "Ajay\n",
      "Ravi\n",
      "Lal\n"
     ]
    }
   ],
   "source": [
    "# list\n",
    "import time\n",
    "\n",
    "students = ['Mohan','karan','Ajay','Ravi','Lal']\n",
    "\n",
    "\n",
    "for rahul in students:\n",
    "    print(rahul)\n",
    "    time.sleep(4)"
   ]
  },
  {
   "cell_type": "code",
   "execution_count": 31,
   "id": "d0027196",
   "metadata": {},
   "outputs": [
    {
     "name": "stdout",
     "output_type": "stream",
     "text": [
      "['Mohan', 'karan', 'Ajay', 'Ravi', 'Lal']\n"
     ]
    }
   ],
   "source": [
    "print(students)"
   ]
  },
  {
   "cell_type": "code",
   "execution_count": 32,
   "id": "f18182ba",
   "metadata": {
    "scrolled": true
   },
   "outputs": [
    {
     "name": "stdout",
     "output_type": "stream",
     "text": [
      "MOHAN\n",
      "KARAN\n",
      "AJAY\n",
      "RAVI\n",
      "LAL\n"
     ]
    }
   ],
   "source": [
    "for student in students:\n",
    "    print(student.upper())"
   ]
  },
  {
   "cell_type": "code",
   "execution_count": 33,
   "id": "d218ec5e",
   "metadata": {},
   "outputs": [
    {
     "data": {
      "text/plain": [
       "['Mohan', 'karan', 'Ajay', 'Ravi', 'Lal']"
      ]
     },
     "execution_count": 33,
     "metadata": {},
     "output_type": "execute_result"
    }
   ],
   "source": [
    "students"
   ]
  },
  {
   "cell_type": "code",
   "execution_count": null,
   "id": "176b883f",
   "metadata": {},
   "outputs": [],
   "source": [
    "for student in students:\n",
    "    print(student.upper())"
   ]
  },
  {
   "cell_type": "code",
   "execution_count": 36,
   "id": "24982faa",
   "metadata": {},
   "outputs": [],
   "source": [
    "data = []\n",
    "\n",
    "for i in students:\n",
    "    data.append(i.upper())"
   ]
  },
  {
   "cell_type": "code",
   "execution_count": 37,
   "id": "807077dc",
   "metadata": {},
   "outputs": [
    {
     "name": "stdout",
     "output_type": "stream",
     "text": [
      "['MOHAN', 'KARAN', 'AJAY', 'RAVI', 'LAL']\n"
     ]
    }
   ],
   "source": [
    "print(data)"
   ]
  },
  {
   "cell_type": "code",
   "execution_count": 38,
   "id": "603f79e4",
   "metadata": {},
   "outputs": [
    {
     "name": "stdout",
     "output_type": "stream",
     "text": [
      "['Mohan', 'karan', 'Ajay', 'Ravi', 'Lal']\n"
     ]
    }
   ],
   "source": [
    "print(students)"
   ]
  },
  {
   "cell_type": "code",
   "execution_count": null,
   "id": "9b1d1fd3",
   "metadata": {},
   "outputs": [],
   "source": []
  },
  {
   "cell_type": "code",
   "execution_count": null,
   "id": "3ea9a2d5",
   "metadata": {},
   "outputs": [],
   "source": []
  },
  {
   "cell_type": "code",
   "execution_count": 40,
   "id": "688d219f",
   "metadata": {},
   "outputs": [
    {
     "data": {
      "text/plain": [
       "['A', 'B', 'C', 'D', 'E', 'F', 'G', 'H']"
      ]
     },
     "execution_count": 40,
     "metadata": {},
     "output_type": "execute_result"
    }
   ],
   "source": [
    "a = list('ABCDEFGH')\n",
    "a"
   ]
  },
  {
   "cell_type": "code",
   "execution_count": 43,
   "id": "b1ca666a",
   "metadata": {},
   "outputs": [],
   "source": [
    "a = 'ola uber meta microsoft tata'\n",
    "\n",
    "# b = ['@OLA','@UBER','@META'.....]"
   ]
  },
  {
   "cell_type": "code",
   "execution_count": 48,
   "id": "9291309d",
   "metadata": {},
   "outputs": [
    {
     "data": {
      "text/plain": [
       "['@OLA', '@UBER', '@META', '@MICROSOFT', '@TATA']"
      ]
     },
     "execution_count": 48,
     "metadata": {},
     "output_type": "execute_result"
    }
   ],
   "source": [
    "a = 'ola uber meta microsoft tata'\n",
    "a = a.split(' ')\n",
    "b = []\n",
    "\n",
    "for i in a:\n",
    "    b.append('@'+i.upper())\n",
    "    \n",
    "b"
   ]
  },
  {
   "cell_type": "code",
   "execution_count": 49,
   "id": "3cd1adf8",
   "metadata": {},
   "outputs": [],
   "source": [
    "# each data type ko iterate karke check karnge\n",
    "\n",
    "\n",
    "# No:- int,float,complex,None,True\n",
    "# yes:- List,tuple,str,set,frozenset,dict\n",
    "\n"
   ]
  },
  {
   "cell_type": "code",
   "execution_count": 51,
   "id": "10ffc723",
   "metadata": {},
   "outputs": [
    {
     "name": "stdout",
     "output_type": "stream",
     "text": [
      "P\n",
      "y\n",
      "t\n",
      "h\n",
      "o\n",
      "n\n"
     ]
    },
    {
     "ename": "KeyboardInterrupt",
     "evalue": "",
     "output_type": "error",
     "traceback": [
      "\u001b[1;31m---------------------------------------------------------------------------\u001b[0m",
      "\u001b[1;31mKeyboardInterrupt\u001b[0m                         Traceback (most recent call last)",
      "Cell \u001b[1;32mIn[51], line 4\u001b[0m\n\u001b[0;32m      1\u001b[0m a \u001b[38;5;241m=\u001b[39m \u001b[38;5;124m'\u001b[39m\u001b[38;5;124mPython is awesome\u001b[39m\u001b[38;5;124m'\u001b[39m\n\u001b[0;32m      3\u001b[0m \u001b[38;5;28;01mfor\u001b[39;00m i \u001b[38;5;129;01min\u001b[39;00m a:\n\u001b[1;32m----> 4\u001b[0m     time\u001b[38;5;241m.\u001b[39msleep(\u001b[38;5;241m1\u001b[39m)\n\u001b[0;32m      5\u001b[0m     \u001b[38;5;28mprint\u001b[39m(i)\n",
      "\u001b[1;31mKeyboardInterrupt\u001b[0m: "
     ]
    }
   ],
   "source": [
    "a = 'Python is awesome'\n",
    "\n",
    "for i in a:\n",
    "    time.sleep(1)\n",
    "    print(i)"
   ]
  },
  {
   "cell_type": "code",
   "execution_count": 63,
   "id": "b7659af1",
   "metadata": {},
   "outputs": [
    {
     "name": "stdout",
     "output_type": "stream",
     "text": [
      "Python is awesome"
     ]
    }
   ],
   "source": [
    "a = 'Python is awesome'\n",
    "\n",
    "for i in a:\n",
    "    time.sleep(0.1)\n",
    "    print(i,end='')"
   ]
  },
  {
   "cell_type": "code",
   "execution_count": 64,
   "id": "de86b31f",
   "metadata": {},
   "outputs": [
    {
     "data": {
      "text/plain": [
       "{'Name': 'Ajay',\n",
       " 'Class': 12,\n",
       " 'Age': 23,\n",
       " 'Address': 'Noida',\n",
       " 'Hobby': 'Moye Moye'}"
      ]
     },
     "execution_count": 64,
     "metadata": {},
     "output_type": "execute_result"
    }
   ],
   "source": [
    "# dict iterate\n",
    "\n",
    "a = {'Name':'Ajay',\n",
    "    'Class':12,\n",
    "    'Age':23,\n",
    "    'Address':'Noida',\n",
    "    'Hobby':'Moye Moye'}\n",
    "\n",
    "a"
   ]
  },
  {
   "cell_type": "code",
   "execution_count": 65,
   "id": "43ef6091",
   "metadata": {},
   "outputs": [
    {
     "data": {
      "text/plain": [
       "['Name', 'Class', 'Age', 'Address', 'Hobby']"
      ]
     },
     "execution_count": 65,
     "metadata": {},
     "output_type": "execute_result"
    }
   ],
   "source": [
    "list(a)"
   ]
  },
  {
   "cell_type": "code",
   "execution_count": 66,
   "id": "fe7c0135",
   "metadata": {},
   "outputs": [
    {
     "name": "stdout",
     "output_type": "stream",
     "text": [
      "Name\n",
      "Class\n",
      "Age\n",
      "Address\n",
      "Hobby\n"
     ]
    }
   ],
   "source": [
    "for i in a:\n",
    "    print(i)"
   ]
  },
  {
   "cell_type": "code",
   "execution_count": 67,
   "id": "a846ba6c",
   "metadata": {},
   "outputs": [
    {
     "name": "stdout",
     "output_type": "stream",
     "text": [
      "Ajay\n",
      "12\n",
      "23\n",
      "Noida\n",
      "Moye Moye\n"
     ]
    }
   ],
   "source": [
    "# values \n",
    "\n",
    "for i in a.values():\n",
    "    print(i)"
   ]
  },
  {
   "cell_type": "code",
   "execution_count": 68,
   "id": "d6bf4faa",
   "metadata": {},
   "outputs": [
    {
     "name": "stdout",
     "output_type": "stream",
     "text": [
      "('Name', 'Ajay')\n",
      "('Class', 12)\n",
      "('Age', 23)\n",
      "('Address', 'Noida')\n",
      "('Hobby', 'Moye Moye')\n"
     ]
    }
   ],
   "source": [
    "for j in a.items():\n",
    "    print(j)"
   ]
  },
  {
   "cell_type": "code",
   "execution_count": 69,
   "id": "f3efae2f",
   "metadata": {},
   "outputs": [
    {
     "data": {
      "text/plain": [
       "{'Name': 'Ajay',\n",
       " 'Class': 12,\n",
       " 'Age': 23,\n",
       " 'Address': 'Noida',\n",
       " 'Hobby': 'Moye Moye'}"
      ]
     },
     "execution_count": 69,
     "metadata": {},
     "output_type": "execute_result"
    }
   ],
   "source": [
    "a"
   ]
  },
  {
   "cell_type": "code",
   "execution_count": 70,
   "id": "c5a582cc",
   "metadata": {},
   "outputs": [
    {
     "data": {
      "text/plain": [
       "'Moye Moye'"
      ]
     },
     "execution_count": 70,
     "metadata": {},
     "output_type": "execute_result"
    }
   ],
   "source": [
    "a['Hobby']"
   ]
  },
  {
   "cell_type": "code",
   "execution_count": 76,
   "id": "fcd9caf4",
   "metadata": {},
   "outputs": [
    {
     "name": "stdout",
     "output_type": "stream",
     "text": [
      "Key: Name .... value: Ajay\n",
      "Key: Class .... value: 12\n",
      "Key: Age .... value: 23\n",
      "Key: Address .... value: Noida\n",
      "Key: Hobby .... value: Moye Moye\n"
     ]
    }
   ],
   "source": [
    "for i in a:\n",
    "    print(f'Key: {i} .... value: {a[i]}')"
   ]
  },
  {
   "cell_type": "code",
   "execution_count": 77,
   "id": "cab6a217",
   "metadata": {},
   "outputs": [
    {
     "name": "stdout",
     "output_type": "stream",
     "text": [
      "12\n",
      "34\n",
      "3421\n",
      "334\n",
      "65\n",
      "5342\n",
      "5467\n"
     ]
    }
   ],
   "source": [
    "# tuple\n",
    "\n",
    "a = (12,34,3421,334,65,5342,5467)\n",
    "\n",
    "for i in a:\n",
    "    print(i)"
   ]
  },
  {
   "cell_type": "code",
   "execution_count": 81,
   "id": "7f180fcd",
   "metadata": {},
   "outputs": [
    {
     "name": "stdout",
     "output_type": "stream",
     "text": [
      "Java Python Mayank "
     ]
    }
   ],
   "source": [
    "a = ('Java','Python','Mayank')\n",
    "\n",
    "for element in a:\n",
    "    print(element,end=' ')"
   ]
  },
  {
   "cell_type": "code",
   "execution_count": 88,
   "id": "7c682919",
   "metadata": {},
   "outputs": [
    {
     "name": "stdout",
     "output_type": "stream",
     "text": [
      "{1, 34, 4, 345, 3213, 3476, 23, 89}\n",
      "{1, 34, 4, 345, 3213, 3476, 23, 89}\n",
      "{1, 34, 4, 345, 3213, 3476, 23, 89}\n",
      "{1, 34, 4, 345, 3213, 3476, 23, 89}\n",
      "{1, 34, 4, 345, 3213, 3476, 23, 89}\n",
      "{1, 34, 4, 345, 3213, 3476, 23, 89}\n",
      "{1, 34, 4, 345, 3213, 3476, 23, 89}\n",
      "{1, 34, 4, 345, 3213, 3476, 23, 89}\n"
     ]
    }
   ],
   "source": [
    "# set\n",
    "\n",
    "a = {1,23,3213,345,4,34,3476,89}\n",
    "\n",
    "for j in a:\n",
    "    print(a)"
   ]
  },
  {
   "cell_type": "code",
   "execution_count": 89,
   "id": "bcee1587",
   "metadata": {},
   "outputs": [
    {
     "name": "stdout",
     "output_type": "stream",
     "text": [
      "1\n",
      "34\n",
      "4\n",
      "345\n",
      "3213\n",
      "3476\n",
      "23\n",
      "89\n"
     ]
    }
   ],
   "source": [
    "# set\n",
    "\n",
    "a = {1,23,3213,345,4,34,3476,89}\n",
    "\n",
    "for j in a:\n",
    "    print(j)"
   ]
  },
  {
   "cell_type": "code",
   "execution_count": 112,
   "id": "5f6e9e42",
   "metadata": {},
   "outputs": [
    {
     "name": "stdout",
     "output_type": "stream",
     "text": [
      "3476\n",
      "4\n",
      "34\n",
      "4\n",
      "3213\n",
      "23\n",
      "1\n",
      "345\n"
     ]
    }
   ],
   "source": [
    "# set\n",
    "\n",
    "a = list({1,23,3213,345,4,34,3476,89})\n",
    "\n",
    "for j in a:\n",
    "    print(a[random.randint(0,len(a)-1)])"
   ]
  },
  {
   "cell_type": "code",
   "execution_count": null,
   "id": "43bfc053",
   "metadata": {},
   "outputs": [],
   "source": []
  },
  {
   "cell_type": "code",
   "execution_count": null,
   "id": "505940dd",
   "metadata": {},
   "outputs": [],
   "source": []
  }
 ],
 "metadata": {
  "kernelspec": {
   "display_name": "Python 3 (ipykernel)",
   "language": "python",
   "name": "python3"
  },
  "language_info": {
   "codemirror_mode": {
    "name": "ipython",
    "version": 3
   },
   "file_extension": ".py",
   "mimetype": "text/x-python",
   "name": "python",
   "nbconvert_exporter": "python",
   "pygments_lexer": "ipython3",
   "version": "3.11.3"
  }
 },
 "nbformat": 4,
 "nbformat_minor": 5
}
