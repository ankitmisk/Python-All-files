{
 "cells": [
  {
   "cell_type": "code",
   "execution_count": 1,
   "id": "e607cc38",
   "metadata": {},
   "outputs": [],
   "source": [
    "# List Methods"
   ]
  },
  {
   "cell_type": "code",
   "execution_count": 2,
   "id": "4890bada",
   "metadata": {},
   "outputs": [],
   "source": [
    "a = [1,2443,654,342,5]"
   ]
  },
  {
   "cell_type": "code",
   "execution_count": 3,
   "id": "f8be18c4",
   "metadata": {},
   "outputs": [
    {
     "name": "stdout",
     "output_type": "stream",
     "text": [
      "[1, 2443, 654, 342, 5]\n"
     ]
    }
   ],
   "source": [
    "print(a)"
   ]
  },
  {
   "cell_type": "code",
   "execution_count": 4,
   "id": "0211195c",
   "metadata": {},
   "outputs": [],
   "source": [
    "a.append(75)"
   ]
  },
  {
   "cell_type": "code",
   "execution_count": 5,
   "id": "d07c9bd6",
   "metadata": {},
   "outputs": [
    {
     "name": "stdout",
     "output_type": "stream",
     "text": [
      "[1, 2443, 654, 342, 5, 75]\n"
     ]
    }
   ],
   "source": [
    "print(a)"
   ]
  },
  {
   "cell_type": "code",
   "execution_count": 6,
   "id": "ad971c25",
   "metadata": {},
   "outputs": [
    {
     "name": "stdout",
     "output_type": "stream",
     "text": [
      "['__add__', '__class__', '__class_getitem__', '__contains__', '__delattr__', '__delitem__', '__dir__', '__doc__', '__eq__', '__format__', '__ge__', '__getattribute__', '__getitem__', '__getstate__', '__gt__', '__hash__', '__iadd__', '__imul__', '__init__', '__init_subclass__', '__iter__', '__le__', '__len__', '__lt__', '__mul__', '__ne__', '__new__', '__reduce__', '__reduce_ex__', '__repr__', '__reversed__', '__rmul__', '__setattr__', '__setitem__', '__sizeof__', '__str__', '__subclasshook__', 'append', 'clear', 'copy', 'count', 'extend', 'index', 'insert', 'pop', 'remove', 'reverse', 'sort']\n"
     ]
    }
   ],
   "source": [
    "print(dir(list))"
   ]
  },
  {
   "cell_type": "code",
   "execution_count": 7,
   "id": "d5495ddf",
   "metadata": {},
   "outputs": [],
   "source": [
    "methods = ['append', 'clear', 'copy', 'count', 'extend', 'index', 'insert', 'pop', 'remove', 'reverse', 'sort']"
   ]
  },
  {
   "cell_type": "code",
   "execution_count": 8,
   "id": "0791d5d2",
   "metadata": {},
   "outputs": [
    {
     "name": "stdout",
     "output_type": "stream",
     "text": [
      "['append', 'clear', 'copy', 'count', 'extend', 'index', 'insert', 'pop', 'remove', 'reverse', 'sort']\n"
     ]
    }
   ],
   "source": [
    "print(methods)"
   ]
  },
  {
   "cell_type": "code",
   "execution_count": 9,
   "id": "0ff933b1",
   "metadata": {},
   "outputs": [
    {
     "data": {
      "text/plain": [
       "11"
      ]
     },
     "execution_count": 9,
     "metadata": {},
     "output_type": "execute_result"
    }
   ],
   "source": [
    "len(methods)"
   ]
  },
  {
   "cell_type": "code",
   "execution_count": 10,
   "id": "6a1d16c9",
   "metadata": {},
   "outputs": [],
   "source": [
    "a = [1,24,35,23,25,657,435,7]"
   ]
  },
  {
   "cell_type": "code",
   "execution_count": 11,
   "id": "c3e155d1",
   "metadata": {},
   "outputs": [
    {
     "name": "stdout",
     "output_type": "stream",
     "text": [
      "[1, 24, 35, 23, 25, 657, 435, 7]\n"
     ]
    }
   ],
   "source": [
    "print(a)"
   ]
  },
  {
   "cell_type": "code",
   "execution_count": 12,
   "id": "e32b67cb",
   "metadata": {},
   "outputs": [],
   "source": [
    "a.clear()"
   ]
  },
  {
   "cell_type": "code",
   "execution_count": 13,
   "id": "a1e3bb08",
   "metadata": {},
   "outputs": [
    {
     "name": "stdout",
     "output_type": "stream",
     "text": [
      "[]\n"
     ]
    }
   ],
   "source": [
    "print(a)"
   ]
  },
  {
   "cell_type": "code",
   "execution_count": 14,
   "id": "7fd4d744",
   "metadata": {},
   "outputs": [
    {
     "name": "stdout",
     "output_type": "stream",
     "text": [
      "[]\n"
     ]
    }
   ],
   "source": [
    "# empty list\n",
    "d = []\n",
    "\n",
    "print(d)"
   ]
  },
  {
   "cell_type": "code",
   "execution_count": 15,
   "id": "761e91e0",
   "metadata": {},
   "outputs": [],
   "source": [
    "vipin = [34500,45600]\n",
    "\n",
    "rohit = vipin"
   ]
  },
  {
   "cell_type": "code",
   "execution_count": 16,
   "id": "1b7148bf",
   "metadata": {},
   "outputs": [
    {
     "name": "stdout",
     "output_type": "stream",
     "text": [
      "[34500, 45600]\n"
     ]
    }
   ],
   "source": [
    "print(vipin)"
   ]
  },
  {
   "cell_type": "code",
   "execution_count": 17,
   "id": "4446b4d9",
   "metadata": {},
   "outputs": [
    {
     "name": "stdout",
     "output_type": "stream",
     "text": [
      "[34500, 45600]\n"
     ]
    }
   ],
   "source": [
    "print(rohit)"
   ]
  },
  {
   "cell_type": "code",
   "execution_count": 18,
   "id": "2684f600",
   "metadata": {},
   "outputs": [],
   "source": [
    "rohit.append(123456789)"
   ]
  },
  {
   "cell_type": "code",
   "execution_count": 19,
   "id": "c464dc2c",
   "metadata": {},
   "outputs": [
    {
     "name": "stdout",
     "output_type": "stream",
     "text": [
      "[34500, 45600, 123456789]\n"
     ]
    }
   ],
   "source": [
    "print(rohit)"
   ]
  },
  {
   "cell_type": "code",
   "execution_count": 20,
   "id": "b03e22a1",
   "metadata": {},
   "outputs": [
    {
     "name": "stdout",
     "output_type": "stream",
     "text": [
      "[34500, 45600, 123456789]\n"
     ]
    }
   ],
   "source": [
    "print(vipin)"
   ]
  },
  {
   "cell_type": "code",
   "execution_count": null,
   "id": "b1b077f6",
   "metadata": {},
   "outputs": [],
   "source": []
  },
  {
   "cell_type": "code",
   "execution_count": 21,
   "id": "3c567868",
   "metadata": {},
   "outputs": [],
   "source": [
    "akshay = [23,42,355,78]\n",
    "\n",
    "salman = akshay.copy()"
   ]
  },
  {
   "cell_type": "code",
   "execution_count": 22,
   "id": "381be7a9",
   "metadata": {},
   "outputs": [
    {
     "name": "stdout",
     "output_type": "stream",
     "text": [
      "[23, 42, 355, 78]\n"
     ]
    }
   ],
   "source": [
    "print(akshay)"
   ]
  },
  {
   "cell_type": "code",
   "execution_count": 23,
   "id": "fb34ec3a",
   "metadata": {},
   "outputs": [
    {
     "name": "stdout",
     "output_type": "stream",
     "text": [
      "[23, 42, 355, 78]\n"
     ]
    }
   ],
   "source": [
    "print(salman)"
   ]
  },
  {
   "cell_type": "code",
   "execution_count": 24,
   "id": "24e61700",
   "metadata": {},
   "outputs": [],
   "source": [
    "salman.append(1234543234567)"
   ]
  },
  {
   "cell_type": "code",
   "execution_count": 25,
   "id": "0f0bf2a0",
   "metadata": {},
   "outputs": [
    {
     "name": "stdout",
     "output_type": "stream",
     "text": [
      "[23, 42, 355, 78, 1234543234567]\n"
     ]
    }
   ],
   "source": [
    "print(salman)"
   ]
  },
  {
   "cell_type": "code",
   "execution_count": 26,
   "id": "6bf3618f",
   "metadata": {},
   "outputs": [
    {
     "name": "stdout",
     "output_type": "stream",
     "text": [
      "[23, 42, 355, 78]\n"
     ]
    }
   ],
   "source": [
    "print(akshay)"
   ]
  },
  {
   "cell_type": "code",
   "execution_count": 27,
   "id": "be26f682",
   "metadata": {},
   "outputs": [],
   "source": [
    "# equal(deep copy)\n",
    "# copy method(shallow copy)"
   ]
  },
  {
   "cell_type": "code",
   "execution_count": 28,
   "id": "893cbc10",
   "metadata": {},
   "outputs": [],
   "source": [
    "# 'count', 'extend', 'index', 'insert', 'pop', 'remove', 'reverse', 'sort']"
   ]
  },
  {
   "cell_type": "code",
   "execution_count": 33,
   "id": "c24fce9e",
   "metadata": {},
   "outputs": [],
   "source": [
    "a = [2,4323,321,342,421,12,321,21,12,123,1,321,232,3,23,34,54,32,321,32]"
   ]
  },
  {
   "cell_type": "code",
   "execution_count": 34,
   "id": "fa6b54c0",
   "metadata": {},
   "outputs": [
    {
     "data": {
      "text/plain": [
       "4"
      ]
     },
     "execution_count": 34,
     "metadata": {},
     "output_type": "execute_result"
    }
   ],
   "source": [
    "a.count(321)"
   ]
  },
  {
   "cell_type": "code",
   "execution_count": 35,
   "id": "7ec4f5eb",
   "metadata": {},
   "outputs": [
    {
     "data": {
      "text/plain": [
       "2"
      ]
     },
     "execution_count": 35,
     "metadata": {},
     "output_type": "execute_result"
    }
   ],
   "source": [
    "a.count(12)"
   ]
  },
  {
   "cell_type": "code",
   "execution_count": null,
   "id": "64e30878",
   "metadata": {},
   "outputs": [],
   "source": []
  },
  {
   "cell_type": "code",
   "execution_count": 36,
   "id": "b1561883",
   "metadata": {},
   "outputs": [
    {
     "name": "stdout",
     "output_type": "stream",
     "text": [
      "[2, 324, 3454, 352]\n"
     ]
    }
   ],
   "source": [
    "# extend \n",
    "\n",
    "a = [2,324,3454,352]\n",
    "\n",
    "print(a)"
   ]
  },
  {
   "cell_type": "code",
   "execution_count": 37,
   "id": "bb6901e1",
   "metadata": {},
   "outputs": [],
   "source": [
    "a.append([12,43,54,632,432,5457])"
   ]
  },
  {
   "cell_type": "code",
   "execution_count": 38,
   "id": "bd82d4e1",
   "metadata": {},
   "outputs": [
    {
     "name": "stdout",
     "output_type": "stream",
     "text": [
      "[2, 324, 3454, 352, [12, 43, 54, 632, 432, 5457]]\n"
     ]
    }
   ],
   "source": [
    "print(a)"
   ]
  },
  {
   "cell_type": "code",
   "execution_count": 39,
   "id": "6bd0ab37",
   "metadata": {},
   "outputs": [],
   "source": [
    "# [2,324,3454,352,12,43,54,632,432,5457]"
   ]
  },
  {
   "cell_type": "code",
   "execution_count": 41,
   "id": "2b55162e",
   "metadata": {},
   "outputs": [],
   "source": [
    "a.append([12,43])"
   ]
  },
  {
   "cell_type": "code",
   "execution_count": 42,
   "id": "d90264b5",
   "metadata": {},
   "outputs": [
    {
     "data": {
      "text/plain": [
       "[2, 324, 3454, 352, [12, 43, 54, 632, 432, 5457], [12, 43]]"
      ]
     },
     "execution_count": 42,
     "metadata": {},
     "output_type": "execute_result"
    }
   ],
   "source": [
    "a"
   ]
  },
  {
   "cell_type": "code",
   "execution_count": 43,
   "id": "694fa8a0",
   "metadata": {},
   "outputs": [
    {
     "name": "stdout",
     "output_type": "stream",
     "text": [
      "[23, 44, 532, 332, 567]\n"
     ]
    }
   ],
   "source": [
    "a = [23,44,532,332,567]\n",
    "\n",
    "print(a)"
   ]
  },
  {
   "cell_type": "code",
   "execution_count": 44,
   "id": "f5cd1958",
   "metadata": {},
   "outputs": [],
   "source": [
    "a.extend([12,434,5321,34,35])"
   ]
  },
  {
   "cell_type": "code",
   "execution_count": 45,
   "id": "c5ab0910",
   "metadata": {},
   "outputs": [
    {
     "name": "stdout",
     "output_type": "stream",
     "text": [
      "[23, 44, 532, 332, 567, 12, 434, 5321, 34, 35]\n"
     ]
    }
   ],
   "source": [
    "print(a)"
   ]
  },
  {
   "cell_type": "code",
   "execution_count": 47,
   "id": "b3079b03",
   "metadata": {},
   "outputs": [],
   "source": [
    "# 'index', 'insert', 'pop', 'remove', 'reverse', 'sort']"
   ]
  },
  {
   "cell_type": "code",
   "execution_count": 50,
   "id": "9fe5e052",
   "metadata": {},
   "outputs": [],
   "source": [
    "a = [12,2143,53,233,24,35,646,43,24,234,3254,6,'akshay']"
   ]
  },
  {
   "cell_type": "code",
   "execution_count": 49,
   "id": "5ff35851",
   "metadata": {},
   "outputs": [
    {
     "name": "stdout",
     "output_type": "stream",
     "text": [
      "4\n"
     ]
    }
   ],
   "source": [
    "print(a.index(24))"
   ]
  },
  {
   "cell_type": "code",
   "execution_count": 51,
   "id": "03252691",
   "metadata": {},
   "outputs": [
    {
     "name": "stdout",
     "output_type": "stream",
     "text": [
      "12\n"
     ]
    }
   ],
   "source": [
    "print(a.index('akshay'))"
   ]
  },
  {
   "cell_type": "code",
   "execution_count": 52,
   "id": "d3ff4b8b",
   "metadata": {},
   "outputs": [],
   "source": [
    "a = [13,12,3,24,325,212,13,12,4,12,21,233]"
   ]
  },
  {
   "cell_type": "code",
   "execution_count": 55,
   "id": "4fe42acc",
   "metadata": {},
   "outputs": [
    {
     "data": {
      "text/plain": [
       "9"
      ]
     },
     "execution_count": 55,
     "metadata": {},
     "output_type": "execute_result"
    }
   ],
   "source": [
    "a.index(12,8)"
   ]
  },
  {
   "cell_type": "code",
   "execution_count": 56,
   "id": "9e126bd4",
   "metadata": {},
   "outputs": [],
   "source": [
    "# 'insert', 'pop', 'remove', 'reverse', 'sort']"
   ]
  },
  {
   "cell_type": "code",
   "execution_count": 57,
   "id": "a755d0d0",
   "metadata": {},
   "outputs": [
    {
     "name": "stdout",
     "output_type": "stream",
     "text": [
      "[1, 24, 35, 13, 25]\n"
     ]
    }
   ],
   "source": [
    "a = [1,24,35,13,25]\n",
    "\n",
    "print(a)"
   ]
  },
  {
   "cell_type": "code",
   "execution_count": 58,
   "id": "3e5e9d21",
   "metadata": {},
   "outputs": [],
   "source": [
    "a.insert(2,'Mohan')"
   ]
  },
  {
   "cell_type": "code",
   "execution_count": 59,
   "id": "d0f9271a",
   "metadata": {},
   "outputs": [
    {
     "name": "stdout",
     "output_type": "stream",
     "text": [
      "[1, 24, 'Mohan', 35, 13, 25]\n"
     ]
    }
   ],
   "source": [
    "print(a)"
   ]
  },
  {
   "cell_type": "code",
   "execution_count": 60,
   "id": "2b5c84e4",
   "metadata": {},
   "outputs": [],
   "source": [
    "a.insert(0,'Akshay')"
   ]
  },
  {
   "cell_type": "code",
   "execution_count": 61,
   "id": "5e7e93eb",
   "metadata": {},
   "outputs": [
    {
     "name": "stdout",
     "output_type": "stream",
     "text": [
      "['Akshay', 1, 24, 'Mohan', 35, 13, 25]\n"
     ]
    }
   ],
   "source": [
    "print(a)"
   ]
  },
  {
   "cell_type": "code",
   "execution_count": 62,
   "id": "33675318",
   "metadata": {},
   "outputs": [],
   "source": [
    "a.insert(5,'Vipin')"
   ]
  },
  {
   "cell_type": "code",
   "execution_count": 64,
   "id": "d9a5209c",
   "metadata": {},
   "outputs": [
    {
     "name": "stdout",
     "output_type": "stream",
     "text": [
      "['Akshay', 1, 24, 'Mohan', 35, 'Vipin', 13, 25]\n"
     ]
    }
   ],
   "source": [
    "print(a)"
   ]
  },
  {
   "cell_type": "code",
   "execution_count": 65,
   "id": "2872e766",
   "metadata": {},
   "outputs": [],
   "source": [
    "# 'pop', 'remove', 'reverse', 'sort']"
   ]
  },
  {
   "cell_type": "code",
   "execution_count": 66,
   "id": "03df4e32",
   "metadata": {},
   "outputs": [],
   "source": [
    "a = [2,324,35,21,312,4534,64,63,43]"
   ]
  },
  {
   "cell_type": "code",
   "execution_count": 67,
   "id": "84b92d1c",
   "metadata": {},
   "outputs": [
    {
     "name": "stdout",
     "output_type": "stream",
     "text": [
      "43\n"
     ]
    }
   ],
   "source": [
    "print(a.pop())"
   ]
  },
  {
   "cell_type": "code",
   "execution_count": 68,
   "id": "b2764eca",
   "metadata": {},
   "outputs": [
    {
     "name": "stdout",
     "output_type": "stream",
     "text": [
      "[2, 324, 35, 21, 312, 4534, 64, 63]\n"
     ]
    }
   ],
   "source": [
    "print(a)"
   ]
  },
  {
   "cell_type": "code",
   "execution_count": 69,
   "id": "3ea7db8a",
   "metadata": {},
   "outputs": [
    {
     "data": {
      "text/plain": [
       "63"
      ]
     },
     "execution_count": 69,
     "metadata": {},
     "output_type": "execute_result"
    }
   ],
   "source": [
    "a.pop()"
   ]
  },
  {
   "cell_type": "code",
   "execution_count": 70,
   "id": "eaa56696",
   "metadata": {},
   "outputs": [
    {
     "name": "stdout",
     "output_type": "stream",
     "text": [
      "[2, 324, 35, 21, 312, 4534, 64]\n"
     ]
    }
   ],
   "source": [
    "print(a)"
   ]
  },
  {
   "cell_type": "code",
   "execution_count": 71,
   "id": "9ea22e24",
   "metadata": {},
   "outputs": [
    {
     "data": {
      "text/plain": [
       "21"
      ]
     },
     "execution_count": 71,
     "metadata": {},
     "output_type": "execute_result"
    }
   ],
   "source": [
    "a.pop(3)"
   ]
  },
  {
   "cell_type": "code",
   "execution_count": 72,
   "id": "fe828113",
   "metadata": {},
   "outputs": [
    {
     "name": "stdout",
     "output_type": "stream",
     "text": [
      "[2, 324, 35, 312, 4534, 64]\n"
     ]
    }
   ],
   "source": [
    "print(a)"
   ]
  },
  {
   "cell_type": "code",
   "execution_count": 73,
   "id": "c34168b6",
   "metadata": {},
   "outputs": [
    {
     "data": {
      "text/plain": [
       "312"
      ]
     },
     "execution_count": 73,
     "metadata": {},
     "output_type": "execute_result"
    }
   ],
   "source": [
    "a.pop(3)"
   ]
  },
  {
   "cell_type": "code",
   "execution_count": 74,
   "id": "054e8c44",
   "metadata": {},
   "outputs": [
    {
     "name": "stdout",
     "output_type": "stream",
     "text": [
      "[2, 324, 35, 4534, 64]\n"
     ]
    }
   ],
   "source": [
    "print(a)"
   ]
  },
  {
   "cell_type": "code",
   "execution_count": 75,
   "id": "449cf420",
   "metadata": {},
   "outputs": [],
   "source": [
    "# 'remove', 'reverse', 'sort']"
   ]
  },
  {
   "cell_type": "code",
   "execution_count": 76,
   "id": "7b894981",
   "metadata": {},
   "outputs": [
    {
     "name": "stdout",
     "output_type": "stream",
     "text": [
      "[1, 24, 341, 31, 2432, 5634, 52, 534, 6]\n"
     ]
    }
   ],
   "source": [
    "a = [1,24,341,31,2432,5634,52,534,6]\n",
    "\n",
    "\n",
    "print(a)"
   ]
  },
  {
   "cell_type": "code",
   "execution_count": 77,
   "id": "265aee6d",
   "metadata": {},
   "outputs": [],
   "source": [
    "a.remove(341)"
   ]
  },
  {
   "cell_type": "code",
   "execution_count": 78,
   "id": "32e74f6f",
   "metadata": {},
   "outputs": [
    {
     "name": "stdout",
     "output_type": "stream",
     "text": [
      "[1, 24, 31, 2432, 5634, 52, 534, 6]\n"
     ]
    }
   ],
   "source": [
    "print(a)"
   ]
  },
  {
   "cell_type": "code",
   "execution_count": 79,
   "id": "330f33bb",
   "metadata": {},
   "outputs": [],
   "source": [
    "a.remove(5634)"
   ]
  },
  {
   "cell_type": "code",
   "execution_count": 80,
   "id": "22b9818f",
   "metadata": {},
   "outputs": [
    {
     "name": "stdout",
     "output_type": "stream",
     "text": [
      "[1, 24, 31, 2432, 52, 534, 6]\n"
     ]
    }
   ],
   "source": [
    "print(a)"
   ]
  },
  {
   "cell_type": "code",
   "execution_count": 81,
   "id": "6b6672c3",
   "metadata": {},
   "outputs": [],
   "source": [
    "# 'reverse', 'sort']"
   ]
  },
  {
   "cell_type": "code",
   "execution_count": 82,
   "id": "d18eba43",
   "metadata": {},
   "outputs": [
    {
     "name": "stdout",
     "output_type": "stream",
     "text": [
      "[12, 4543, 321, 43, 234, 5436, 54, 535, 436]\n"
     ]
    }
   ],
   "source": [
    "a = [12,4543,321,43,234,5436,54,535,436]\n",
    "\n",
    "print(a)"
   ]
  },
  {
   "cell_type": "code",
   "execution_count": 83,
   "id": "67e2158e",
   "metadata": {},
   "outputs": [],
   "source": [
    "a.reverse()"
   ]
  },
  {
   "cell_type": "code",
   "execution_count": 84,
   "id": "65951cd6",
   "metadata": {},
   "outputs": [
    {
     "name": "stdout",
     "output_type": "stream",
     "text": [
      "[436, 535, 54, 5436, 234, 43, 321, 4543, 12]\n"
     ]
    }
   ],
   "source": [
    "print(a)"
   ]
  },
  {
   "cell_type": "code",
   "execution_count": 85,
   "id": "35c773ba",
   "metadata": {},
   "outputs": [],
   "source": [
    "a.reverse()"
   ]
  },
  {
   "cell_type": "code",
   "execution_count": 86,
   "id": "8df1b9c3",
   "metadata": {},
   "outputs": [
    {
     "name": "stdout",
     "output_type": "stream",
     "text": [
      "[12, 4543, 321, 43, 234, 5436, 54, 535, 436]\n"
     ]
    }
   ],
   "source": [
    "print(a)"
   ]
  },
  {
   "cell_type": "code",
   "execution_count": 87,
   "id": "c4aae859",
   "metadata": {},
   "outputs": [],
   "source": [
    "a = [21,4534,643,21,34325,6567,6574,35]"
   ]
  },
  {
   "cell_type": "code",
   "execution_count": 88,
   "id": "ed043990",
   "metadata": {},
   "outputs": [
    {
     "name": "stdout",
     "output_type": "stream",
     "text": [
      "[21, 4534, 643, 21, 34325, 6567, 6574, 35]\n"
     ]
    }
   ],
   "source": [
    "print(a)"
   ]
  },
  {
   "cell_type": "code",
   "execution_count": 89,
   "id": "4d7d091a",
   "metadata": {},
   "outputs": [],
   "source": [
    "a.sort()"
   ]
  },
  {
   "cell_type": "code",
   "execution_count": 90,
   "id": "76992739",
   "metadata": {},
   "outputs": [
    {
     "name": "stdout",
     "output_type": "stream",
     "text": [
      "[21, 21, 35, 643, 4534, 6567, 6574, 34325]\n"
     ]
    }
   ],
   "source": [
    "print(a)"
   ]
  },
  {
   "cell_type": "code",
   "execution_count": 91,
   "id": "064b07fa",
   "metadata": {},
   "outputs": [],
   "source": [
    "s = [12,43,6432,31,56548,432,546,4,324,36,545,346,56,54]"
   ]
  },
  {
   "cell_type": "code",
   "execution_count": 92,
   "id": "d28e810e",
   "metadata": {},
   "outputs": [],
   "source": [
    "s.sort(reverse=True)"
   ]
  },
  {
   "cell_type": "code",
   "execution_count": 93,
   "id": "1e128282",
   "metadata": {},
   "outputs": [
    {
     "name": "stdout",
     "output_type": "stream",
     "text": [
      "[56548, 6432, 546, 545, 432, 346, 324, 56, 54, 43, 36, 31, 12, 4]\n"
     ]
    }
   ],
   "source": [
    "print(s)"
   ]
  },
  {
   "cell_type": "code",
   "execution_count": null,
   "id": "fd522bd4",
   "metadata": {},
   "outputs": [],
   "source": []
  }
 ],
 "metadata": {
  "kernelspec": {
   "display_name": "Python 3 (ipykernel)",
   "language": "python",
   "name": "python3"
  },
  "language_info": {
   "codemirror_mode": {
    "name": "ipython",
    "version": 3
   },
   "file_extension": ".py",
   "mimetype": "text/x-python",
   "name": "python",
   "nbconvert_exporter": "python",
   "pygments_lexer": "ipython3",
   "version": "3.11.3"
  }
 },
 "nbformat": 4,
 "nbformat_minor": 5
}
