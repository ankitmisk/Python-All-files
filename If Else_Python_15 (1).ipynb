{
 "cells": [
  {
   "cell_type": "code",
   "execution_count": 1,
   "id": "1573e6a1",
   "metadata": {},
   "outputs": [],
   "source": [
    "# # basics data types\n",
    "# methods"
   ]
  },
  {
   "cell_type": "code",
   "execution_count": 2,
   "id": "5d967b63",
   "metadata": {},
   "outputs": [],
   "source": [
    "# conditional programming"
   ]
  },
  {
   "cell_type": "code",
   "execution_count": 7,
   "id": "da677318",
   "metadata": {},
   "outputs": [
    {
     "name": "stdout",
     "output_type": "stream",
     "text": [
      "Enter your age: 9\n",
      "Can not Vote!!\n"
     ]
    }
   ],
   "source": [
    "age = int(input('Enter your age: '))\n",
    "\n",
    "if age >=18:\n",
    "    print('Can Vote!!')\n",
    "else:\n",
    "    print('Can not Vote!!')"
   ]
  },
  {
   "cell_type": "code",
   "execution_count": 8,
   "id": "8ee080a5",
   "metadata": {},
   "outputs": [],
   "source": [
    "# syntax\n",
    "# if condition/conditions:\n",
    "#     if code block\n",
    "# else:\n",
    "#     else code block "
   ]
  },
  {
   "cell_type": "code",
   "execution_count": 9,
   "id": "032199ad",
   "metadata": {},
   "outputs": [],
   "source": [
    "# condition/conditions"
   ]
  },
  {
   "cell_type": "code",
   "execution_count": 10,
   "id": "53a213d5",
   "metadata": {},
   "outputs": [
    {
     "data": {
      "text/plain": [
       "False"
      ]
     },
     "execution_count": 10,
     "metadata": {},
     "output_type": "execute_result"
    }
   ],
   "source": [
    "2 in [12,343,42,435467]"
   ]
  },
  {
   "cell_type": "code",
   "execution_count": 11,
   "id": "a08bb025",
   "metadata": {},
   "outputs": [
    {
     "data": {
      "text/plain": [
       "True"
      ]
     },
     "execution_count": 11,
     "metadata": {},
     "output_type": "execute_result"
    }
   ],
   "source": [
    "'ajay' == 'ajay'"
   ]
  },
  {
   "cell_type": "code",
   "execution_count": 12,
   "id": "5cf47cea",
   "metadata": {},
   "outputs": [
    {
     "data": {
      "text/plain": [
       "True"
      ]
     },
     "execution_count": 12,
     "metadata": {},
     "output_type": "execute_result"
    }
   ],
   "source": [
    "23<34"
   ]
  },
  {
   "cell_type": "code",
   "execution_count": 13,
   "id": "dcc15b58",
   "metadata": {},
   "outputs": [
    {
     "data": {
      "text/plain": [
       "True"
      ]
     },
     "execution_count": 13,
     "metadata": {},
     "output_type": "execute_result"
    }
   ],
   "source": [
    "a = 23\n",
    "b  = 23\n",
    "\n",
    "a is b\n"
   ]
  },
  {
   "cell_type": "code",
   "execution_count": 17,
   "id": "14b7fa8f",
   "metadata": {},
   "outputs": [
    {
     "name": "stdout",
     "output_type": "stream",
     "text": [
      "b is small\n"
     ]
    }
   ],
   "source": [
    "a = 120\n",
    "b = 23\n",
    "\n",
    "\n",
    "if a<b:\n",
    "    print('a is small') \n",
    "else:\n",
    "    print('b is small')"
   ]
  },
  {
   "cell_type": "code",
   "execution_count": 19,
   "id": "80646e57",
   "metadata": {},
   "outputs": [
    {
     "name": "stdout",
     "output_type": "stream",
     "text": [
      "Odd Number\n"
     ]
    }
   ],
   "source": [
    "# even or odd\n",
    "\n",
    "a = 123\n",
    "\n",
    "if a%2 == 0:\n",
    "    print('Even Number')\n",
    "else:\n",
    "    print('Odd Number')"
   ]
  },
  {
   "cell_type": "code",
   "execution_count": 23,
   "id": "3062cbf8",
   "metadata": {},
   "outputs": [
    {
     "name": "stdout",
     "output_type": "stream",
     "text": [
      "2340 is divisible by 234\n"
     ]
    }
   ],
   "source": [
    "# check divisibility\n",
    "\n",
    "a = 2340\n",
    "b = 234\n",
    "\n",
    "\n",
    "if a%b == 0:\n",
    "    print(f'{a} is divisible by {b}')\n",
    "else:\n",
    "    print(f'{a} is not divisible by {b}')"
   ]
  },
  {
   "cell_type": "code",
   "execution_count": 24,
   "id": "f50137ce",
   "metadata": {},
   "outputs": [],
   "source": [
    "# if elif else"
   ]
  },
  {
   "cell_type": "code",
   "execution_count": 27,
   "id": "a6457bfb",
   "metadata": {},
   "outputs": [
    {
     "name": "stdout",
     "output_type": "stream",
     "text": [
      "c is smallest\n"
     ]
    }
   ],
   "source": [
    "a = 23\n",
    "b = 30\n",
    "c = 5\n",
    "\n",
    "if (a<b) and (a<c):\n",
    "    print('a is smallest')\n",
    "\n",
    "elif (b<a) and (b<c):\n",
    "    print('b is smallest')\n",
    "    \n",
    "else:\n",
    "     print('c is smallest')"
   ]
  },
  {
   "cell_type": "code",
   "execution_count": 33,
   "id": "ab2679a9",
   "metadata": {
    "scrolled": false
   },
   "outputs": [
    {
     "name": "stdout",
     "output_type": "stream",
     "text": [
      "Enter your name: jatin Rajput\n",
      "This is jatin Rajput Report card\n",
      "Enter maths marks: 99\n",
      "Enter science marks: 9\n",
      "Enter hindi marks: 9\n",
      "Enter english marks: 9\n",
      "Enter sst marks: 9\n",
      "Your are Fail!!,27.0 %\n",
      "Yor CGPA is:  2.84\n"
     ]
    }
   ],
   "source": [
    "# grading system\n",
    "\n",
    "name = input('Enter your name: ')\n",
    "\n",
    "print(f'''This is {name} Report card''')\n",
    "maths = float(input('Enter maths marks: '))\n",
    "sci = float(input('Enter science marks: '))\n",
    "hindi = float(input('Enter hindi marks: '))\n",
    "english = float(input('Enter english marks: '))\n",
    "sst = float(input('Enter sst marks: '))\n",
    "\n",
    "\n",
    "marks_obtained = maths+sci+hindi+english+sst\n",
    "\n",
    "total = 500\n",
    "\n",
    "percentage = round((marks_obtained/total)*100,2)\n",
    "\n",
    "if percentage>=90:\n",
    "    print(f'You have scored A+ and {percentage} %')\n",
    "    \n",
    "elif 80<=percentage<90:\n",
    "    print(f'You have scored A and {percentage} %')\n",
    "    \n",
    "elif 70<=percentage<80:\n",
    "    print(f'You have scored B+ and {percentage} %')\n",
    "    \n",
    "elif 60<=percentage<70:\n",
    "    print(f'You have scored B and {percentage} %')\n",
    "    \n",
    "    \n",
    "elif 50<=percentage<60:\n",
    "    print(f'You have scored C and {percentage} %')\n",
    "    \n",
    "elif 40<=percentage<50:\n",
    "    print(f'You have scored D and {percentage} %')\n",
    "    \n",
    "elif 33<=percentage<40:\n",
    "    print(f'You have scored E and {percentage} %')\n",
    "    \n",
    "else:\n",
    "    print(f'Your are Fail!!,{percentage} %')\n",
    "\n",
    "print('Yor CGPA is: ',round(percentage/9.5,2))"
   ]
  },
  {
   "cell_type": "markdown",
   "id": "ae3b5a5d",
   "metadata": {},
   "source": [
    "# day 16"
   ]
  },
  {
   "cell_type": "code",
   "execution_count": 1,
   "id": "d8cc74af",
   "metadata": {},
   "outputs": [],
   "source": [
    "# one liner code\n",
    "# palindrome\n",
    "# check divisibility of a number with a given number\n",
    "# random game\n",
    "# Rock paper scissors game\n",
    "# login form "
   ]
  },
  {
   "cell_type": "code",
   "execution_count": 2,
   "id": "3065836f",
   "metadata": {},
   "outputs": [
    {
     "name": "stdout",
     "output_type": "stream",
     "text": [
      "Odd\n"
     ]
    }
   ],
   "source": [
    "# one liner code\n",
    "# even and odd\n",
    "\n",
    "\n",
    "a = 123\n",
    "\n",
    "if a%2==0:\n",
    "    print('Even')\n",
    "else:\n",
    "    print('Odd')"
   ]
  },
  {
   "cell_type": "code",
   "execution_count": 3,
   "id": "14522803",
   "metadata": {},
   "outputs": [
    {
     "name": "stdout",
     "output_type": "stream",
     "text": [
      "Odd\n"
     ]
    }
   ],
   "source": [
    "a = 123\n",
    "\n",
    "\n",
    "print('Even') if a%2==0 else print('Odd')"
   ]
  },
  {
   "cell_type": "code",
   "execution_count": 5,
   "id": "1cd9a51b",
   "metadata": {},
   "outputs": [
    {
     "name": "stdout",
     "output_type": "stream",
     "text": [
      "Odd\n"
     ]
    }
   ],
   "source": [
    "a = 123\n",
    "# pass\n",
    "\n",
    "None if a%2==0 else print('Odd')"
   ]
  },
  {
   "cell_type": "code",
   "execution_count": 9,
   "id": "bdd4b5f2",
   "metadata": {},
   "outputs": [],
   "source": [
    "a = 123\n",
    "\n",
    "if a%2==0:\n",
    "    print('Even')\n",
    "else:\n",
    "    pass"
   ]
  },
  {
   "cell_type": "code",
   "execution_count": 11,
   "id": "c203611d",
   "metadata": {},
   "outputs": [
    {
     "data": {
      "text/plain": [
       "'nitin'"
      ]
     },
     "execution_count": 11,
     "metadata": {},
     "output_type": "execute_result"
    }
   ],
   "source": [
    "# palindrome\n",
    "\n",
    "a = 'nitin'\n",
    "\n",
    "a[::-1]"
   ]
  },
  {
   "cell_type": "code",
   "execution_count": 20,
   "id": "67ae9fdd",
   "metadata": {},
   "outputs": [
    {
     "name": "stdout",
     "output_type": "stream",
     "text": [
      "Enter your word: dad\n",
      "Palindrome\n"
     ]
    }
   ],
   "source": [
    "word = input('Enter your word: ').lower()\n",
    "\n",
    "if word == word[::-1]:\n",
    "    print('Palindrome')\n",
    "else:\n",
    "    print('Not palindrome')"
   ]
  },
  {
   "cell_type": "code",
   "execution_count": 21,
   "id": "eead7e20",
   "metadata": {},
   "outputs": [],
   "source": [
    "# random game\n",
    "# Rock paper scissors game\n",
    "# login form "
   ]
  },
  {
   "cell_type": "code",
   "execution_count": 22,
   "id": "0986b725",
   "metadata": {},
   "outputs": [],
   "source": [
    "# random game guess a number\n",
    "\n",
    "\n",
    "import random"
   ]
  },
  {
   "cell_type": "code",
   "execution_count": 37,
   "id": "9c08bc7c",
   "metadata": {},
   "outputs": [
    {
     "name": "stdout",
     "output_type": "stream",
     "text": [
      "Guess a number (1 to 5): 1\n",
      "Comp Won You Lose!!\n"
     ]
    }
   ],
   "source": [
    "comp = random.randint(1,5)\n",
    "user = int(input('Guess a number (1 to 5): '))\n",
    "\n",
    "if user == comp:\n",
    "    print('You Won Comp Lose!!')\n",
    "else:\n",
    "    print('Comp Won You Lose!!')"
   ]
  },
  {
   "cell_type": "code",
   "execution_count": 93,
   "id": "a3d2c1f4",
   "metadata": {},
   "outputs": [
    {
     "name": "stdout",
     "output_type": "stream",
     "text": [
      "Enter your choice: paper\n",
      "User choice: Paper\n",
      "Comp Choice: Rock\n",
      "User Wins Comp Lose!!\n"
     ]
    }
   ],
   "source": [
    "# Rock paper scissors game\n",
    "\n",
    "comp_choice = random.choice(['Rock','Paper','Scissors']*1000)\n",
    "user_choice = input('Enter your choice: ').capitalize()\n",
    "\n",
    "print(f'''User choice: {user_choice}\n",
    "Comp Choice: {comp_choice}''')\n",
    "\n",
    "if user_choice == comp_choice:\n",
    "    print('It\\'s a draw/tie')\n",
    "    \n",
    "elif user_choice == 'Rock':\n",
    "    if comp_choice == 'Paper':\n",
    "        print('Comp Wins You Lose!!')\n",
    "    else:\n",
    "        print('User Wins Comp Lose!!')\n",
    "        \n",
    "elif user_choice == 'Paper':\n",
    "    if comp_choice == 'Rock':\n",
    "        print('User Wins Comp Lose!!')\n",
    "    else:\n",
    "        print('Comp Wins You Lose!!')\n",
    "        \n",
    "elif user_choice == 'Scissors':\n",
    "    if comp_choice == 'Rock':\n",
    "        print('Comp Wins You Lose!!')\n",
    "    else:\n",
    "        print('User Wins Comp Lose!!')\n",
    "        \n",
    "else:\n",
    "    print('Invalid choice!!')"
   ]
  },
  {
   "cell_type": "code",
   "execution_count": null,
   "id": "64215ca9",
   "metadata": {},
   "outputs": [],
   "source": []
  },
  {
   "cell_type": "code",
   "execution_count": 99,
   "id": "9fae852e",
   "metadata": {},
   "outputs": [
    {
     "data": {
      "text/plain": [
       "'Head'"
      ]
     },
     "execution_count": 99,
     "metadata": {},
     "output_type": "execute_result"
    }
   ],
   "source": [
    "random.choice(['Head','Tail']*100)"
   ]
  },
  {
   "cell_type": "code",
   "execution_count": 109,
   "id": "adc95772",
   "metadata": {},
   "outputs": [
    {
     "name": "stdout",
     "output_type": "stream",
     "text": [
      "Your turn Player1: \n",
      "3\n",
      "Your turn Player2: \n",
      "5\n",
      "Your turn Player3: \n",
      "2\n",
      "Your turn Player4: \n",
      "6\n"
     ]
    }
   ],
   "source": [
    "p1 = input('Your turn Player1: ')\n",
    "print(random.randint(1,6))\n",
    "\n",
    "p2 = input('Your turn Player2: ')\n",
    "print(random.randint(1,6))\n",
    "\n",
    "p3 = input('Your turn Player3: ')\n",
    "print(random.randint(1,6))\n",
    "\n",
    "p4 = input('Your turn Player4: ')\n",
    "print(random.randint(1,6))\n"
   ]
  },
  {
   "cell_type": "code",
   "execution_count": 117,
   "id": "4199e4ec",
   "metadata": {},
   "outputs": [
    {
     "data": {
      "text/plain": [
       "[677, 43, 342, 32143, 567, 4554, 54, 342, 66, 54]"
      ]
     },
     "execution_count": 117,
     "metadata": {},
     "output_type": "execute_result"
    }
   ],
   "source": [
    "random.choices([23,43,32143,56,54432,54,64,342\n",
    "                ,54,67,6643,4,367,67,434,326,7,5445,45,66,43,567,7643,\n",
    "                43,565,865,432,4554,7,677],\n",
    "              k=10)"
   ]
  },
  {
   "cell_type": "code",
   "execution_count": null,
   "id": "0a223b02",
   "metadata": {},
   "outputs": [],
   "source": []
  }
 ],
 "metadata": {
  "kernelspec": {
   "display_name": "Python 3 (ipykernel)",
   "language": "python",
   "name": "python3"
  },
  "language_info": {
   "codemirror_mode": {
    "name": "ipython",
    "version": 3
   },
   "file_extension": ".py",
   "mimetype": "text/x-python",
   "name": "python",
   "nbconvert_exporter": "python",
   "pygments_lexer": "ipython3",
   "version": "3.11.3"
  }
 },
 "nbformat": 4,
 "nbformat_minor": 5
}
