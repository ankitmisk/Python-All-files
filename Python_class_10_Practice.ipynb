{
 "cells": [
  {
   "cell_type": "code",
   "execution_count": 38,
   "id": "7f749a76",
   "metadata": {},
   "outputs": [
    {
     "name": "stdout",
     "output_type": "stream",
     "text": [
      "Enter your name: krr ajay mishra\n",
      "ajay mishra\n"
     ]
    }
   ],
   "source": [
    "# Q1> Slice a student name and return complete name\n",
    "\n",
    "# 'Mr Rohan Gupta'\n",
    "\n",
    "# 'Rohan Gupta'\n",
    "\n",
    "# 'Techvidya Ajay kumar'\n",
    "\n",
    "# 'Ajay Kumar'\n",
    "\n",
    "\n",
    "name = input('Enter your name: ')\n",
    "\n",
    "print(name[name.find(' ')+1:])"
   ]
  },
  {
   "cell_type": "code",
   "execution_count": null,
   "id": "77f9c072",
   "metadata": {},
   "outputs": [],
   "source": []
  },
  {
   "cell_type": "code",
   "execution_count": 40,
   "id": "d8cbaab5",
   "metadata": {},
   "outputs": [
    {
     "name": "stdout",
     "output_type": "stream",
     "text": [
      "Enter any word: karan\n",
      "['K', 'A', 'R', 'A', 'N']\n"
     ]
    }
   ],
   "source": [
    "# Q2>> convert string into list and seperate each characters\n",
    "\n",
    "user = input('Enter any word: ')\n",
    "\n",
    "print(list(user.upper()))\n",
    "\n",
    "# print(['K','A','R','A','N'])\n"
   ]
  },
  {
   "cell_type": "code",
   "execution_count": null,
   "id": "7558bfc1",
   "metadata": {},
   "outputs": [],
   "source": []
  },
  {
   "cell_type": "code",
   "execution_count": 25,
   "id": "23f8d6e7",
   "metadata": {},
   "outputs": [
    {
     "name": "stdout",
     "output_type": "stream",
     "text": [
      "Enter your name: komal\n",
      "😊 Hello komal, How are you?? 😊\n"
     ]
    }
   ],
   "source": [
    "# Q3>> Take name from user and print like \"Hello Ajay, How are you?? with emoji\"\n",
    "name = input('Enter your name: ')\n",
    "\n",
    "greet = f'😊 Hello {name}, How are you?? 😊'\n",
    "print(greet)"
   ]
  },
  {
   "cell_type": "code",
   "execution_count": null,
   "id": "261ad241",
   "metadata": {},
   "outputs": [],
   "source": []
  },
  {
   "cell_type": "code",
   "execution_count": null,
   "id": "db5b9c98",
   "metadata": {},
   "outputs": [],
   "source": []
  },
  {
   "cell_type": "code",
   "execution_count": 30,
   "id": "0b09d982",
   "metadata": {},
   "outputs": [
    {
     "name": "stdout",
     "output_type": "stream",
     "text": [
      "Enter table no: 14\n",
      "14 x 1 = 14\n",
      "14 x 2 = 28\n",
      "14 x 3 = 42\n",
      "14 x 4 = 56\n",
      "14 x 5 = 70\n",
      "14 x 6 = 84\n",
      "14 x 7 = 98\n",
      "14 x 8 = 112\n",
      "14 x 9 = 126\n",
      "14 x 10 = 140\n"
     ]
    }
   ],
   "source": [
    "# Q4> Print table, take input from user\n",
    "\n",
    "n = int(input('Enter table no: '))\n",
    "\n",
    "print(f'{n} x {1} = {n*1}')\n",
    "print(f'{n} x {2} = {n*2}')\n",
    "print(f'{n} x {3} = {n*3}')\n",
    "print(f'{n} x {4} = {n*4}')\n",
    "print(f'{n} x {5} = {n*5}')\n",
    "print(f'{n} x {6} = {n*6}')\n",
    "print(f'{n} x {7} = {n*7}')\n",
    "print(f'{n} x {8} = {n*8}')\n",
    "print(f'{n} x {9} = {n*9}')\n",
    "print(f'{n} x {10} = {n*10}')"
   ]
  },
  {
   "cell_type": "code",
   "execution_count": 37,
   "id": "e36990c0",
   "metadata": {},
   "outputs": [
    {
     "name": "stdout",
     "output_type": "stream",
     "text": [
      "Enter your name: Akshay\n",
      "How many times: 20\n",
      "Akshay\n",
      "Akshay\n",
      "Akshay\n",
      "Akshay\n",
      "Akshay\n",
      "Akshay\n",
      "Akshay\n",
      "Akshay\n",
      "Akshay\n",
      "Akshay\n",
      "Akshay\n",
      "Akshay\n",
      "Akshay\n",
      "Akshay\n",
      "Akshay\n",
      "Akshay\n",
      "Akshay\n",
      "Akshay\n",
      "Akshay\n",
      "Akshay\n",
      "\n"
     ]
    }
   ],
   "source": [
    "# Q5>> Take name from user and print it multiple time \n",
    "\n",
    "name = input('Enter your name: ')+'\\n'\n",
    "t = int(input('How many times: '))\n",
    "\n",
    "print(name*t)"
   ]
  },
  {
   "cell_type": "code",
   "execution_count": null,
   "id": "afd06b09",
   "metadata": {},
   "outputs": [],
   "source": []
  }
 ],
 "metadata": {
  "kernelspec": {
   "display_name": "Python 3 (ipykernel)",
   "language": "python",
   "name": "python3"
  },
  "language_info": {
   "codemirror_mode": {
    "name": "ipython",
    "version": 3
   },
   "file_extension": ".py",
   "mimetype": "text/x-python",
   "name": "python",
   "nbconvert_exporter": "python",
   "pygments_lexer": "ipython3",
   "version": "3.11.3"
  }
 },
 "nbformat": 4,
 "nbformat_minor": 5
}
